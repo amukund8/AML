{
  "nbformat": 4,
  "nbformat_minor": 0,
  "metadata": {
    "colab": {
      "provenance": []
    },
    "kernelspec": {
      "name": "python3",
      "display_name": "Python 3"
    },
    "language_info": {
      "name": "python"
    }
  },
  "cells": [
    {
      "cell_type": "markdown",
      "source": [
        "Question 1: Generate operatint points and plot them on an ROC."
      ],
      "metadata": {
        "id": "68zwS7KXASUp"
      }
    },
    {
      "cell_type": "code",
      "execution_count": 1,
      "metadata": {
        "id": "4t0oho1nRQL3"
      },
      "outputs": [],
      "source": [
        "# Probability of detecting fake news\n",
        "# Evaluate probability of detection vs probability of false alarm through selecting classifier model w/ hyperparameter values\n",
        "# Produce an ROC plot presenting operating points of various classifiers and their varying hyperparameters\n",
        "\n",
        "\n",
        "import pandas as pd"
      ]
    },
    {
      "cell_type": "code",
      "source": [
        "true=pd.read_csv('disinformation_True.csv')\n",
        "fake=pd.read_csv('disinformation_Fake.csv')\n",
        "\n",
        "true.head()\n",
        "true['Class']=1\n",
        "fake['Class']=0\n",
        "\n",
        "df=pd.concat([true,fake],axis=0)\n",
        "df.head()\n"
      ],
      "metadata": {
        "colab": {
          "base_uri": "https://localhost:8080/",
          "height": 293
        },
        "id": "Rzk9GNOdX9x3",
        "outputId": "c3345aeb-9d74-4eb2-81ca-96fb10ee629a"
      },
      "execution_count": 2,
      "outputs": [
        {
          "output_type": "execute_result",
          "data": {
            "text/plain": [
              "                                               title  \\\n",
              "0  As U.S. budget fight looms, Republicans flip t...   \n",
              "1  U.S. military to accept transgender recruits o...   \n",
              "2  Senior U.S. Republican senator: 'Let Mr. Muell...   \n",
              "3  FBI Russia probe helped by Australian diplomat...   \n",
              "4  Trump wants Postal Service to charge 'much mor...   \n",
              "\n",
              "                                                text       subject  \\\n",
              "0  WASHINGTON (Reuters) - The head of a conservat...  politicsNews   \n",
              "1  WASHINGTON (Reuters) - Transgender people will...  politicsNews   \n",
              "2  WASHINGTON (Reuters) - The special counsel inv...  politicsNews   \n",
              "3  WASHINGTON (Reuters) - Trump campaign adviser ...  politicsNews   \n",
              "4  SEATTLE/WASHINGTON (Reuters) - President Donal...  politicsNews   \n",
              "\n",
              "                 date  Class  \n",
              "0  December 31, 2017       1  \n",
              "1  December 29, 2017       1  \n",
              "2  December 31, 2017       1  \n",
              "3  December 30, 2017       1  \n",
              "4  December 29, 2017       1  "
            ],
            "text/html": [
              "\n",
              "  <div id=\"df-b10c5de7-ed56-43d0-88dc-1459ee5be54c\" class=\"colab-df-container\">\n",
              "    <div>\n",
              "<style scoped>\n",
              "    .dataframe tbody tr th:only-of-type {\n",
              "        vertical-align: middle;\n",
              "    }\n",
              "\n",
              "    .dataframe tbody tr th {\n",
              "        vertical-align: top;\n",
              "    }\n",
              "\n",
              "    .dataframe thead th {\n",
              "        text-align: right;\n",
              "    }\n",
              "</style>\n",
              "<table border=\"1\" class=\"dataframe\">\n",
              "  <thead>\n",
              "    <tr style=\"text-align: right;\">\n",
              "      <th></th>\n",
              "      <th>title</th>\n",
              "      <th>text</th>\n",
              "      <th>subject</th>\n",
              "      <th>date</th>\n",
              "      <th>Class</th>\n",
              "    </tr>\n",
              "  </thead>\n",
              "  <tbody>\n",
              "    <tr>\n",
              "      <th>0</th>\n",
              "      <td>As U.S. budget fight looms, Republicans flip t...</td>\n",
              "      <td>WASHINGTON (Reuters) - The head of a conservat...</td>\n",
              "      <td>politicsNews</td>\n",
              "      <td>December 31, 2017</td>\n",
              "      <td>1</td>\n",
              "    </tr>\n",
              "    <tr>\n",
              "      <th>1</th>\n",
              "      <td>U.S. military to accept transgender recruits o...</td>\n",
              "      <td>WASHINGTON (Reuters) - Transgender people will...</td>\n",
              "      <td>politicsNews</td>\n",
              "      <td>December 29, 2017</td>\n",
              "      <td>1</td>\n",
              "    </tr>\n",
              "    <tr>\n",
              "      <th>2</th>\n",
              "      <td>Senior U.S. Republican senator: 'Let Mr. Muell...</td>\n",
              "      <td>WASHINGTON (Reuters) - The special counsel inv...</td>\n",
              "      <td>politicsNews</td>\n",
              "      <td>December 31, 2017</td>\n",
              "      <td>1</td>\n",
              "    </tr>\n",
              "    <tr>\n",
              "      <th>3</th>\n",
              "      <td>FBI Russia probe helped by Australian diplomat...</td>\n",
              "      <td>WASHINGTON (Reuters) - Trump campaign adviser ...</td>\n",
              "      <td>politicsNews</td>\n",
              "      <td>December 30, 2017</td>\n",
              "      <td>1</td>\n",
              "    </tr>\n",
              "    <tr>\n",
              "      <th>4</th>\n",
              "      <td>Trump wants Postal Service to charge 'much mor...</td>\n",
              "      <td>SEATTLE/WASHINGTON (Reuters) - President Donal...</td>\n",
              "      <td>politicsNews</td>\n",
              "      <td>December 29, 2017</td>\n",
              "      <td>1</td>\n",
              "    </tr>\n",
              "  </tbody>\n",
              "</table>\n",
              "</div>\n",
              "    <div class=\"colab-df-buttons\">\n",
              "\n",
              "  <div class=\"colab-df-container\">\n",
              "    <button class=\"colab-df-convert\" onclick=\"convertToInteractive('df-b10c5de7-ed56-43d0-88dc-1459ee5be54c')\"\n",
              "            title=\"Convert this dataframe to an interactive table.\"\n",
              "            style=\"display:none;\">\n",
              "\n",
              "  <svg xmlns=\"http://www.w3.org/2000/svg\" height=\"24px\" viewBox=\"0 -960 960 960\">\n",
              "    <path d=\"M120-120v-720h720v720H120Zm60-500h600v-160H180v160Zm220 220h160v-160H400v160Zm0 220h160v-160H400v160ZM180-400h160v-160H180v160Zm440 0h160v-160H620v160ZM180-180h160v-160H180v160Zm440 0h160v-160H620v160Z\"/>\n",
              "  </svg>\n",
              "    </button>\n",
              "\n",
              "  <style>\n",
              "    .colab-df-container {\n",
              "      display:flex;\n",
              "      gap: 12px;\n",
              "    }\n",
              "\n",
              "    .colab-df-convert {\n",
              "      background-color: #E8F0FE;\n",
              "      border: none;\n",
              "      border-radius: 50%;\n",
              "      cursor: pointer;\n",
              "      display: none;\n",
              "      fill: #1967D2;\n",
              "      height: 32px;\n",
              "      padding: 0 0 0 0;\n",
              "      width: 32px;\n",
              "    }\n",
              "\n",
              "    .colab-df-convert:hover {\n",
              "      background-color: #E2EBFA;\n",
              "      box-shadow: 0px 1px 2px rgba(60, 64, 67, 0.3), 0px 1px 3px 1px rgba(60, 64, 67, 0.15);\n",
              "      fill: #174EA6;\n",
              "    }\n",
              "\n",
              "    .colab-df-buttons div {\n",
              "      margin-bottom: 4px;\n",
              "    }\n",
              "\n",
              "    [theme=dark] .colab-df-convert {\n",
              "      background-color: #3B4455;\n",
              "      fill: #D2E3FC;\n",
              "    }\n",
              "\n",
              "    [theme=dark] .colab-df-convert:hover {\n",
              "      background-color: #434B5C;\n",
              "      box-shadow: 0px 1px 3px 1px rgba(0, 0, 0, 0.15);\n",
              "      filter: drop-shadow(0px 1px 2px rgba(0, 0, 0, 0.3));\n",
              "      fill: #FFFFFF;\n",
              "    }\n",
              "  </style>\n",
              "\n",
              "    <script>\n",
              "      const buttonEl =\n",
              "        document.querySelector('#df-b10c5de7-ed56-43d0-88dc-1459ee5be54c button.colab-df-convert');\n",
              "      buttonEl.style.display =\n",
              "        google.colab.kernel.accessAllowed ? 'block' : 'none';\n",
              "\n",
              "      async function convertToInteractive(key) {\n",
              "        const element = document.querySelector('#df-b10c5de7-ed56-43d0-88dc-1459ee5be54c');\n",
              "        const dataTable =\n",
              "          await google.colab.kernel.invokeFunction('convertToInteractive',\n",
              "                                                    [key], {});\n",
              "        if (!dataTable) return;\n",
              "\n",
              "        const docLinkHtml = 'Like what you see? Visit the ' +\n",
              "          '<a target=\"_blank\" href=https://colab.research.google.com/notebooks/data_table.ipynb>data table notebook</a>'\n",
              "          + ' to learn more about interactive tables.';\n",
              "        element.innerHTML = '';\n",
              "        dataTable['output_type'] = 'display_data';\n",
              "        await google.colab.output.renderOutput(dataTable, element);\n",
              "        const docLink = document.createElement('div');\n",
              "        docLink.innerHTML = docLinkHtml;\n",
              "        element.appendChild(docLink);\n",
              "      }\n",
              "    </script>\n",
              "  </div>\n",
              "\n",
              "\n",
              "<div id=\"df-3f5d20ea-f8a2-4a07-99d6-c0f5dd5b4c7a\">\n",
              "  <button class=\"colab-df-quickchart\" onclick=\"quickchart('df-3f5d20ea-f8a2-4a07-99d6-c0f5dd5b4c7a')\"\n",
              "            title=\"Suggest charts\"\n",
              "            style=\"display:none;\">\n",
              "\n",
              "<svg xmlns=\"http://www.w3.org/2000/svg\" height=\"24px\"viewBox=\"0 0 24 24\"\n",
              "     width=\"24px\">\n",
              "    <g>\n",
              "        <path d=\"M19 3H5c-1.1 0-2 .9-2 2v14c0 1.1.9 2 2 2h14c1.1 0 2-.9 2-2V5c0-1.1-.9-2-2-2zM9 17H7v-7h2v7zm4 0h-2V7h2v10zm4 0h-2v-4h2v4z\"/>\n",
              "    </g>\n",
              "</svg>\n",
              "  </button>\n",
              "\n",
              "<style>\n",
              "  .colab-df-quickchart {\n",
              "      --bg-color: #E8F0FE;\n",
              "      --fill-color: #1967D2;\n",
              "      --hover-bg-color: #E2EBFA;\n",
              "      --hover-fill-color: #174EA6;\n",
              "      --disabled-fill-color: #AAA;\n",
              "      --disabled-bg-color: #DDD;\n",
              "  }\n",
              "\n",
              "  [theme=dark] .colab-df-quickchart {\n",
              "      --bg-color: #3B4455;\n",
              "      --fill-color: #D2E3FC;\n",
              "      --hover-bg-color: #434B5C;\n",
              "      --hover-fill-color: #FFFFFF;\n",
              "      --disabled-bg-color: #3B4455;\n",
              "      --disabled-fill-color: #666;\n",
              "  }\n",
              "\n",
              "  .colab-df-quickchart {\n",
              "    background-color: var(--bg-color);\n",
              "    border: none;\n",
              "    border-radius: 50%;\n",
              "    cursor: pointer;\n",
              "    display: none;\n",
              "    fill: var(--fill-color);\n",
              "    height: 32px;\n",
              "    padding: 0;\n",
              "    width: 32px;\n",
              "  }\n",
              "\n",
              "  .colab-df-quickchart:hover {\n",
              "    background-color: var(--hover-bg-color);\n",
              "    box-shadow: 0 1px 2px rgba(60, 64, 67, 0.3), 0 1px 3px 1px rgba(60, 64, 67, 0.15);\n",
              "    fill: var(--button-hover-fill-color);\n",
              "  }\n",
              "\n",
              "  .colab-df-quickchart-complete:disabled,\n",
              "  .colab-df-quickchart-complete:disabled:hover {\n",
              "    background-color: var(--disabled-bg-color);\n",
              "    fill: var(--disabled-fill-color);\n",
              "    box-shadow: none;\n",
              "  }\n",
              "\n",
              "  .colab-df-spinner {\n",
              "    border: 2px solid var(--fill-color);\n",
              "    border-color: transparent;\n",
              "    border-bottom-color: var(--fill-color);\n",
              "    animation:\n",
              "      spin 1s steps(1) infinite;\n",
              "  }\n",
              "\n",
              "  @keyframes spin {\n",
              "    0% {\n",
              "      border-color: transparent;\n",
              "      border-bottom-color: var(--fill-color);\n",
              "      border-left-color: var(--fill-color);\n",
              "    }\n",
              "    20% {\n",
              "      border-color: transparent;\n",
              "      border-left-color: var(--fill-color);\n",
              "      border-top-color: var(--fill-color);\n",
              "    }\n",
              "    30% {\n",
              "      border-color: transparent;\n",
              "      border-left-color: var(--fill-color);\n",
              "      border-top-color: var(--fill-color);\n",
              "      border-right-color: var(--fill-color);\n",
              "    }\n",
              "    40% {\n",
              "      border-color: transparent;\n",
              "      border-right-color: var(--fill-color);\n",
              "      border-top-color: var(--fill-color);\n",
              "    }\n",
              "    60% {\n",
              "      border-color: transparent;\n",
              "      border-right-color: var(--fill-color);\n",
              "    }\n",
              "    80% {\n",
              "      border-color: transparent;\n",
              "      border-right-color: var(--fill-color);\n",
              "      border-bottom-color: var(--fill-color);\n",
              "    }\n",
              "    90% {\n",
              "      border-color: transparent;\n",
              "      border-bottom-color: var(--fill-color);\n",
              "    }\n",
              "  }\n",
              "</style>\n",
              "\n",
              "  <script>\n",
              "    async function quickchart(key) {\n",
              "      const quickchartButtonEl =\n",
              "        document.querySelector('#' + key + ' button');\n",
              "      quickchartButtonEl.disabled = true;  // To prevent multiple clicks.\n",
              "      quickchartButtonEl.classList.add('colab-df-spinner');\n",
              "      try {\n",
              "        const charts = await google.colab.kernel.invokeFunction(\n",
              "            'suggestCharts', [key], {});\n",
              "      } catch (error) {\n",
              "        console.error('Error during call to suggestCharts:', error);\n",
              "      }\n",
              "      quickchartButtonEl.classList.remove('colab-df-spinner');\n",
              "      quickchartButtonEl.classList.add('colab-df-quickchart-complete');\n",
              "    }\n",
              "    (() => {\n",
              "      let quickchartButtonEl =\n",
              "        document.querySelector('#df-3f5d20ea-f8a2-4a07-99d6-c0f5dd5b4c7a button');\n",
              "      quickchartButtonEl.style.display =\n",
              "        google.colab.kernel.accessAllowed ? 'block' : 'none';\n",
              "    })();\n",
              "  </script>\n",
              "</div>\n",
              "\n",
              "    </div>\n",
              "  </div>\n"
            ],
            "application/vnd.google.colaboratory.intrinsic+json": {
              "type": "dataframe",
              "variable_name": "df",
              "summary": "{\n  \"name\": \"df\",\n  \"rows\": 44898,\n  \"fields\": [\n    {\n      \"column\": \"title\",\n      \"properties\": {\n        \"dtype\": \"string\",\n        \"samples\": [\n          \" TransCanada Officially Files $15 Billion Lawsuit Against U.S. For Rejecting KXL Pipline\",\n          \"Trump accuses Mexico's Carlos Slim of trying to help Clinton\",\n          \"White House defends portrayal of 'armada' push toward Korean peninsula\"\n        ],\n        \"num_unique_values\": 38729,\n        \"semantic_type\": \"\",\n        \"description\": \"\"\n      }\n    },\n    {\n      \"column\": \"text\",\n      \"properties\": {\n        \"dtype\": \"string\",\n        \"samples\": [\n          \"Here s the fake black guy, Shaun King weighing in on how awesome it is that Bernie Sanders can now come out of the socialist closet. Because America is soooo ready (or so Shaun thinks anyhow) to embrace a socialist. Here is his tweet:#1.https://twitter.com/ShaunKing/status/654100720929632256Here is a great question from the Janie Johnson:#2.The bottom 49% of earners pay zero taxes   how much more  fair  do you want the tax system? #DemDebate  Janie Johnson (@jjauthor) October 14, 2015Truth!#3.https://twitter.com/weknowwhatsbest/status/654128633385107456And this tweet is priceless:#4.https://twitter.com/weknowwhatsbest/status/654128132295802880Some race baiters were not satisfied that enough divisive questions were posed to the candidates. How much time exactly should we giving to the issue of race during our presidential debates? Would 50% of the debate time be acceptable to the #BlackLivesMatter terrorists?The first is from #BLM activist and George Soros favorite, Deray McKesson:#5..@AndersonCooper, you were strong tonight, though I hope there are more questions about race at the next debate. #DemDebate  deray mckesson (@deray) October 14, 2015Next is from the fake black guy, Shaun King who bemoans the lack of diversity on the debate stage:#6 and #7https://twitter.com/ShaunKing/status/654095075069296640https://twitter.com/ShaunKing/status/654113225005510656And then we have the self proclaimed  Trump girls,  Diamond and Silk weighing in on the debate hilarious!#8.We out. This is not a debate. This is a disgrace. Hope .@realDonaldTrump come to save the day. #stump4trumpbaby pic.twitter.com/I1CcLL31lX  Diamond and Silk  (@DiamondandSilk) October 14, 2015Best tweet of the night goes to the Donald:#9\\\"@releafpen: Dem debate message summary = More free handouts. They will be voting in droves. We need to get out and vote Trump BIG TIME!\\\"  Donald J. Trump (@realDonaldTrump) October 14, 2015And the runners-up are Two from conservative actor James Woods:#10.Thank God money grows on trees. This bunch has no allergy to spending it. Free college not only for Americans, but anybody from anywhere  James Woods (@RealJamesWoods) October 14, 2015We actually fibbed, there are 12 favorite tweets. We save 2 of our favorites from @iowahawk for last:I got 10 bucks that more people are following the debate on Trump's Twitter feed than on CNN  David Burge (@iowahawkblog) October 14, 2015How to make college affordable: don't go  David Burge (@iowahawkblog) October 14, 2015 \",\n          \"While Trump s Secretary of State was visiting a UN base on the border of North and South Korea on Friday, the former CEO of Exxon Mobil Corp. was photographed by a Reuters photographer, while at the same time, a North Korean soldier is seen photographing the top Diplomat covertly from the outside of a window. You can t make this stuff up. And now the picture is circulating on social media.In the image, a North Korean soldier can be seen on the right-hand corner of the picture peering in through a window and photographing Tillerson and a US Army general, Business Insider reports.The photo was taken inside the Demilitarized Zone (DMZ), which was created after the Korean War on what is now the most heavily armed border in the world, and obviously the most spied upon.NBC reporter Brad Jaffy tweeted out a version of the photo, which he zoomed in on, calling it  Rear Window. Rear Window: North Korean soldier takes a photo of Rex Tillerson at the DMZ pic.twitter.com/EHCIR3Fjo6  Bradd Jaffy (@BraddJaffy) March 17, 2017The original photo can be seen here.Tillerson announced on Friday at a news conference in Seoul that military action against North Korea is  an option  if the threat from its nuclear weapons program rises to a level  that we believe requires action. Tillerson told reporters that  all of the options are on the table. According to the Korea Herald, Tillerson cut his recent visit short with South Korean officials due to  fatigue. The newspaper reported that Tillerson did not have lunch or dinner with South Korean Foreign Minister Yun Byung-se and acting President and Prime Minister Hwang Kyo-ahn during his visit there.Tillerson spent several hours meeting with Japanese officials, which included dinner meetings, the paper noted, according to The Hill.The secretary of State reportedly did hold talks with both South Korean officials regarding the threat posed by North Korea s nuclear program.And that must have been before  fatigue  set in. On Twitter, Trump said that North Korea was  behaving very badly. South Korea s Constitutional Court upheld the impeachment of former President Park Geun-hye in March over a corruption scandal. In contrast, the U.S. has failed to address its newly minted president s growing list of scandals. Tillerson, too, has his own scandal to deal with.As for the North Korean soldier spying on Tillerson, perhaps if he wore spy glasses and a fake mustache no one would have noticed. The soldier has better access to the Secretary of State than U.S. reporters do.Photo by Alex Wong/Getty Images.\",\n          \"Join Patrick every week here at 21WIRE.TV for news, views and analysis on all top stories domestically and abroad THIS WEEK: Episode 4 The New World Order  Did Great Britain regain control of its former American colonies by stealth? From Cecil Rhodes and his Round Table, to H.G. Wells, to Henry Kissinger and Zbigniew Brzezinski   many have worked to steer the world beyond the modern nation state and into Technetronic Era of global government. But to what end?Host Patrick Henningsen talks to Sean Stone, author of the new book, New World Order: A Strategy for Imperialism. Listen:   END 927 Download Link  START 999 Download Link Download this podcast  END 999 Download Link This program broadcasts LIVE every Wednesday night from 8pm to 9pm MST, right after the Savage Nation, on Independent Talk 1100 KFNX over the terrestrial AM band across the greater Phoenix and central Arizona region, and live over global satellite and online via www.1100kfnx.com.READ MORE NWO NEWS AT: 21st Century Wire NWO Files\"\n        ],\n        \"num_unique_values\": 38646,\n        \"semantic_type\": \"\",\n        \"description\": \"\"\n      }\n    },\n    {\n      \"column\": \"subject\",\n      \"properties\": {\n        \"dtype\": \"category\",\n        \"samples\": [\n          \"worldnews\",\n          \"left-news\",\n          \"politicsNews\"\n        ],\n        \"num_unique_values\": 8,\n        \"semantic_type\": \"\",\n        \"description\": \"\"\n      }\n    },\n    {\n      \"column\": \"date\",\n      \"properties\": {\n        \"dtype\": \"category\",\n        \"samples\": [\n          \"October 12, 2016 \",\n          \"June 16, 2017 \",\n          \"Oct 30, 2017\"\n        ],\n        \"num_unique_values\": 2397,\n        \"semantic_type\": \"\",\n        \"description\": \"\"\n      }\n    },\n    {\n      \"column\": \"Class\",\n      \"properties\": {\n        \"dtype\": \"number\",\n        \"std\": 0,\n        \"min\": 0,\n        \"max\": 1,\n        \"samples\": [\n          0,\n          1\n        ],\n        \"num_unique_values\": 2,\n        \"semantic_type\": \"\",\n        \"description\": \"\"\n      }\n    }\n  ]\n}"
            }
          },
          "metadata": {},
          "execution_count": 2
        }
      ]
    },
    {
      "cell_type": "code",
      "source": [
        "fake.head()"
      ],
      "metadata": {
        "colab": {
          "base_uri": "https://localhost:8080/",
          "height": 293
        },
        "id": "mvo1BuciYLI6",
        "outputId": "86f20585-b737-4233-e340-b83ffbe28720"
      },
      "execution_count": 3,
      "outputs": [
        {
          "output_type": "execute_result",
          "data": {
            "text/plain": [
              "                                               title  \\\n",
              "0   Donald Trump Sends Out Embarrassing New Year’...   \n",
              "1   Drunk Bragging Trump Staffer Started Russian ...   \n",
              "2   Sheriff David Clarke Becomes An Internet Joke...   \n",
              "3   Trump Is So Obsessed He Even Has Obama’s Name...   \n",
              "4   Pope Francis Just Called Out Donald Trump Dur...   \n",
              "\n",
              "                                                text subject  \\\n",
              "0  Donald Trump just couldn t wish all Americans ...    News   \n",
              "1  House Intelligence Committee Chairman Devin Nu...    News   \n",
              "2  On Friday, it was revealed that former Milwauk...    News   \n",
              "3  On Christmas day, Donald Trump announced that ...    News   \n",
              "4  Pope Francis used his annual Christmas Day mes...    News   \n",
              "\n",
              "                date  Class  \n",
              "0  December 31, 2017      0  \n",
              "1  December 31, 2017      0  \n",
              "2  December 30, 2017      0  \n",
              "3  December 29, 2017      0  \n",
              "4  December 25, 2017      0  "
            ],
            "text/html": [
              "\n",
              "  <div id=\"df-d3c49570-4173-432c-8640-d112b3c0a926\" class=\"colab-df-container\">\n",
              "    <div>\n",
              "<style scoped>\n",
              "    .dataframe tbody tr th:only-of-type {\n",
              "        vertical-align: middle;\n",
              "    }\n",
              "\n",
              "    .dataframe tbody tr th {\n",
              "        vertical-align: top;\n",
              "    }\n",
              "\n",
              "    .dataframe thead th {\n",
              "        text-align: right;\n",
              "    }\n",
              "</style>\n",
              "<table border=\"1\" class=\"dataframe\">\n",
              "  <thead>\n",
              "    <tr style=\"text-align: right;\">\n",
              "      <th></th>\n",
              "      <th>title</th>\n",
              "      <th>text</th>\n",
              "      <th>subject</th>\n",
              "      <th>date</th>\n",
              "      <th>Class</th>\n",
              "    </tr>\n",
              "  </thead>\n",
              "  <tbody>\n",
              "    <tr>\n",
              "      <th>0</th>\n",
              "      <td>Donald Trump Sends Out Embarrassing New Year’...</td>\n",
              "      <td>Donald Trump just couldn t wish all Americans ...</td>\n",
              "      <td>News</td>\n",
              "      <td>December 31, 2017</td>\n",
              "      <td>0</td>\n",
              "    </tr>\n",
              "    <tr>\n",
              "      <th>1</th>\n",
              "      <td>Drunk Bragging Trump Staffer Started Russian ...</td>\n",
              "      <td>House Intelligence Committee Chairman Devin Nu...</td>\n",
              "      <td>News</td>\n",
              "      <td>December 31, 2017</td>\n",
              "      <td>0</td>\n",
              "    </tr>\n",
              "    <tr>\n",
              "      <th>2</th>\n",
              "      <td>Sheriff David Clarke Becomes An Internet Joke...</td>\n",
              "      <td>On Friday, it was revealed that former Milwauk...</td>\n",
              "      <td>News</td>\n",
              "      <td>December 30, 2017</td>\n",
              "      <td>0</td>\n",
              "    </tr>\n",
              "    <tr>\n",
              "      <th>3</th>\n",
              "      <td>Trump Is So Obsessed He Even Has Obama’s Name...</td>\n",
              "      <td>On Christmas day, Donald Trump announced that ...</td>\n",
              "      <td>News</td>\n",
              "      <td>December 29, 2017</td>\n",
              "      <td>0</td>\n",
              "    </tr>\n",
              "    <tr>\n",
              "      <th>4</th>\n",
              "      <td>Pope Francis Just Called Out Donald Trump Dur...</td>\n",
              "      <td>Pope Francis used his annual Christmas Day mes...</td>\n",
              "      <td>News</td>\n",
              "      <td>December 25, 2017</td>\n",
              "      <td>0</td>\n",
              "    </tr>\n",
              "  </tbody>\n",
              "</table>\n",
              "</div>\n",
              "    <div class=\"colab-df-buttons\">\n",
              "\n",
              "  <div class=\"colab-df-container\">\n",
              "    <button class=\"colab-df-convert\" onclick=\"convertToInteractive('df-d3c49570-4173-432c-8640-d112b3c0a926')\"\n",
              "            title=\"Convert this dataframe to an interactive table.\"\n",
              "            style=\"display:none;\">\n",
              "\n",
              "  <svg xmlns=\"http://www.w3.org/2000/svg\" height=\"24px\" viewBox=\"0 -960 960 960\">\n",
              "    <path d=\"M120-120v-720h720v720H120Zm60-500h600v-160H180v160Zm220 220h160v-160H400v160Zm0 220h160v-160H400v160ZM180-400h160v-160H180v160Zm440 0h160v-160H620v160ZM180-180h160v-160H180v160Zm440 0h160v-160H620v160Z\"/>\n",
              "  </svg>\n",
              "    </button>\n",
              "\n",
              "  <style>\n",
              "    .colab-df-container {\n",
              "      display:flex;\n",
              "      gap: 12px;\n",
              "    }\n",
              "\n",
              "    .colab-df-convert {\n",
              "      background-color: #E8F0FE;\n",
              "      border: none;\n",
              "      border-radius: 50%;\n",
              "      cursor: pointer;\n",
              "      display: none;\n",
              "      fill: #1967D2;\n",
              "      height: 32px;\n",
              "      padding: 0 0 0 0;\n",
              "      width: 32px;\n",
              "    }\n",
              "\n",
              "    .colab-df-convert:hover {\n",
              "      background-color: #E2EBFA;\n",
              "      box-shadow: 0px 1px 2px rgba(60, 64, 67, 0.3), 0px 1px 3px 1px rgba(60, 64, 67, 0.15);\n",
              "      fill: #174EA6;\n",
              "    }\n",
              "\n",
              "    .colab-df-buttons div {\n",
              "      margin-bottom: 4px;\n",
              "    }\n",
              "\n",
              "    [theme=dark] .colab-df-convert {\n",
              "      background-color: #3B4455;\n",
              "      fill: #D2E3FC;\n",
              "    }\n",
              "\n",
              "    [theme=dark] .colab-df-convert:hover {\n",
              "      background-color: #434B5C;\n",
              "      box-shadow: 0px 1px 3px 1px rgba(0, 0, 0, 0.15);\n",
              "      filter: drop-shadow(0px 1px 2px rgba(0, 0, 0, 0.3));\n",
              "      fill: #FFFFFF;\n",
              "    }\n",
              "  </style>\n",
              "\n",
              "    <script>\n",
              "      const buttonEl =\n",
              "        document.querySelector('#df-d3c49570-4173-432c-8640-d112b3c0a926 button.colab-df-convert');\n",
              "      buttonEl.style.display =\n",
              "        google.colab.kernel.accessAllowed ? 'block' : 'none';\n",
              "\n",
              "      async function convertToInteractive(key) {\n",
              "        const element = document.querySelector('#df-d3c49570-4173-432c-8640-d112b3c0a926');\n",
              "        const dataTable =\n",
              "          await google.colab.kernel.invokeFunction('convertToInteractive',\n",
              "                                                    [key], {});\n",
              "        if (!dataTable) return;\n",
              "\n",
              "        const docLinkHtml = 'Like what you see? Visit the ' +\n",
              "          '<a target=\"_blank\" href=https://colab.research.google.com/notebooks/data_table.ipynb>data table notebook</a>'\n",
              "          + ' to learn more about interactive tables.';\n",
              "        element.innerHTML = '';\n",
              "        dataTable['output_type'] = 'display_data';\n",
              "        await google.colab.output.renderOutput(dataTable, element);\n",
              "        const docLink = document.createElement('div');\n",
              "        docLink.innerHTML = docLinkHtml;\n",
              "        element.appendChild(docLink);\n",
              "      }\n",
              "    </script>\n",
              "  </div>\n",
              "\n",
              "\n",
              "<div id=\"df-bf6e475b-52c7-440f-8d04-21313d1af245\">\n",
              "  <button class=\"colab-df-quickchart\" onclick=\"quickchart('df-bf6e475b-52c7-440f-8d04-21313d1af245')\"\n",
              "            title=\"Suggest charts\"\n",
              "            style=\"display:none;\">\n",
              "\n",
              "<svg xmlns=\"http://www.w3.org/2000/svg\" height=\"24px\"viewBox=\"0 0 24 24\"\n",
              "     width=\"24px\">\n",
              "    <g>\n",
              "        <path d=\"M19 3H5c-1.1 0-2 .9-2 2v14c0 1.1.9 2 2 2h14c1.1 0 2-.9 2-2V5c0-1.1-.9-2-2-2zM9 17H7v-7h2v7zm4 0h-2V7h2v10zm4 0h-2v-4h2v4z\"/>\n",
              "    </g>\n",
              "</svg>\n",
              "  </button>\n",
              "\n",
              "<style>\n",
              "  .colab-df-quickchart {\n",
              "      --bg-color: #E8F0FE;\n",
              "      --fill-color: #1967D2;\n",
              "      --hover-bg-color: #E2EBFA;\n",
              "      --hover-fill-color: #174EA6;\n",
              "      --disabled-fill-color: #AAA;\n",
              "      --disabled-bg-color: #DDD;\n",
              "  }\n",
              "\n",
              "  [theme=dark] .colab-df-quickchart {\n",
              "      --bg-color: #3B4455;\n",
              "      --fill-color: #D2E3FC;\n",
              "      --hover-bg-color: #434B5C;\n",
              "      --hover-fill-color: #FFFFFF;\n",
              "      --disabled-bg-color: #3B4455;\n",
              "      --disabled-fill-color: #666;\n",
              "  }\n",
              "\n",
              "  .colab-df-quickchart {\n",
              "    background-color: var(--bg-color);\n",
              "    border: none;\n",
              "    border-radius: 50%;\n",
              "    cursor: pointer;\n",
              "    display: none;\n",
              "    fill: var(--fill-color);\n",
              "    height: 32px;\n",
              "    padding: 0;\n",
              "    width: 32px;\n",
              "  }\n",
              "\n",
              "  .colab-df-quickchart:hover {\n",
              "    background-color: var(--hover-bg-color);\n",
              "    box-shadow: 0 1px 2px rgba(60, 64, 67, 0.3), 0 1px 3px 1px rgba(60, 64, 67, 0.15);\n",
              "    fill: var(--button-hover-fill-color);\n",
              "  }\n",
              "\n",
              "  .colab-df-quickchart-complete:disabled,\n",
              "  .colab-df-quickchart-complete:disabled:hover {\n",
              "    background-color: var(--disabled-bg-color);\n",
              "    fill: var(--disabled-fill-color);\n",
              "    box-shadow: none;\n",
              "  }\n",
              "\n",
              "  .colab-df-spinner {\n",
              "    border: 2px solid var(--fill-color);\n",
              "    border-color: transparent;\n",
              "    border-bottom-color: var(--fill-color);\n",
              "    animation:\n",
              "      spin 1s steps(1) infinite;\n",
              "  }\n",
              "\n",
              "  @keyframes spin {\n",
              "    0% {\n",
              "      border-color: transparent;\n",
              "      border-bottom-color: var(--fill-color);\n",
              "      border-left-color: var(--fill-color);\n",
              "    }\n",
              "    20% {\n",
              "      border-color: transparent;\n",
              "      border-left-color: var(--fill-color);\n",
              "      border-top-color: var(--fill-color);\n",
              "    }\n",
              "    30% {\n",
              "      border-color: transparent;\n",
              "      border-left-color: var(--fill-color);\n",
              "      border-top-color: var(--fill-color);\n",
              "      border-right-color: var(--fill-color);\n",
              "    }\n",
              "    40% {\n",
              "      border-color: transparent;\n",
              "      border-right-color: var(--fill-color);\n",
              "      border-top-color: var(--fill-color);\n",
              "    }\n",
              "    60% {\n",
              "      border-color: transparent;\n",
              "      border-right-color: var(--fill-color);\n",
              "    }\n",
              "    80% {\n",
              "      border-color: transparent;\n",
              "      border-right-color: var(--fill-color);\n",
              "      border-bottom-color: var(--fill-color);\n",
              "    }\n",
              "    90% {\n",
              "      border-color: transparent;\n",
              "      border-bottom-color: var(--fill-color);\n",
              "    }\n",
              "  }\n",
              "</style>\n",
              "\n",
              "  <script>\n",
              "    async function quickchart(key) {\n",
              "      const quickchartButtonEl =\n",
              "        document.querySelector('#' + key + ' button');\n",
              "      quickchartButtonEl.disabled = true;  // To prevent multiple clicks.\n",
              "      quickchartButtonEl.classList.add('colab-df-spinner');\n",
              "      try {\n",
              "        const charts = await google.colab.kernel.invokeFunction(\n",
              "            'suggestCharts', [key], {});\n",
              "      } catch (error) {\n",
              "        console.error('Error during call to suggestCharts:', error);\n",
              "      }\n",
              "      quickchartButtonEl.classList.remove('colab-df-spinner');\n",
              "      quickchartButtonEl.classList.add('colab-df-quickchart-complete');\n",
              "    }\n",
              "    (() => {\n",
              "      let quickchartButtonEl =\n",
              "        document.querySelector('#df-bf6e475b-52c7-440f-8d04-21313d1af245 button');\n",
              "      quickchartButtonEl.style.display =\n",
              "        google.colab.kernel.accessAllowed ? 'block' : 'none';\n",
              "    })();\n",
              "  </script>\n",
              "</div>\n",
              "\n",
              "    </div>\n",
              "  </div>\n"
            ],
            "application/vnd.google.colaboratory.intrinsic+json": {
              "type": "dataframe",
              "variable_name": "fake",
              "summary": "{\n  \"name\": \"fake\",\n  \"rows\": 23481,\n  \"fields\": [\n    {\n      \"column\": \"title\",\n      \"properties\": {\n        \"dtype\": \"string\",\n        \"samples\": [\n          \" Fox News Mocked Into Oblivion After This F*cking STUPID Attempt To Make Steve Bannon Look Sane (TWEETS)\",\n          \"BREAKING: FL GOV RICK SCOTT Calls for FBI Director to Resign\",\n          \" WATCH: Mike Pence\\u2019s Photo Op With Puerto Rico Survivors Just Went TERRIBLY Wrong (VIDEO)\"\n        ],\n        \"num_unique_values\": 17903,\n        \"semantic_type\": \"\",\n        \"description\": \"\"\n      }\n    },\n    {\n      \"column\": \"text\",\n      \"properties\": {\n        \"dtype\": \"string\",\n        \"samples\": [\n          \"The moral decay continues The Kapiolani Medical Center for Women and Children at the University of Hawaii is currently recruiting pregnant girls and women to participate in second-trimester abortions to measure their bleeding during the operation, with and without antihemorrhagic drugs. According to the Clinical Trials website, run by the National Institutes of Health, participants must be at least 14 years old and 18-24 weeks pregnant.The controversial study, led by Bliss Kaneshiro, MD and Kate Whitehouse, DO, will monitor bleeding during D&E abortions to determine the effects of the drug oxytocin, commonly used to minimize blood loss and decrease the risk of hemorrhage.The clinical trial, called  Effects of Oxytocin on Bleeding Outcomes during Dilation and Evacuation  began in October 2014 and is a collaboration between UH, Society of Family Planning and the University of Washington.The Society of Family Planning funds a number of similar research projects, such as experimenting with the dosage of Misoprostol, a uterine contracting agent, prior to surgical abortions at 13-18 weeks and exploring umbilical cord injections to produce fetal death prior to late-term abortions.In the UH study, researchers will carry out a  randomized, double-blinded, placebo-controlled trials,  to determine the effect of oxytocin s use on uterine bleeding, meaning that they will either provide or deny intravenous oxytocin to the women.Reports suggest that some doctors are concerned that withholding oxytocin during surgery may put patients, especially teen girls, at risk. This study is reminiscent of Nazi concentration camp experiments. I pity the poor women who are being treated like lab rats, especially those who are denied the drug to reduce hemorrhaging,  said Troy Newman, President of Operation Rescue.Dilation and evacuation abortions are surgical procedures that involve dismembering the pre-born baby with forceps, scraping the inside of the uterus with a curette to remove any residuals and finally suctioning out the womb to make sure the contents are completely removed.After the abortion, the corpse of the fetus is reassembled and examined to ensure everything was successfully removed and that the abortion was complete.The study is hoping to attract up to 166 test subjects and is expected to conclude in July 2015.Via: Breitbart News\",\n          \"CNN was quick to scoop up Corey Lewandowski after Donald Trump kicked him out of his role as campaign manager, but his first week on the job is going pretty much exactly how you would expect it to go   terribly.Not only has Lewandowski proven himself to be pretty much like a paid spokesman for Trump, but his defense of the disgraced GOP candidate isn t being received well. Earlier this week, Lewandowski revealed that he was under contract and couldn t criticize The Donald, even after being fired from the campaign. Today, Lewandowski got called out by Hillary Clinton surrogate Christine Quinn for hyping Trump up to be an expert on the Brexit decision   a suggestion that was clearly false.On Monday s edition of CNN s New Day, Lewandowski made another pathetic defense of Trump by trying to reframe the candidate s disgusting reaction to Brexit, where he mostly spoke about how much the decision would be good for his Scotland golf resort. Lewandowski s defense was: Obviously the U.S. dollar has become much stronger now against the British pound. If you re going to spend money in Europe, now would actually be a good time to go with the fall of the pound.What you have is a world view, so what you have is someone who is saying,  Let s look at this from the U.S. perspective. If you want to go and travel overseas   just from a monetary perspective   now is the right time to do that because what you re getting is more for your dollar. Quinn wasn t having it. She ripped into Lewandowski, firing back, Donald Trump is not running to be travel agent of the world, he s running to be president of the United States.  She continued: What he said wasn t a commentary on international markets, it was,  When the pound goes down, more people will come to my golf course. Donald Trump s main concern isn t the international markets, it isn t the impact that Brexit will have on hard working Americans  401Ks, it s himself. How can he make more money, how can he put more money in his bank account? Lewandowski compared the Brexit decision to Trump s rise in the GOP, and Quinn once again called him out and put him back in his place. She said: Trump touted that he saw this coming. That s ridiculous because when he was first asked about Brexit by the press, he didn t appear to know what it was. Lewandowski tried to counter by insisting that People are too smart, they are tired of being told what to do.  He then tried to commend Trump for being a selfish moron: You know what Donald Trump said about Brexit? What he said was, you don t have to listen to me because it s not my decision. He didn t weigh in like Hillary Clinton did, like Barack Obama did, saying that you can t do this. Quinn fought back, Because he didn t know what it was. Lewandowski was fighting a losing battle. Trump s reaction to Brexit was just as terrifying as it was humorous   it truly proved that Trump knows nothing about foreign affairs, and hasn t spent any time educating himself since the beginning of his presidential candidacy. If only some of the hours he spent getting into fights on Twitter were being used for learning about how the world works. But instead, he once again exposed himself as an unfit choice for President. And when people like Lewandowski try to make sense of his idiocy, they only make themselves look equally foolish.You can watch the embarrassing video below:Featured image via screen capture\",\n          \"A Michigan woman decided to defend against tyranny? when she and another shopper couldn t agree over who got to buy the last notebook on the shelf at the Novi Towne Center store.According to ABC 13, the brawl   yes, brawl    involved two Farmington Hills residents, ages 46 and 32, and a mother and daughter from South Lyon, ages 51 and 20. In other words, these were all grown adults who should have known better but hey   there was only one notebook on the shelf, and we ve all seen what happens in those post-apocalyptic movies when a store is down to the last gallon of milk, right?Two of the women, one of whom was the unnamed 20-year-old, reached for the notebook at the same time. The 46 and 32-year-olds apparently decided that she wasn t getting their goddamn notebook and began pulling her hair.Then, because this had almost hit peak  trailer park,  the 20-year-old s mother decided to go for bonus points by pulling out her gun. Fortunately, someone pushed her aside before she could do any harm.This is one of the NRA s  responsible gun owners  (conservatives can t dismiss this one, as it is confirmed that she is a concealed carry permit holder)   ready to leap into action at the most minor sign of danger and make things worse by turning the situation potentially deadly.Watch it happen below:Featured image via screengrab\"\n        ],\n        \"num_unique_values\": 17455,\n        \"semantic_type\": \"\",\n        \"description\": \"\"\n      }\n    },\n    {\n      \"column\": \"subject\",\n      \"properties\": {\n        \"dtype\": \"category\",\n        \"samples\": [\n          \"News\",\n          \"politics\",\n          \"Middle-east\"\n        ],\n        \"num_unique_values\": 6,\n        \"semantic_type\": \"\",\n        \"description\": \"\"\n      }\n    },\n    {\n      \"column\": \"date\",\n      \"properties\": {\n        \"dtype\": \"category\",\n        \"samples\": [\n          \"Jun 5, 2015\",\n          \"August 28, 2016\",\n          \"June 3, 2017\"\n        ],\n        \"num_unique_values\": 1681,\n        \"semantic_type\": \"\",\n        \"description\": \"\"\n      }\n    },\n    {\n      \"column\": \"Class\",\n      \"properties\": {\n        \"dtype\": \"number\",\n        \"std\": 0,\n        \"min\": 0,\n        \"max\": 0,\n        \"samples\": [\n          0\n        ],\n        \"num_unique_values\": 1,\n        \"semantic_type\": \"\",\n        \"description\": \"\"\n      }\n    }\n  ]\n}"
            }
          },
          "metadata": {},
          "execution_count": 3
        }
      ]
    },
    {
      "cell_type": "code",
      "source": [
        "from sklearn.feature_extraction.text import TfidfVectorizer\n",
        "\n",
        "X = TfidfVectorizer(stop_words='english',\n",
        "max_features=50).fit_transform(df['title'])"
      ],
      "metadata": {
        "id": "clGylahYaErN"
      },
      "execution_count": 4,
      "outputs": []
    },
    {
      "cell_type": "code",
      "source": [
        "print(X)"
      ],
      "metadata": {
        "colab": {
          "base_uri": "https://localhost:8080/"
        },
        "id": "bDfigm_CcG0E",
        "outputId": "fc0a3aa9-2429-4df1-c58d-b5250a0c377e"
      },
      "execution_count": 5,
      "outputs": [
        {
          "output_type": "stream",
          "name": "stdout",
          "text": [
            "  (0, 36)\t1.0\n",
            "  (2, 35)\t1.0\n",
            "  (3, 37)\t0.6482942121424186\n",
            "  (3, 16)\t0.7613899227745539\n",
            "  (4, 44)\t1.0\n",
            "  (5, 21)\t0.6933266637505585\n",
            "  (5, 49)\t0.7206234365690031\n",
            "  (6, 39)\t0.5785952075683282\n",
            "  (6, 44)\t0.34961560922819407\n",
            "  (6, 37)\t0.7368829700589924\n",
            "  (7, 44)\t1.0\n",
            "  (8, 44)\t1.0\n",
            "  (9, 9)\t1.0\n",
            "  (10, 40)\t1.0\n",
            "  (11, 43)\t0.7695333033187948\n",
            "  (11, 27)\t0.6386066826171364\n",
            "  (12, 8)\t0.6825935551863762\n",
            "  (12, 20)\t0.644292307845383\n",
            "  (12, 44)\t0.34489630393684084\n",
            "  (13, 42)\t0.780052010944577\n",
            "  (13, 44)\t0.6257146795635544\n",
            "  (14, 43)\t0.6790327879359447\n",
            "  (14, 27)\t0.563503716111942\n",
            "  (14, 39)\t0.47050827286666314\n",
            "  (15, 14)\t1.0\n",
            "  :\t:\n",
            "  (44859, 13)\t0.9165483435730883\n",
            "  (44859, 44)\t0.3999239101296993\n",
            "  (44860, 16)\t1.0\n",
            "  (44862, 10)\t1.0\n",
            "  (44864, 39)\t1.0\n",
            "  (44865, 16)\t1.0\n",
            "  (44867, 33)\t1.0\n",
            "  (44870, 25)\t1.0\n",
            "  (44871, 47)\t1.0\n",
            "  (44876, 46)\t0.45207484862483555\n",
            "  (44876, 16)\t0.8919800060768358\n",
            "  (44877, 25)\t1.0\n",
            "  (44878, 19)\t1.0\n",
            "  (44880, 39)\t1.0\n",
            "  (44882, 42)\t1.0\n",
            "  (44883, 27)\t1.0\n",
            "  (44884, 39)\t1.0\n",
            "  (44888, 22)\t1.0\n",
            "  (44891, 27)\t1.0\n",
            "  (44892, 8)\t0.7272148832586516\n",
            "  (44892, 20)\t0.6864098728654081\n",
            "  (44893, 22)\t1.0\n",
            "  (44895, 42)\t1.0\n",
            "  (44896, 0)\t0.7192091689413896\n",
            "  (44896, 5)\t0.6947936177820258\n"
          ]
        }
      ]
    },
    {
      "cell_type": "code",
      "source": [
        "y=df['Class']\n",
        "y=y.values\n",
        "print(type(y))"
      ],
      "metadata": {
        "colab": {
          "base_uri": "https://localhost:8080/"
        },
        "id": "IyW-PH8ke15r",
        "outputId": "7a13aff5-de57-4afc-cd2d-96d6f6f38a07"
      },
      "execution_count": 6,
      "outputs": [
        {
          "output_type": "stream",
          "name": "stdout",
          "text": [
            "<class 'numpy.ndarray'>\n"
          ]
        }
      ]
    },
    {
      "cell_type": "code",
      "source": [
        "from sklearn.model_selection import train_test_split\n",
        "from sklearn.ensemble import RandomForestClassifier\n",
        "from sklearn.metrics import accuracy_score\n",
        "from sklearn.metrics import confusion_matrix\n",
        "\n",
        "X_train, X_test, y_train, y_test = train_test_split(X, y, test_size=0.2, random_state=42)\n",
        "\n",
        "# Sanity Check\n",
        "rf_classifier = RandomForestClassifier(n_estimators=100, random_state=42)\n",
        "rf_classifier.fit(X_train, y_train)\n",
        "\n",
        "# Making predictions\n",
        "predictions = rf_classifier.predict(X_test)\n",
        "tn, fp, fn, tp = confusion_matrix(y_test, predictions).ravel()\n",
        "\n",
        "# Evaluating the model\n",
        "accuracy = accuracy_score(y_test, predictions)\n",
        "print(\"Accuracy:\", accuracy)\n"
      ],
      "metadata": {
        "colab": {
          "base_uri": "https://localhost:8080/"
        },
        "id": "FllJpOlhckTq",
        "outputId": "30e441c3-85c1-45c2-e61d-37cfdcd11147"
      },
      "execution_count": 7,
      "outputs": [
        {
          "output_type": "stream",
          "name": "stdout",
          "text": [
            "Accuracy: 0.8261692650334076\n"
          ]
        }
      ]
    },
    {
      "cell_type": "code",
      "source": [
        "# TPR and FPR\n",
        "FPR, TPR = [], []\n",
        "TPR += [tp/(tp+fn)]  # Pd\n",
        "FPR += [fp/(fp+tn)]  # Pf\n",
        "\n",
        "print(f'Accuracy: {accuracy}, TPR: {TPR[-1]:6.3f}, FPR:  {FPR[-1]:6.3f}')\n"
      ],
      "metadata": {
        "colab": {
          "base_uri": "https://localhost:8080/"
        },
        "id": "5dzvI4a4fDbs",
        "outputId": "241c279a-5388-4d47-efe2-9c45c326eb42"
      },
      "execution_count": 8,
      "outputs": [
        {
          "output_type": "stream",
          "name": "stdout",
          "text": [
            "Accuracy: 0.8261692650334076, TPR:  0.932, FPR:   0.272\n"
          ]
        }
      ]
    },
    {
      "cell_type": "code",
      "source": [
        "len(y)"
      ],
      "metadata": {
        "colab": {
          "base_uri": "https://localhost:8080/"
        },
        "id": "OFXGLGvrkb3y",
        "outputId": "5a92abb3-3559-47e9-e198-63422c10fff8"
      },
      "execution_count": 9,
      "outputs": [
        {
          "output_type": "execute_result",
          "data": {
            "text/plain": [
              "44898"
            ]
          },
          "metadata": {},
          "execution_count": 9
        }
      ]
    },
    {
      "cell_type": "code",
      "source": [],
      "metadata": {
        "id": "-GLt8BHzkn63"
      },
      "execution_count": 9,
      "outputs": []
    },
    {
      "cell_type": "code",
      "source": [
        "from sklearn.model_selection import KFold\n",
        "from sklearn.ensemble import RandomForestClassifier\n",
        "import numpy as np\n",
        "from sklearn.metrics import confusion_matrix\n",
        "from sklearn.metrics import accuracy_score  # f1_score can be used too\n",
        "\n",
        "\n",
        "# Cross Validation Sanity Check\n",
        "\n",
        "# 10-fold cross validation\n",
        "Accuracies = []\n",
        "kfold = KFold(n_splits=10,shuffle=True)\n",
        "for train_index, test_index in kfold.split(X,y):\n",
        "\n",
        "    X_train=X[train_index]\n",
        "    X_test=X[test_index]\n",
        "    y_train=y[train_index]\n",
        "    y_test=y[test_index]\n",
        "\n",
        "    rf_classifier = RandomForestClassifier(n_estimators=100, random_state=42)\n",
        "    rf_classifier.fit(X_train, y_train)\n",
        "\n",
        "    # Making predictions\n",
        "    predictions = rf_classifier.predict(X_test)\n",
        "    tn, fp, fn, tp = confusion_matrix(y_test, predictions).ravel()\n",
        "\n",
        "    # Evaluating the model\n",
        "    accuracy = accuracy_score(y_test, predictions)\n",
        "    print(\"Accuracy:\", accuracy)\n",
        "    Accuracies += [accuracy]\n",
        "\n",
        "     # TPR and FPR\n",
        "    FPR, TPR = [], []\n",
        "    TPR += [tp/(tp+fn)]  # Pd\n",
        "    FPR += [fp/(fp+tn)]  # Pf\n",
        "\n",
        "print(f'10-fold cross validation accuracy is {np.mean(Accuracies):.3f}')"
      ],
      "metadata": {
        "colab": {
          "base_uri": "https://localhost:8080/"
        },
        "id": "fea2nKN7hZKo",
        "outputId": "6725fa86-e04f-421e-cf9e-cad546d170d2"
      },
      "execution_count": 10,
      "outputs": [
        {
          "output_type": "stream",
          "name": "stdout",
          "text": [
            "Accuracy: 0.8140311804008908\n",
            "Accuracy: 0.833184855233853\n",
            "Accuracy: 0.8198218262806236\n",
            "Accuracy: 0.8135857461024499\n",
            "Accuracy: 0.812249443207127\n",
            "Accuracy: 0.82271714922049\n",
            "Accuracy: 0.820489977728285\n",
            "Accuracy: 0.8131403118040089\n",
            "Accuracy: 0.819781688572065\n",
            "Accuracy: 0.819781688572065\n",
            "10-fold cross validation accuracy is 0.819\n"
          ]
        }
      ]
    },
    {
      "cell_type": "code",
      "source": [
        "tprmean=np.mean([TPR])\n",
        "fprmean=np.mean([FPR])\n",
        "print(tprmean,fprmean)"
      ],
      "metadata": {
        "colab": {
          "base_uri": "https://localhost:8080/"
        },
        "id": "G8qXyA0-lypc",
        "outputId": "3e07f101-b30d-4bff-98b2-01934e990bf0"
      },
      "execution_count": 11,
      "outputs": [
        {
          "output_type": "stream",
          "name": "stdout",
          "text": [
            "0.9328671328671329 0.2837030716723549\n"
          ]
        }
      ]
    },
    {
      "cell_type": "code",
      "source": [
        "'''from sklearn.pipeline import make_pipeline\n",
        "from sklearn.preprocessing import StandardScaler\n",
        "# Parameter to vary for Logistic Regression\n",
        "estimators = list(range(10, 300,30))\n",
        "\n",
        "# Let's vary C and generate training/testing sessions to collect data for ROC\n",
        "print('Test Acc', 'Number of Estimators', 'TPR','FPR')\n",
        "FPR, TPR = [], []\n",
        "for estimator in estimators:\n",
        "  pipe_lr = make_pipeline(StandardScaler(with_mean=False),\n",
        "                          RandomForestClassifier(random_state=42,\n",
        "                                                  n_estimators=estimator))\n",
        "  kfold = KFold(n_splits=10,shuffle=True)\n",
        "  tpr_avg=0\n",
        "  fpr_avg=0\n",
        "  acc_avg=0\n",
        "  for train_index, test_index in kfold.split(X,y):\n",
        "\n",
        "    X_train=X[train_index]\n",
        "    X_test=X[test_index]\n",
        "    y_train=y[train_index]\n",
        "    y_test=y[test_index]\n",
        "\n",
        "    pipe_lr.fit(X_train, y_train)\n",
        "    y_pred = pipe_lr.predict(X_test)\n",
        "    accuracy=pipe_lr.score(X_test, y_test)\n",
        "    tn, fp, fn, tp = confusion_matrix(y_test, y_pred).ravel()\n",
        "    tpr=tp/(tp+fn)\n",
        "    fpr=fp/(fp+tn)\n",
        "    tpr_avg+=tpr\n",
        "    fpr_avg+=fpr\n",
        "    acc_avg+=accuracy\n",
        "  tpr_avg=tpr_avg/10\n",
        "  fpr_avg=fpr_avg/10\n",
        "  TPR.append(tpr_avg)\n",
        "  FPR.append(fpr_avg)\n",
        "  accuracy=acc_avg/10\n",
        "  print(f'Accuracy: {accuracy}',f'Number of estimators: {estimator}',f'TPR: {TPR[-1]}',f'FPR: {FPR[-1]}')\n",
        "\n",
        "\n",
        "\n",
        "'''\n",
        "\n",
        "\n",
        "\n",
        "\n",
        "\n",
        "\n"
      ],
      "metadata": {
        "colab": {
          "base_uri": "https://localhost:8080/",
          "height": 191
        },
        "id": "ck-I_413l_K1",
        "outputId": "ed27910b-bcf5-4889-b20f-c9b1a7b8c838"
      },
      "execution_count": 12,
      "outputs": [
        {
          "output_type": "execute_result",
          "data": {
            "text/plain": [
              "\"from sklearn.pipeline import make_pipeline\\nfrom sklearn.preprocessing import StandardScaler\\n# Parameter to vary for Logistic Regression\\nestimators = list(range(10, 300,30))\\n\\n# Let's vary C and generate training/testing sessions to collect data for ROC\\nprint('Test Acc', 'Number of Estimators', 'TPR','FPR')\\nFPR, TPR = [], []\\nfor estimator in estimators:\\n  pipe_lr = make_pipeline(StandardScaler(with_mean=False),\\n                          RandomForestClassifier(random_state=42,\\n                                                  n_estimators=estimator))\\n  kfold = KFold(n_splits=10,shuffle=True)\\n  tpr_avg=0\\n  fpr_avg=0\\n  acc_avg=0\\n  for train_index, test_index in kfold.split(X,y):\\n\\n    X_train=X[train_index]\\n    X_test=X[test_index]\\n    y_train=y[train_index]\\n    y_test=y[test_index]\\n\\n    pipe_lr.fit(X_train, y_train)\\n    y_pred = pipe_lr.predict(X_test)\\n    accuracy=pipe_lr.score(X_test, y_test)\\n    tn, fp, fn, tp = confusion_matrix(y_test, y_pred).ravel()\\n    tpr=tp/(tp+fn)\\n    fpr=fp/(fp+tn)\\n    tpr_avg+=tpr\\n    fpr_avg+=fpr\\n    acc_avg+=accuracy\\n  tpr_avg=tpr_avg/10\\n  fpr_avg=fpr_avg/10\\n  TPR.append(tpr_avg)\\n  FPR.append(fpr_avg)\\n  accuracy=acc_avg/10\\n  print(f'Accuracy: {accuracy}',f'Number of estimators: {estimator}',f'TPR: {TPR[-1]}',f'FPR: {FPR[-1]}')\\n\\n\\n\\n\""
            ],
            "application/vnd.google.colaboratory.intrinsic+json": {
              "type": "string"
            }
          },
          "metadata": {},
          "execution_count": 12
        }
      ]
    },
    {
      "cell_type": "code",
      "source": [
        "from sklearn.pipeline import make_pipeline\n",
        "from sklearn.preprocessing import StandardScaler\n",
        "# Parameter to vary for Logistic Regression\n",
        "num_features = list(range(3, 20,5))\n",
        "\n",
        "# Let's vary C and generate training/testing sessions to collect data for ROC\n",
        "print('Test Acc', 'Number of Features', 'TPR','FPR')\n",
        "FPRrf1, TPRrf1= [], []\n",
        "for num in num_features:\n",
        "  pipe_lr = RandomForestClassifier(random_state=42,\n",
        "                                                  n_estimators=100,\n",
        "                                                 max_features=num)\n",
        "  kfold = KFold(n_splits=10,shuffle=True)\n",
        "  tpr_avg=0\n",
        "  fpr_avg=0\n",
        "  acc_avg=0\n",
        "  for train_index, test_index in kfold.split(X,y):\n",
        "\n",
        "    X_train=X[train_index]\n",
        "    X_test=X[test_index]\n",
        "    y_train=y[train_index]\n",
        "    y_test=y[test_index]\n",
        "\n",
        "    pipe_lr.fit(X_train, y_train)\n",
        "    y_pred = pipe_lr.predict(X_test)\n",
        "    accuracy=pipe_lr.score(X_test, y_test)\n",
        "    tn, fp, fn, tp = confusion_matrix(y_test, y_pred).ravel()\n",
        "    tpr=tp/(tp+fn)\n",
        "    fpr=fp/(fp+tn)\n",
        "    tpr_avg+=tpr\n",
        "    fpr_avg+=fpr\n",
        "    acc_avg+=accuracy\n",
        "  tpr_avg=tpr_avg/10\n",
        "  fpr_avg=fpr_avg/10\n",
        "  TPRrf1.append(tpr_avg)\n",
        "  FPRrf1.append(fpr_avg)\n",
        "  accuracyrf1=acc_avg/10\n",
        "  print(f'Accuracy: {accuracyrf1}',f'Number of Features: {num}',f'TPR: {TPRrf1[-1]}',f'FPR: {FPRrf1[-1]}')\n",
        "\n",
        "\n",
        "\n",
        "\n",
        "\n",
        "\n",
        "\n",
        "\n",
        "\n",
        "\n"
      ],
      "metadata": {
        "colab": {
          "base_uri": "https://localhost:8080/"
        },
        "id": "KgRS_vgzvI8f",
        "outputId": "58129454-74d4-4a0c-d49a-82dcb379e59c"
      },
      "execution_count": 13,
      "outputs": [
        {
          "output_type": "stream",
          "name": "stdout",
          "text": [
            "Test Acc Number of Features TPR FPR\n",
            "Accuracy: 0.8184999511302312 Number of Features: 3 TPR: 0.9325706535336418 FPR: 0.28557271175194343\n",
            "Accuracy: 0.8186112749750565 Number of Features: 8 TPR: 0.9333988476198993 FPR: 0.2860688992020042\n",
            "Accuracy: 0.8180318928576213 Number of Features: 13 TPR: 0.9325079866177797 FPR: 0.28630778859533\n",
            "Accuracy: 0.8190786485747641 Number of Features: 18 TPR: 0.9337969211821614 FPR: 0.285508220046125\n"
          ]
        }
      ]
    },
    {
      "cell_type": "code",
      "source": [
        "from sklearn.tree import DecisionTreeClassifier\n",
        "# Parameter to vary for Decision Tree Classifier\n",
        "depth = list(range(3, 23))\n",
        "\n",
        "# Let's vary C and generate training/testing sessions to collect data for ROC\n",
        "print('Test Acc', 'Number of Features', 'TPR','FPR')\n",
        "FPRdt1, TPRdt1= [], []\n",
        "for item in depth:\n",
        "  pipe_lr = DecisionTreeClassifier(random_state=42,\n",
        "                                                 max_depth=item)\n",
        "  kfold = KFold(n_splits=10,shuffle=True)\n",
        "  tpr_avg=0\n",
        "  fpr_avg=0\n",
        "  acc_avg=0\n",
        "  for train_index, test_index in kfold.split(X,y):\n",
        "\n",
        "    X_train=X[train_index]\n",
        "    X_test=X[test_index]\n",
        "    y_train=y[train_index]\n",
        "    y_test=y[test_index]\n",
        "\n",
        "    pipe_lr.fit(X_train, y_train)\n",
        "    y_pred = pipe_lr.predict(X_test)\n",
        "    accuracy=pipe_lr.score(X_test, y_test)\n",
        "    tn, fp, fn, tp = confusion_matrix(y_test, y_pred).ravel()\n",
        "    tpr=tp/(tp+fn)\n",
        "    fpr=fp/(fp+tn)\n",
        "    tpr_avg+=tpr\n",
        "    fpr_avg+=fpr\n",
        "    acc_avg+=accuracy\n",
        "  tpr_avg=tpr_avg/10\n",
        "  fpr_avg=fpr_avg/10\n",
        "  TPRdt1.append(tpr_avg)\n",
        "  FPRdt1.append(fpr_avg)\n",
        "  accuracydt1=acc_avg/10\n",
        "  print(f'Accuracy: {accuracydt1}',f'Max Depth: {item}',f'TPR: {TPRdt1[-1]}',f'FPR: {FPRdt1[-1]}')\n",
        "\n",
        "\n",
        "\n",
        "\n",
        "\n",
        "\n",
        "\n",
        "\n",
        "\n",
        "\n"
      ],
      "metadata": {
        "colab": {
          "base_uri": "https://localhost:8080/"
        },
        "id": "G4VsGW3_1m7a",
        "outputId": "71e486e5-9e14-460a-f077-05607350447c"
      },
      "execution_count": 14,
      "outputs": [
        {
          "output_type": "stream",
          "name": "stdout",
          "text": [
            "Test Acc Number of Features TPR FPR\n",
            "Accuracy: 0.7137511739907648 Max Depth: 3 TPR: 0.9950930839093133 FPR: 0.542828193586688\n",
            "Accuracy: 0.7318588621232499 Max Depth: 4 TPR: 0.9939285666036553 FPR: 0.5071605316995544\n",
            "Accuracy: 0.7319037478895454 Max Depth: 5 TPR: 0.9940779254101099 FPR: 0.5071246170312305\n",
            "Accuracy: 0.7488528900886651 Max Depth: 6 TPR: 0.9678661235362407 FPR: 0.45093344820818054\n",
            "Accuracy: 0.7591651307005842 Max Depth: 7 TPR: 0.9717722378180355 FPR: 0.4347156505801342\n",
            "Accuracy: 0.7681857805345509 Max Depth: 8 TPR: 0.9728713767544079 FPR: 0.4184885654582732\n",
            "Accuracy: 0.7756468397632222 Max Depth: 9 TPR: 0.9719441231998557 FPR: 0.4034356782324234\n",
            "Accuracy: 0.7817945177546103 Max Depth: 10 TPR: 0.9696552969321509 FPR: 0.38950333265651305\n",
            "Accuracy: 0.787028549371614 Max Depth: 11 TPR: 0.9687851265521514 FPR: 0.37868446808303713\n",
            "Accuracy: 0.79237356745839 Max Depth: 12 TPR: 0.9680609891097435 FPR: 0.36788197213765955\n",
            "Accuracy: 0.7977862093977807 Max Depth: 13 TPR: 0.9637263285293226 FPR: 0.3534915734895046\n",
            "Accuracy: 0.8021071900081415 Max Depth: 14 TPR: 0.962040419371181 FPR: 0.34374218086488395\n",
            "Accuracy: 0.8017730696317302 Max Depth: 15 TPR: 0.9620177054052815 FPR: 0.3442717661592598\n",
            "Accuracy: 0.8031982956606125 Max Depth: 16 TPR: 0.9612738168816065 FPR: 0.3409181187927728\n",
            "Accuracy: 0.8072300466222556 Max Depth: 17 TPR: 0.9572563091745654 FPR: 0.32963332384787924\n",
            "Accuracy: 0.8070515305664279 Max Depth: 18 TPR: 0.9549846058073543 FPR: 0.32787164202514346\n",
            "Accuracy: 0.808276846991979 Max Depth: 19 TPR: 0.9559362630022614 FPR: 0.32636256098376953\n",
            "Accuracy: 0.8092562914245711 Max Depth: 20 TPR: 0.9543859414493909 FPR: 0.3231732797120396\n",
            "Accuracy: 0.8102363858002809 Max Depth: 21 TPR: 0.952450702283954 FPR: 0.3194068161467668\n",
            "Accuracy: 0.8108601029688509 Max Depth: 22 TPR: 0.9503329908644021 FPR: 0.31637147619723194\n"
          ]
        }
      ]
    },
    {
      "cell_type": "code",
      "source": [
        "from sklearn.tree import DecisionTreeClassifier\n",
        "# Parameter to vary for Decision Tree Classifier\n",
        "depth=list(range(3,23))\n",
        "\n",
        "# Let's vary C and generate training/testing sessions to collect data for ROC\n",
        "print('Test Acc', 'Number of Features', 'TPR','FPR')\n",
        "FPRdt2, TPRdt2= [], []\n",
        "for item in depth:\n",
        "  pipe_lr = DecisionTreeClassifier(criterion='entropy', max_depth=item,random_state=42)\n",
        "  kfold = KFold(n_splits=10,shuffle=True)\n",
        "  tpr_avg=0\n",
        "  fpr_avg=0\n",
        "  acc_avg=0\n",
        "  for train_index, test_index in kfold.split(X,y):\n",
        "\n",
        "    X_train=X[train_index]\n",
        "    X_test=X[test_index]\n",
        "    y_train=y[train_index]\n",
        "    y_test=y[test_index]\n",
        "\n",
        "    pipe_lr.fit(X_train, y_train)\n",
        "    y_pred = pipe_lr.predict(X_test)\n",
        "    accuracy=pipe_lr.score(X_test, y_test)\n",
        "    tn, fp, fn, tp = confusion_matrix(y_test, y_pred).ravel()\n",
        "    tpr=tp/(tp+fn)\n",
        "    fpr=fp/(fp+tn)\n",
        "    tpr_avg+=tpr\n",
        "    fpr_avg+=fpr\n",
        "    acc_avg+=accuracy\n",
        "  tpr_avg=tpr_avg/10\n",
        "  fpr_avg=fpr_avg/10\n",
        "  TPRdt2.append(tpr_avg)\n",
        "  FPRdt2.append(fpr_avg)\n",
        "  accuracydt2=acc_avg/10\n",
        "  print(f'Accuracy Using Entropy: {accuracydt2}',f'Depth: {item}',f'TPR: {TPRdt2[-1]}',f'FPR: {FPRdt2[-1]}')\n",
        "\n",
        "\n",
        "\n",
        "\n",
        "\n",
        "\n",
        "\n",
        "\n",
        "\n",
        "\n"
      ],
      "metadata": {
        "colab": {
          "base_uri": "https://localhost:8080/"
        },
        "id": "JVCJkcIS36r8",
        "outputId": "a7665dd0-7e65-4912-f54c-9e85f755fc57"
      },
      "execution_count": 15,
      "outputs": [
        {
          "output_type": "stream",
          "name": "stdout",
          "text": [
            "Test Acc Number of Features TPR FPR\n",
            "Accuracy Using Entropy: 0.7137732571725688 Depth: 3 TPR: 0.9951002573116131 FPR: 0.5428390033940856\n",
            "Accuracy Using Entropy: 0.7137957223820068 Depth: 4 TPR: 0.9951899792614982 FPR: 0.5429020197606971\n",
            "Accuracy Using Entropy: 0.731992472567191 Depth: 5 TPR: 0.9943517174116778 FPR: 0.5072773593752504\n",
            "Accuracy Using Entropy: 0.7429732168860184 Depth: 6 TPR: 0.9940403731207826 FPR: 0.4860354760214903\n",
            "Accuracy Using Entropy: 0.7526167801421043 Depth: 7 TPR: 0.9820004361115273 FPR: 0.4564658045986665\n",
            "Accuracy Using Entropy: 0.7677181737491446 Depth: 8 TPR: 0.9697396908834455 FPR: 0.4165091775653075\n",
            "Accuracy Using Entropy: 0.7757805543965178 Depth: 9 TPR: 0.9716010544043373 FPR: 0.402809748737975\n",
            "Accuracy Using Entropy: 0.7820836680209629 Depth: 10 TPR: 0.9699613553313359 FPR: 0.3893096579820546\n",
            "Accuracy Using Entropy: 0.7869615357709343 Depth: 11 TPR: 0.9686092858431726 FPR: 0.3786623847393754\n",
            "Accuracy Using Entropy: 0.7921957459982604 Depth: 12 TPR: 0.9668848288902238 FPR: 0.3670977960336256\n",
            "Accuracy Using Entropy: 0.7974963645357297 Depth: 13 TPR: 0.963361257960394 FPR: 0.35374112043438616\n",
            "Accuracy Using Entropy: 0.8010377011660774 Depth: 14 TPR: 0.9603386281170104 FPR: 0.34426293060973145\n",
            "Accuracy Using Entropy: 0.8020624878135665 Depth: 15 TPR: 0.9606930524706863 FPR: 0.3426451314482687\n",
            "Accuracy Using Entropy: 0.8038666009116072 Depth: 16 TPR: 0.960196378070431 FPR: 0.33871224134695577\n",
            "Accuracy Using Entropy: 0.8050914311201696 Depth: 17 TPR: 0.9581878155786747 FPR: 0.3345959935152638\n",
            "Accuracy Using Entropy: 0.8052920253964032 Depth: 18 TPR: 0.9578208949263518 FPR: 0.3338424939535493\n",
            "Accuracy Using Entropy: 0.8056484075649409 Depth: 19 TPR: 0.9574455782440019 FPR: 0.33273992628521176\n",
            "Accuracy Using Entropy: 0.8061829436072637 Depth: 20 TPR: 0.9564319580172963 FPR: 0.3308231506289967\n",
            "Accuracy Using Entropy: 0.8084103582079628 Depth: 21 TPR: 0.9551060642121822 FPR: 0.32531659501087884\n",
            "Accuracy Using Entropy: 0.8104369999221059 Depth: 22 TPR: 0.9518684043015263 FPR: 0.3185680697330707\n"
          ]
        }
      ]
    },
    {
      "cell_type": "code",
      "source": [
        "from sklearn.tree import DecisionTreeClassifier\n",
        "# Parameter to vary for Decision Tree Classifier\n",
        "depth=list(range(3,30))\n",
        "\n",
        "# Let's vary C and generate training/testing sessions to collect data for ROC\n",
        "print('Test Acc', 'Number of Features', 'TPR','FPR')\n",
        "FPRdt3, TPRdt3= [], []\n",
        "for item in depth:\n",
        "  pipe_lr = DecisionTreeClassifier(criterion='log_loss', max_depth=item,random_state=42)\n",
        "  kfold = KFold(n_splits=10,shuffle=True)\n",
        "  tpr_avg=0\n",
        "  fpr_avg=0\n",
        "  acc_avg=0\n",
        "  for train_index, test_index in kfold.split(X,y):\n",
        "\n",
        "    X_train=X[train_index]\n",
        "    X_test=X[test_index]\n",
        "    y_train=y[train_index]\n",
        "    y_test=y[test_index]\n",
        "\n",
        "    pipe_lr.fit(X_train, y_train)\n",
        "    y_pred = pipe_lr.predict(X_test)\n",
        "    accuracy=pipe_lr.score(X_test, y_test)\n",
        "    tn, fp, fn, tp = confusion_matrix(y_test, y_pred).ravel()\n",
        "    tpr=tp/(tp+fn)\n",
        "    fpr=fp/(fp+tn)\n",
        "    tpr_avg+=tpr\n",
        "    fpr_avg+=fpr\n",
        "    acc_avg+=accuracy\n",
        "  tpr_avg=tpr_avg/10\n",
        "  fpr_avg=fpr_avg/10\n",
        "  TPRdt3.append(tpr_avg)\n",
        "  FPRdt3.append(fpr_avg)\n",
        "  accuracydt3=acc_avg/10\n",
        "  print(f'Accuracy Using Log Loss: {accuracydt3}',f'Depth: {item}',f'TPR: {TPRdt3[-1]}',f'FPR: {FPRdt3[-1]}')\n",
        "\n",
        "\n",
        "\n",
        "\n",
        "\n",
        "\n",
        "\n",
        "\n",
        "\n",
        "\n"
      ],
      "metadata": {
        "colab": {
          "base_uri": "https://localhost:8080/"
        },
        "id": "mG0VS6zDPPwQ",
        "outputId": "c1914e28-1463-416c-e8bc-d95c0bc34e18"
      },
      "execution_count": 16,
      "outputs": [
        {
          "output_type": "stream",
          "name": "stdout",
          "text": [
            "Test Acc Number of Features TPR FPR\n",
            "Accuracy Using Log Loss: 0.7137731926743969 Depth: 3 TPR: 0.9951047989179391 FPR: 0.5429058950723223\n",
            "Accuracy Using Log Loss: 0.7138403997695927 Depth: 4 TPR: 0.9952881100507505 FPR: 0.5428770167562289\n",
            "Accuracy Using Log Loss: 0.7320150518887794 Depth: 5 TPR: 0.9943057768369993 FPR: 0.5071674728268005\n",
            "Accuracy Using Log Loss: 0.7428172454219941 Depth: 6 TPR: 0.9938876005942234 FPR: 0.4861730407655803\n",
            "Accuracy Using Log Loss: 0.7554234577866906 Depth: 7 TPR: 0.9745600758596284 FPR: 0.44446773787806315\n",
            "Accuracy Using Log Loss: 0.7678515956599676 Depth: 8 TPR: 0.9705583832366736 FPR: 0.41703231138794267\n",
            "Accuracy Using Log Loss: 0.7757585257900903 Depth: 9 TPR: 0.9714352436533312 FPR: 0.4027090910586174\n",
            "Accuracy Using Log Loss: 0.7817940910743957 Depth: 10 TPR: 0.9695426061520713 FPR: 0.38948892404973\n",
            "Accuracy Using Log Loss: 0.7870059452430366 Depth: 11 TPR: 0.9683035696523883 FPR: 0.37830004405741163\n",
            "Accuracy Using Log Loss: 0.7924406108274571 Depth: 12 TPR: 0.9671758098466 FPR: 0.3669324259891137\n",
            "Accuracy Using Log Loss: 0.7972960629819686 Depth: 13 TPR: 0.9628763533153648 FPR: 0.35368915119911276\n",
            "Accuracy Using Log Loss: 0.8021070411662062 Depth: 14 TPR: 0.9610139774723037 FPR: 0.3427998623452529\n",
            "Accuracy Using Log Loss: 0.8018397657029481 Depth: 15 TPR: 0.96063302243371 FPR: 0.3430524093603512\n",
            "Accuracy Using Log Loss: 0.803465531432688 Depth: 16 TPR: 0.9601061882832415 FPR: 0.33952912955691616\n",
            "Accuracy Using Log Loss: 0.8049801717735161 Depth: 17 TPR: 0.9578715917685603 FPR: 0.3344016270642699\n",
            "Accuracy Using Log Loss: 0.8051806767445887 Depth: 18 TPR: 0.9575589939083935 FPR: 0.33378226918766607\n",
            "Accuracy Using Log Loss: 0.8053585478186965 Depth: 19 TPR: 0.9571749396368642 FPR: 0.3331766156793769\n",
            "Accuracy Using Log Loss: 0.8064283988428036 Depth: 20 TPR: 0.9553669978184327 FPR: 0.32941338179057267\n",
            "Accuracy Using Log Loss: 0.8082987962160411 Depth: 21 TPR: 0.9546378479892506 FPR: 0.3251613177071207\n",
            "Accuracy Using Log Loss: 0.8099466600117784 Depth: 22 TPR: 0.9525772381240012 FPR: 0.32004769725595217\n",
            "Accuracy Using Log Loss: 0.8101247146576066 Depth: 23 TPR: 0.9508443029099418 FPR: 0.3182669472282337\n",
            "Accuracy Using Log Loss: 0.8103032455976276 Depth: 24 TPR: 0.9484070588532495 FPR: 0.315572935784752\n",
            "Accuracy Using Log Loss: 0.810659890720251 Depth: 25 TPR: 0.9485409274771113 FPR: 0.3150643048887022\n",
            "Accuracy Using Log Loss: 0.811038504912528 Depth: 26 TPR: 0.9461930026946931 FPR: 0.3122770514892288\n",
            "Accuracy Using Log Loss: 0.811194233268058 Depth: 27 TPR: 0.9442252899910611 FPR: 0.3101116279997399\n",
            "Accuracy Using Log Loss: 0.8130428501047599 Depth: 28 TPR: 0.9460738599138775 FPR: 0.3082297365106651\n",
            "Accuracy Using Log Loss: 0.8142234792199294 Depth: 29 TPR: 0.9444389819977259 FPR: 0.30452794089174084\n"
          ]
        }
      ]
    },
    {
      "cell_type": "code",
      "source": [
        "'''from sklearn.pipeline import make_pipeline\n",
        "from sklearn.preprocessing import StandardScaler\n",
        "# Parameter to vary for Logistic Regression\n",
        "estimators = list(range(10, 300,30))\n",
        "\n",
        "# Let's vary C and generate training/testing sessions to collect data for ROC\n",
        "print('Test Acc', 'Number of Estimators', 'TPR','FPR')\n",
        "FPR, TPR = [], []\n",
        "for estimator in estimators:\n",
        "  pipe_lr = make_pipeline(StandardScaler(with_mean=False),\n",
        "                          RandomForestClassifier(random_state=42,\n",
        "                                                  n_estimators=estimator))\n",
        "  kfold = KFold(n_splits=10,shuffle=True)\n",
        "  tpr_avg=0\n",
        "  fpr_avg=0\n",
        "  acc_avg=0\n",
        "  for train_index, test_index in kfold.split(X,y):\n",
        "\n",
        "    X_train=X[train_index]\n",
        "    X_test=X[test_index]\n",
        "    y_train=y[train_index]\n",
        "    y_test=y[test_index]\n",
        "\n",
        "    pipe_lr.fit(X_train, y_train)\n",
        "    y_pred = pipe_lr.predict(X_test)\n",
        "    accuracy=pipe_lr.score(X_test, y_test)\n",
        "    tn, fp, fn, tp = confusion_matrix(y_test, y_pred).ravel()\n",
        "    tpr=tp/(tp+fn)\n",
        "    fpr=fp/(fp+tn)\n",
        "    tpr_avg+=tpr\n",
        "    fpr_avg+=fpr\n",
        "    acc_avg+=accuracy\n",
        "  tpr_avg=tpr_avg/10\n",
        "  fpr_avg=fpr_avg/10\n",
        "  TPR.append(tpr_avg)\n",
        "  FPR.append(fpr_avg)\n",
        "  accuracy=acc_avg/10\n",
        "  print(f'Accuracy: {accuracy}',f'Number of estimators: {estimator}',f'TPR: {TPR[-1]}',f'FPR: {FPR[-1]}')\n",
        "\n",
        "\n",
        "\n",
        "'''\n",
        "\n",
        "\n",
        "\n",
        "\n",
        "\n",
        "\n"
      ],
      "metadata": {
        "id": "izI2BOX5wC0G",
        "colab": {
          "base_uri": "https://localhost:8080/",
          "height": 191
        },
        "outputId": "2356657d-0246-4b59-8ecf-35f0cff778e9"
      },
      "execution_count": 17,
      "outputs": [
        {
          "output_type": "execute_result",
          "data": {
            "text/plain": [
              "\"from sklearn.pipeline import make_pipeline\\nfrom sklearn.preprocessing import StandardScaler\\n# Parameter to vary for Logistic Regression\\nestimators = list(range(10, 300,30))\\n\\n# Let's vary C and generate training/testing sessions to collect data for ROC\\nprint('Test Acc', 'Number of Estimators', 'TPR','FPR')\\nFPR, TPR = [], []\\nfor estimator in estimators:\\n  pipe_lr = make_pipeline(StandardScaler(with_mean=False),\\n                          RandomForestClassifier(random_state=42,\\n                                                  n_estimators=estimator))\\n  kfold = KFold(n_splits=10,shuffle=True)\\n  tpr_avg=0\\n  fpr_avg=0\\n  acc_avg=0\\n  for train_index, test_index in kfold.split(X,y):\\n\\n    X_train=X[train_index]\\n    X_test=X[test_index]\\n    y_train=y[train_index]\\n    y_test=y[test_index]\\n\\n    pipe_lr.fit(X_train, y_train)\\n    y_pred = pipe_lr.predict(X_test)\\n    accuracy=pipe_lr.score(X_test, y_test)\\n    tn, fp, fn, tp = confusion_matrix(y_test, y_pred).ravel()\\n    tpr=tp/(tp+fn)\\n    fpr=fp/(fp+tn)\\n    tpr_avg+=tpr\\n    fpr_avg+=fpr\\n    acc_avg+=accuracy\\n  tpr_avg=tpr_avg/10\\n  fpr_avg=fpr_avg/10\\n  TPR.append(tpr_avg)\\n  FPR.append(fpr_avg)\\n  accuracy=acc_avg/10\\n  print(f'Accuracy: {accuracy}',f'Number of estimators: {estimator}',f'TPR: {TPR[-1]}',f'FPR: {FPR[-1]}')\\n\\n\\n\\n\""
            ],
            "application/vnd.google.colaboratory.intrinsic+json": {
              "type": "string"
            }
          },
          "metadata": {},
          "execution_count": 17
        }
      ]
    },
    {
      "cell_type": "markdown",
      "source": [
        "Varying Activation Function for Multi Layer Perceptron"
      ],
      "metadata": {
        "id": "iek8FSVwSOtU"
      }
    },
    {
      "cell_type": "code",
      "source": [
        "from sklearn.neural_network import MLPClassifier\n",
        "# Parameter to vary for Decision Tree Classifier\n",
        "activation=['identity', 'logistic','relu']\n",
        "\n",
        "# Let's vary C and generate training/testing sessions to collect data for ROC\n",
        "print('Test Acc', 'Number of Features', 'TPR','FPR')\n",
        "FPRnn1, TPRnn1= [], []\n",
        "for item in activation:\n",
        "  pipe_lr = MLPClassifier(random_state=42,activation=item)\n",
        "  kfold = KFold(n_splits=10,shuffle=True)\n",
        "  tpr_avg=0\n",
        "  fpr_avg=0\n",
        "  acc_avg=0\n",
        "  for train_index, test_index in kfold.split(X,y):\n",
        "\n",
        "    X_train=X[train_index]\n",
        "    X_test=X[test_index]\n",
        "    y_train=y[train_index]\n",
        "    y_test=y[test_index]\n",
        "\n",
        "    pipe_lr.fit(X_train, y_train)\n",
        "    y_pred = pipe_lr.predict(X_test)\n",
        "    accuracy=pipe_lr.score(X_test, y_test)\n",
        "    tn, fp, fn, tp = confusion_matrix(y_test, y_pred).ravel()\n",
        "    tpr=tp/(tp+fn)\n",
        "    fpr=fp/(fp+tn)\n",
        "    tpr_avg+=tpr\n",
        "    fpr_avg+=fpr\n",
        "    acc_avg+=accuracy\n",
        "  tpr_avg=tpr_avg/10\n",
        "  fpr_avg=fpr_avg/10\n",
        "  TPRnn1.append(tpr_avg)\n",
        "  FPRnn1.append(fpr_avg)\n",
        "  accuracynn1=acc_avg/10\n",
        "  print(f'Accuracy: {accuracynn1}',f'Activation Function: {item}',f'TPR: {TPRnn1[-1]}',f'FPR: {FPRnn1[-1]}')\n",
        "\n",
        "\n",
        "\n",
        "\n",
        "\n",
        "\n",
        "\n",
        "\n",
        "\n",
        "\n"
      ],
      "metadata": {
        "colab": {
          "base_uri": "https://localhost:8080/"
        },
        "id": "jeOu2VBhSIWR",
        "outputId": "60809f30-5cf5-485f-f81b-c5eabe18a2e9"
      },
      "execution_count": 18,
      "outputs": [
        {
          "output_type": "stream",
          "name": "stdout",
          "text": [
            "Test Acc Number of Features TPR FPR\n",
            "Accuracy: 0.8116620137023887 Activation Function: identity TPR: 0.939274453657289 FPR: 0.3046953783818639\n",
            "Accuracy: 0.812040707277031 Activation Function: logistic TPR: 0.9359074125689724 FPR: 0.300971080956641\n"
          ]
        },
        {
          "output_type": "stream",
          "name": "stderr",
          "text": [
            "/usr/local/lib/python3.10/dist-packages/sklearn/neural_network/_multilayer_perceptron.py:686: ConvergenceWarning: Stochastic Optimizer: Maximum iterations (200) reached and the optimization hasn't converged yet.\n",
            "  warnings.warn(\n",
            "/usr/local/lib/python3.10/dist-packages/sklearn/neural_network/_multilayer_perceptron.py:686: ConvergenceWarning: Stochastic Optimizer: Maximum iterations (200) reached and the optimization hasn't converged yet.\n",
            "  warnings.warn(\n",
            "/usr/local/lib/python3.10/dist-packages/sklearn/neural_network/_multilayer_perceptron.py:686: ConvergenceWarning: Stochastic Optimizer: Maximum iterations (200) reached and the optimization hasn't converged yet.\n",
            "  warnings.warn(\n",
            "/usr/local/lib/python3.10/dist-packages/sklearn/neural_network/_multilayer_perceptron.py:686: ConvergenceWarning: Stochastic Optimizer: Maximum iterations (200) reached and the optimization hasn't converged yet.\n",
            "  warnings.warn(\n"
          ]
        },
        {
          "output_type": "stream",
          "name": "stdout",
          "text": [
            "Accuracy: 0.8161834050172632 Activation Function: relu TPR: 0.9331649473721454 FPR: 0.29044089608057966\n"
          ]
        }
      ]
    },
    {
      "cell_type": "markdown",
      "source": [
        "Varying Learning Rate of Multi Layer Perceptron"
      ],
      "metadata": {
        "id": "3rMaNnUQTr_m"
      }
    },
    {
      "cell_type": "code",
      "source": [
        "from sklearn.neural_network import MLPClassifier\n",
        "from sklearn.metrics import confusion_matrix\n",
        "from sklearn.metrics import accuracy_score  # f1_score can be used too\n",
        "from sklearn.model_selection import KFold, StratifiedKFold, train_test_split\n",
        "# Parameter to vary for Decision Tree Classifier\n",
        "lr=[0.0001,0.0005,0.001,0.005,0.01,0.05,0.1,0.5,0.6,0.7,0.8,0.9]\n",
        "\n",
        "# Let's vary C and generate training/testing sessions to collect data for ROC\n",
        "print('Test Acc', 'Number of Features', 'TPR','FPR')\n",
        "FPRnn3, TPRnn3= [], []\n",
        "for item in lr:\n",
        "  pipe_lr = MLPClassifier(random_state=42,learning_rate_init=item)\n",
        "  kfold = KFold(n_splits=10,shuffle=True)\n",
        "  tpr_avg=0\n",
        "  fpr_avg=0\n",
        "  acc_avg=0\n",
        "  for train_index, test_index in kfold.split(X,y):\n",
        "\n",
        "    X_train=X[train_index]\n",
        "    X_test=X[test_index]\n",
        "    y_train=y[train_index]\n",
        "    y_test=y[test_index]\n",
        "\n",
        "    pipe_lr.fit(X_train, y_train)\n",
        "    y_pred = pipe_lr.predict(X_test)\n",
        "    accuracy=pipe_lr.score(X_test, y_test)\n",
        "    tn, fp, fn, tp = confusion_matrix(y_test, y_pred).ravel()\n",
        "    tpr=tp/(tp+fn)\n",
        "    fpr=fp/(fp+tn)\n",
        "    tpr_avg+=tpr\n",
        "    fpr_avg+=fpr\n",
        "    acc_avg+=accuracy\n",
        "  tpr_avg=tpr_avg/10\n",
        "  fpr_avg=fpr_avg/10\n",
        "  TPRnn3.append(tpr_avg)\n",
        "  FPRnn3.append(fpr_avg)\n",
        "  accuracynn3=acc_avg/10\n",
        "  print(f'Accuracy: {accuracynn3}',f'Learning Rate: {item}',f'TPR: {TPRnn3[-1]}',f'FPR: {FPRnn3[-1]}')\n",
        "\n",
        "\n",
        "\n",
        "\n",
        "\n",
        "\n",
        "\n",
        "\n",
        "\n",
        "\n"
      ],
      "metadata": {
        "colab": {
          "base_uri": "https://localhost:8080/"
        },
        "id": "RQZjx4hNTJXl",
        "outputId": "0828c247-9ca0-42b1-d52c-c08065defa55"
      },
      "execution_count": 19,
      "outputs": [
        {
          "output_type": "stream",
          "name": "stdout",
          "text": [
            "Test Acc Number of Features TPR FPR\n",
            "Accuracy: 0.8164950998754194 Learning Rate: 0.0001 TPR: 0.9365594441508422 FPR: 0.29300628346918817\n"
          ]
        },
        {
          "output_type": "stream",
          "name": "stderr",
          "text": [
            "/usr/local/lib/python3.10/dist-packages/sklearn/neural_network/_multilayer_perceptron.py:686: ConvergenceWarning: Stochastic Optimizer: Maximum iterations (200) reached and the optimization hasn't converged yet.\n",
            "  warnings.warn(\n",
            "/usr/local/lib/python3.10/dist-packages/sklearn/neural_network/_multilayer_perceptron.py:686: ConvergenceWarning: Stochastic Optimizer: Maximum iterations (200) reached and the optimization hasn't converged yet.\n",
            "  warnings.warn(\n",
            "/usr/local/lib/python3.10/dist-packages/sklearn/neural_network/_multilayer_perceptron.py:686: ConvergenceWarning: Stochastic Optimizer: Maximum iterations (200) reached and the optimization hasn't converged yet.\n",
            "  warnings.warn(\n",
            "/usr/local/lib/python3.10/dist-packages/sklearn/neural_network/_multilayer_perceptron.py:686: ConvergenceWarning: Stochastic Optimizer: Maximum iterations (200) reached and the optimization hasn't converged yet.\n",
            "  warnings.warn(\n",
            "/usr/local/lib/python3.10/dist-packages/sklearn/neural_network/_multilayer_perceptron.py:686: ConvergenceWarning: Stochastic Optimizer: Maximum iterations (200) reached and the optimization hasn't converged yet.\n",
            "  warnings.warn(\n",
            "/usr/local/lib/python3.10/dist-packages/sklearn/neural_network/_multilayer_perceptron.py:686: ConvergenceWarning: Stochastic Optimizer: Maximum iterations (200) reached and the optimization hasn't converged yet.\n",
            "  warnings.warn(\n",
            "/usr/local/lib/python3.10/dist-packages/sklearn/neural_network/_multilayer_perceptron.py:686: ConvergenceWarning: Stochastic Optimizer: Maximum iterations (200) reached and the optimization hasn't converged yet.\n",
            "  warnings.warn(\n",
            "/usr/local/lib/python3.10/dist-packages/sklearn/neural_network/_multilayer_perceptron.py:686: ConvergenceWarning: Stochastic Optimizer: Maximum iterations (200) reached and the optimization hasn't converged yet.\n",
            "  warnings.warn(\n"
          ]
        },
        {
          "output_type": "stream",
          "name": "stdout",
          "text": [
            "Accuracy: 0.8165842909244623 Learning Rate: 0.0005 TPR: 0.9349625544286176 FPR: 0.29137862254936786\n"
          ]
        },
        {
          "output_type": "stream",
          "name": "stderr",
          "text": [
            "/usr/local/lib/python3.10/dist-packages/sklearn/neural_network/_multilayer_perceptron.py:686: ConvergenceWarning: Stochastic Optimizer: Maximum iterations (200) reached and the optimization hasn't converged yet.\n",
            "  warnings.warn(\n",
            "/usr/local/lib/python3.10/dist-packages/sklearn/neural_network/_multilayer_perceptron.py:686: ConvergenceWarning: Stochastic Optimizer: Maximum iterations (200) reached and the optimization hasn't converged yet.\n",
            "  warnings.warn(\n",
            "/usr/local/lib/python3.10/dist-packages/sklearn/neural_network/_multilayer_perceptron.py:686: ConvergenceWarning: Stochastic Optimizer: Maximum iterations (200) reached and the optimization hasn't converged yet.\n",
            "  warnings.warn(\n",
            "/usr/local/lib/python3.10/dist-packages/sklearn/neural_network/_multilayer_perceptron.py:686: ConvergenceWarning: Stochastic Optimizer: Maximum iterations (200) reached and the optimization hasn't converged yet.\n",
            "  warnings.warn(\n"
          ]
        },
        {
          "output_type": "stream",
          "name": "stdout",
          "text": [
            "Accuracy: 0.8166956246920833 Learning Rate: 0.001 TPR: 0.9319207027379365 FPR: 0.2883826060683893\n"
          ]
        },
        {
          "output_type": "stream",
          "name": "stderr",
          "text": [
            "/usr/local/lib/python3.10/dist-packages/sklearn/neural_network/_multilayer_perceptron.py:686: ConvergenceWarning: Stochastic Optimizer: Maximum iterations (200) reached and the optimization hasn't converged yet.\n",
            "  warnings.warn(\n",
            "/usr/local/lib/python3.10/dist-packages/sklearn/neural_network/_multilayer_perceptron.py:686: ConvergenceWarning: Stochastic Optimizer: Maximum iterations (200) reached and the optimization hasn't converged yet.\n",
            "  warnings.warn(\n"
          ]
        },
        {
          "output_type": "stream",
          "name": "stdout",
          "text": [
            "Accuracy: 0.816005256104876 Learning Rate: 0.005 TPR: 0.9293162663428701 FPR: 0.28745461865114674\n",
            "Accuracy: 0.8164503728738548 Learning Rate: 0.01 TPR: 0.9269203273240676 FPR: 0.28430281297689114\n",
            "Accuracy: 0.815448294544298 Learning Rate: 0.05 TPR: 0.9296648173019 FPR: 0.28879014450976864\n",
            "Accuracy: 0.8137779556163272 Learning Rate: 0.1 TPR: 0.9226821732858987 FPR: 0.285611648320145\n",
            "Accuracy: 0.8075409873479392 Learning Rate: 0.5 TPR: 0.9310076414758847 FPR: 0.3049752371345445\n",
            "Accuracy: 0.7774744847712374 Learning Rate: 0.6 TPR: 0.9548099932224264 FPR: 0.38497170897605404\n",
            "Accuracy: 0.7630426020348677 Learning Rate: 0.7 TPR: 0.9658188788897814 FPR: 0.42318255742165045\n",
            "Accuracy: 0.6270649958001767 Learning Rate: 0.8 TPR: 0.41583366693643653 FPR: 0.18597637065811368\n",
            "Accuracy: 0.6027927658850316 Learning Rate: 0.9 TPR: 0.48443136123730823 FPR: 0.28798927006711816\n"
          ]
        }
      ]
    },
    {
      "cell_type": "code",
      "source": [
        "from sklearn.ensemble import RandomForestClassifier\n",
        "\n",
        "# Parameter to vary for Decision Tree Classifier\n",
        "max_depth=list(range(3,27,2))\n",
        "\n",
        "# Let's vary C and generate training/testing sessions to collect data for ROC\n",
        "print('Test Acc', 'Number of Features', 'TPR','FPR')\n",
        "FPRrf2, TPRrf2= [], []\n",
        "for item in max_depth:\n",
        "  pipe_lr = RandomForestClassifier(random_state=42,max_depth=item)\n",
        "  kfold = KFold(n_splits=10,shuffle=True)\n",
        "  tpr_avg=0\n",
        "  fpr_avg=0\n",
        "  acc_avg=0\n",
        "  for train_index, test_index in kfold.split(X,y):\n",
        "\n",
        "    X_train=X[train_index]\n",
        "    X_test=X[test_index]\n",
        "    y_train=y[train_index]\n",
        "    y_test=y[test_index]\n",
        "\n",
        "    pipe_lr.fit(X_train, y_train)\n",
        "    y_pred = pipe_lr.predict(X_test)\n",
        "    accuracy=pipe_lr.score(X_test, y_test)\n",
        "    tn, fp, fn, tp = confusion_matrix(y_test, y_pred).ravel()\n",
        "    tpr=tp/(tp+fn)\n",
        "    fpr=fp/(fp+tn)\n",
        "    tpr_avg+=tpr\n",
        "    fpr_avg+=fpr\n",
        "    acc_avg+=accuracy\n",
        "  tpr_avg=tpr_avg/10\n",
        "  fpr_avg=fpr_avg/10\n",
        "  TPRrf2.append(tpr_avg)\n",
        "  FPRrf2.append(fpr_avg)\n",
        "  accuracyrf2=acc_avg/10\n",
        "  print(f'Accuracy: {accuracyrf2}',f'Activation Function: {item}',f'TPR: {TPRrf2[-1]}',f'FPR: {FPRrf2[-1]}')\n",
        "\n",
        "\n",
        "\n",
        "\n",
        "\n",
        "\n",
        "\n",
        "\n",
        "\n",
        "\n"
      ],
      "metadata": {
        "id": "8AuSZRLCblCo",
        "colab": {
          "base_uri": "https://localhost:8080/"
        },
        "outputId": "904a343c-8826-46c7-d22a-b51a11e948c5"
      },
      "execution_count": 20,
      "outputs": [
        {
          "output_type": "stream",
          "name": "stdout",
          "text": [
            "Test Acc Number of Features TPR FPR\n",
            "Accuracy: 0.7854468954301062 Activation Function: 3 TPR: 0.9646577164726841 FPR: 0.37794647165507794\n",
            "Accuracy: 0.7892558399373673 Activation Function: 5 TPR: 0.9640159271150903 FPR: 0.37007266578502584\n",
            "Accuracy: 0.7935988987681345 Activation Function: 7 TPR: 0.9640553726304697 FPR: 0.3619147263075522\n",
            "Accuracy: 0.7988330048061059 Activation Function: 9 TPR: 0.9614860811573198 FPR: 0.3494726085718288\n",
            "Accuracy: 0.8045346184015271 Activation Function: 11 TPR: 0.9612240724909172 FPR: 0.33834992037195766\n",
            "Accuracy: 0.8048465613295752 Activation Function: 13 TPR: 0.9598960462603096 FPR: 0.33656096548449554\n",
            "Accuracy: 0.806405730216054 Activation Function: 15 TPR: 0.9602955836630278 FPR: 0.33388819250496327\n",
            "Accuracy: 0.8084326249614872 Activation Function: 17 TPR: 0.9583998531155657 FPR: 0.3282775760732108\n",
            "Accuracy: 0.8104593559807916 Activation Function: 19 TPR: 0.9551094264675504 FPR: 0.3214372008080085\n",
            "Accuracy: 0.8129316056423 Activation Function: 21 TPR: 0.9529219886642879 FPR: 0.3147413575065364\n",
            "Accuracy: 0.8147359420032437 Activation Function: 23 TPR: 0.9512696723919614 FPR: 0.3097947869818028\n",
            "Accuracy: 0.8154708093677145 Activation Function: 25 TPR: 0.9491779997013774 FPR: 0.30652028622785293\n"
          ]
        }
      ]
    },
    {
      "cell_type": "markdown",
      "source": [],
      "metadata": {
        "id": "mCRk8Isgh-jZ"
      }
    },
    {
      "cell_type": "code",
      "source": [
        "import matplotlib.pyplot as plt\n",
        "\n",
        "# Sorts the points to display nicely on ROC\n",
        "FPRrf1, TPRrf1 = zip(*sorted(zip(FPRrf1, TPRrf1)))\n",
        "fprrf1 = [0.]+list(FPRrf1)+[1.]; tprrf1 = [0.]+list(TPRrf1)+[1.]\n",
        "FPRrf2, TPRrf2 = zip(*sorted(zip(FPRrf2, TPRrf2)))\n",
        "fprrf2 = [0.]+list(FPRrf2)+[1.]; tprrf2 = [0.]+list(TPRrf2)+[1.]\n",
        "FPRdt1, TPRdt1 = zip(*sorted(zip(FPRdt1, TPRdt1)))\n",
        "fprdt1 = [0.]+list(FPRdt1)+[1.]; tprdt1 = [0.]+list(TPRdt1)+[1.]\n",
        "FPRdt2, TPRdt2 = zip(*sorted(zip(FPRdt2, TPRdt2)))\n",
        "fprdt2 = [0.]+list(FPRdt2)+[1.]; tprdt2 = [0.]+list(TPRdt2)+[1.]\n",
        "FPRdt3, TPRdt3 = zip(*sorted(zip(FPRdt3, TPRdt3)))\n",
        "fprdt3 = [0.]+list(FPRdt3)+[1.]; tprdt3 = [0.]+list(TPRdt3)+[1.]\n",
        "FPRnn1, TPRnn1 = zip(*sorted(zip(FPRnn1, TPRnn1)))\n",
        "fprnn1 = [0.]+list(FPRnn1)+[1.]; tprnn1 = [0.]+list(TPRnn1)+[1.]\n",
        "FPRnn1, TPRnn1 = zip(*sorted(zip(FPRnn1, TPRnn1)))\n",
        "fprnn1 = [0.]+list(FPRnn1)+[1.]; tprnn1 = [0.]+list(TPRnn1)+[1.]\n",
        "FPRnn3, TPRnn3 = zip(*sorted(zip(FPRnn3, TPRnn3)))\n",
        "fprnn3 = [0.]+list(FPRnn3)+[1.]; tprnn3 = [0.]+list(TPRnn3)+[1.]\n",
        "# Plot\n",
        "fig, ax = plt.subplots(dpi=72)\n",
        "plt.plot(fprrf1, tprrf1, ':',color='gray', label='ROC Random Forest ')\n",
        "plt.plot(fprrf2, tprrf2, ':',color='gray', label='ROC Random Forest 2 ')\n",
        "plt.plot(fprdt1, tprdt1, ':',color='gray', label='ROC Decision Tree 1')\n",
        "plt.plot(fprdt2, tprdt2, ':',color='gray', label='ROC Decision Tree 2')\n",
        "plt.plot(fprdt3, tprdt3, ':',color='gray', label='ROC Decision Tree 3')\n",
        "plt.plot(fprnn1, tprnn1, ':',color='gray', label='ROC MLP Tree 1')\n",
        "plt.plot(fprnn3, tprnn3, ':',color='gray', label='ROC MLP Tree 2')\n",
        "\n",
        "plt.scatter(FPRrf1, TPRrf1, 50, color='pink', marker='o', label='Random Forest with different Number of Features')\n",
        "plt.scatter(FPRrf2, TPRrf2, 50, color='green', marker='+', label='Random Forest with different Max Depth')\n",
        "plt.scatter(FPRdt1, TPRdt1, 50, color='black', marker='o', label='Decision Tree using Gini Impurity across different depths')\n",
        "plt.scatter(FPRdt2, TPRdt2, 50, color='red', marker='+', label='Decision Tree using Entropy across different depths')\n",
        "plt.scatter(FPRdt3, TPRdt3, 50, color='blue', marker='+', label='Decision Tree using Log Loss across Different Depths')\n",
        "plt.scatter(FPRnn1, TPRnn1, 50, color='orange', marker='s', label='MLP using different activation functions')\n",
        "plt.scatter(FPRnn3, TPRnn3, 50, color='brown', marker='+', label='MLP using different learning rates')\n",
        "\n",
        "plt.plot([0, 1], [0, 1], linestyle='--', color=(0.4, 0.6, 0.6), label='coin flip')\n",
        "\n",
        "\n",
        "# Labels\n",
        "plt.xlabel('False Positive Rate')\n",
        "plt.ylabel('True Positive Rate')\n",
        "plt.legend(loc='lower right',fontsize=8)\n",
        "plt.grid()\n",
        "plt.show()"
      ],
      "metadata": {
        "id": "jEXDBfKYixxP",
        "colab": {
          "base_uri": "https://localhost:8080/",
          "height": 328
        },
        "outputId": "74a8fee3-98a5-48b0-f3bc-3f64ed170894"
      },
      "execution_count": 21,
      "outputs": [
        {
          "output_type": "display_data",
          "data": {
            "text/plain": [
              "<Figure size 460.8x345.6 with 1 Axes>"
            ],
            "image/png": "[encoded data removed]"
          },
          "metadata": {}
        }
      ]
    },
    {
      "cell_type": "markdown",
      "source": [
        "**Question 2**: What kind of behavior would you expect to see in Pd-Pf interaction of an ROC plot? Do you see it in yours?"
      ],
      "metadata": {
        "id": "ChNDTmoJxMOx"
      }
    },
    {
      "cell_type": "markdown",
      "source": [
        "In models that have perfect classification, we tend to see the ROC plot reaching the top left of the corner, which represents a TPR, or Probability of detection of 1, and a probability of false alarm of 0, and the graph forms a right angle. In more realistic situations, we see an overlap between the probability distribution of detection and false alarms, which means that the curve gradually starts from the bottom left and eventually slopes into the top right Lastly, in completely random situations, where the classifier selects randomly, we can expect a 45 degree line in the middle of the graph, which signals an equal probability of detection and probability of false alarm, which is not ideal. Since the classifier is binary, this is saying that there is an equal probability of landing on either class, which makes it random.\n",
        "\n",
        "Our experimentation showed consistenly that most models, when tuned with the correct hyperparameters, had an max accuracy of 81%. Since this is a reasonably high accuracy, we can expect the ROC curve to land somewhere between random and the perfect classification, which is what was shown in the curve. Interestingly, often times  certain hyperparameters were selected for TPR and FPR calculation and had little to no effect on the accuracy, as it stayed relatively the same. As a result, many of the points were clustered around 95% probability of detection of fake news and around 30% probability of false alarm."
      ],
      "metadata": {
        "id": "iewrb75KxVjx"
      }
    },
    {
      "cell_type": "markdown",
      "source": [
        "**Question 3**: From the ROC plot that you created make a selection of the classifier and hyperparameter setting for this problem and then justify the selection. Note that we are classifying fake news so your conclusion might be subjective but has to be supported by your findings."
      ],
      "metadata": {
        "id": "n4MpMgxFzvCb"
      }
    },
    {
      "cell_type": "markdown",
      "source": [
        "Answer: Although many of the curves on the ROC plot had similar characteristics, the classifier that I would select would be the DecisionTreeClassifier with a max_depth of 20 with a log_loss criterion. The reasoning behind this is due to the fact that the detection of fake news is highest, nearing 0.995 percent TPR. This being said, however, the FPR was around 0.45. As seen on the ROC graph, there are a string of data points from the logloss decision tree classifier that reach the highest TPR. Although it is tempting to choose the highest classifier, many come with a 50% false positive rate, or probaiblity of false alarm. If the probability of false alarm is around 50%, that is nearly random in terms of a correct vs an incorrect detection. For this reason, I selected the leftmost point that still has a high probabilty of detection. Because the classification is of fake news, we can assume that it is okay to tolerate a certain level of false positives/alarms, since the risk is much lower if a news article is incorrectly considered fake news. Similarly, the risk if much higher if articles are put out and do have fake news, which means that readers are misguided and duped. This is why I believe it is better to select a parameter/classifier with the highest true positive rate/probability of detection."
      ],
      "metadata": {
        "id": "uw7Yfgne0lDJ"
      }
    },
    {
      "cell_type": "markdown",
      "source": [
        "Question 4: Try adding text column to the features. Choose any classifier to train on this new and improved dataset and report its performance. Why do you think the performance is much higher than the previous one which only uses title column?"
      ],
      "metadata": {
        "id": "EiaFQQap7z-y"
      }
    },
    {
      "cell_type": "code",
      "source": [
        "from sklearn.feature_extraction.text import TfidfVectorizer\n",
        "from scipy.sparse import hstack\n",
        "a = TfidfVectorizer(stop_words='english',\n",
        "max_features=50).fit_transform(df['text'])\n",
        "\n",
        "X_combined=hstack([X,a])\n",
        "print(type(X_combined))"
      ],
      "metadata": {
        "colab": {
          "base_uri": "https://localhost:8080/"
        },
        "id": "yRjkdbUm7znx",
        "outputId": "7831e2dd-d9d8-40c8-bcca-27766cfeb87d"
      },
      "execution_count": 22,
      "outputs": [
        {
          "output_type": "stream",
          "name": "stdout",
          "text": [
            "<class 'scipy.sparse._csr.csr_matrix'>\n"
          ]
        }
      ]
    },
    {
      "cell_type": "code",
      "source": [
        "from sklearn.model_selection import KFold\n",
        "import numpy as np\n",
        "from sklearn.model_selection import train_test_split\n",
        "from sklearn.ensemble import RandomForestClassifier\n",
        "from sklearn.metrics import accuracy_score\n",
        "from sklearn.metrics import confusion_matrix\n",
        "\n",
        "# Cross Validation Sanity Check\n",
        "\n",
        "# 10-fold cross validation\n",
        "Accuracies = []\n",
        "kfold = KFold(n_splits=10,shuffle=True)\n",
        "for train_index, test_index in kfold.split(X_combined,y):\n",
        "\n",
        "    X_train=X[train_index]\n",
        "    X_test=X[test_index]\n",
        "    y_train=y[train_index]\n",
        "    y_test=y[test_index]\n",
        "\n",
        "    rf_classifier = RandomForestClassifier(n_estimators=100, random_state=42)\n",
        "    rf_classifier.fit(X_train, y_train)\n",
        "\n",
        "    # Making predictions\n",
        "    predictions = rf_classifier.predict(X_test)\n",
        "    tn, fp, fn, tp = confusion_matrix(y_test, predictions).ravel()\n",
        "\n",
        "    # Evaluating the model\n",
        "    accuracy = accuracy_score(y_test, predictions)\n",
        "    print(\"Accuracy:\", accuracy)\n",
        "    Accuracies += [accuracy]\n",
        "\n",
        "     # TPR and FPR\n",
        "    FPR, TPR = [], []\n",
        "    TPR += [tp/(tp+fn)]  # Pd\n",
        "    FPR += [fp/(fp+tn)]  # Pf\n",
        "\n",
        "print(f'10-fold cross validation accuracy is {np.mean(Accuracies):.3f}')"
      ],
      "metadata": {
        "colab": {
          "base_uri": "https://localhost:8080/"
        },
        "id": "1iYX2zM4CnD4",
        "outputId": "10e7accd-73d4-43c5-f64f-088814b74213"
      },
      "execution_count": 23,
      "outputs": [
        {
          "output_type": "stream",
          "name": "stdout",
          "text": [
            "Accuracy: 0.8160356347438753\n",
            "Accuracy: 0.8184855233853007\n",
            "Accuracy: 0.8238307349665924\n",
            "Accuracy: 0.8149220489977729\n",
            "Accuracy: 0.8146993318485524\n",
            "Accuracy: 0.812249443207127\n",
            "Accuracy: 0.8280623608017817\n",
            "Accuracy: 0.823162583518931\n",
            "Accuracy: 0.8139897527288928\n",
            "Accuracy: 0.8168857206504789\n",
            "10-fold cross validation accuracy is 0.818\n"
          ]
        }
      ]
    },
    {
      "cell_type": "markdown",
      "source": [
        "The TfidVectorizer takes the words and assigns frequency values to them based on a given text. As with any type of data, since the text column contains much more data than the title column, the data contains a larger amount of information that can be learned. In other words, the data is more generalizable and has a higher variance, rather than the title columns. When the data is more generalizable, there is less overfitting, resulting in a slightly higher accuracy. In this case, I only saw slightly higher performance results. It is possible that the text column did not provide as much generalizable information as thought, or that the Random Forest model chosen converged through similar means for both just the title column and the title and text column."
      ],
      "metadata": {
        "id": "oX_y3Nzw9Imz"
      }
    },
    {
      "cell_type": "code",
      "source": [],
      "metadata": {
        "id": "Vuci3Tp0xL-5"
      },
      "execution_count": 23,
      "outputs": []
    },
    {
      "cell_type": "code",
      "source": [],
      "metadata": {
        "id": "f3VsuYLDg6dP"
      },
      "execution_count": 23,
      "outputs": []
    }
  ]
}