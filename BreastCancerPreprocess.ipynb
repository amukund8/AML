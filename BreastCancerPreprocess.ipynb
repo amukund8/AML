{
  "nbformat": 4,
  "nbformat_minor": 0,
  "metadata": {
    "colab": {
      "provenance": [],
      "authorship_tag": "ABX9TyN2zFFL049jvDEx5m9/cLwb",
      "include_colab_link": true
    },
    "kernelspec": {
      "name": "python3",
      "display_name": "Python 3"
    },
    "language_info": {
      "name": "python"
    }
  },
  "cells": [
    {
      "cell_type": "markdown",
      "metadata": {
        "id": "view-in-github",
        "colab_type": "text"
      },
      "source": [
        "<a href=\"https://colab.research.google.com/github/amukund8/AML/blob/main/BreastCancerPreprocess.ipynb\" target=\"_parent\"><img src=\"https://colab.research.google.com/assets/colab-badge.svg\" alt=\"Open In Colab\"/></a>"
      ]
    },
    {
      "cell_type": "code",
      "execution_count": null,
      "metadata": {
        "id": "qVqkyZ9QYhOG"
      },
      "outputs": [],
      "source": [
        "import pandas as pd\n",
        "\n",
        "import matplotlib.pyplot as plt\n"
      ]
    },
    {
      "cell_type": "code",
      "source": [
        "df=pd.read_csv('Breast_Cancer.csv')"
      ],
      "metadata": {
        "id": "e8Vlchd0eBNs"
      },
      "execution_count": null,
      "outputs": []
    },
    {
      "cell_type": "code",
      "source": [
        "print(f'N rows={len(df)} M columns={len(df.columns)}')\n",
        "print(df.dtypes)"
      ],
      "metadata": {
        "colab": {
          "base_uri": "https://localhost:8080/"
        },
        "id": "HPHen8IQeGib",
        "outputId": "f97a5f96-e013-4bdf-fe9a-7f903dfdf459"
      },
      "execution_count": null,
      "outputs": [
        {
          "output_type": "stream",
          "name": "stdout",
          "text": [
            "N rows=4024 M columns=16\n",
            "Age                        int64\n",
            "Race                      object\n",
            "Marital Status            object\n",
            "T Stage                   object\n",
            "N Stage                   object\n",
            "6th Stage                 object\n",
            "differentiate             object\n",
            "Grade                     object\n",
            "A Stage                   object\n",
            "Tumor Size                 int64\n",
            "Estrogen Status           object\n",
            "Progesterone Status       object\n",
            "Regional Node Examined     int64\n",
            "Reginol Node Positive      int64\n",
            "Survival Months            int64\n",
            "Status                    object\n",
            "dtype: object\n"
          ]
        }
      ]
    },
    {
      "cell_type": "code",
      "source": [
        "# Check for duplicates, this adds a new column to the dataset\n",
        "df[\"is_duplicate\"]= df.duplicated()\n",
        "\n",
        "\n",
        "print(f\"#total= {len(df)}\")\n",
        "print(f\"#duplicated= {len(df[df['is_duplicate']==True])}\")"
      ],
      "metadata": {
        "colab": {
          "base_uri": "https://localhost:8080/"
        },
        "id": "Ki9QE8LVeKX7",
        "outputId": "230ef288-8b66-47bd-9b91-21af7012eba6"
      },
      "execution_count": null,
      "outputs": [
        {
          "output_type": "stream",
          "name": "stdout",
          "text": [
            "#total= 4024\n",
            "#duplicated= 1\n"
          ]
        }
      ]
    },
    {
      "cell_type": "code",
      "source": [
        "# Drop the duplicate rows using index - best way to drop in pandas\n",
        "index_to_drop = df[df['is_duplicate']==True].index\n",
        "df.drop(index_to_drop, inplace=True)\n",
        "\n",
        "\n",
        "df.drop(columns='is_duplicate', inplace=True)\n",
        "print(f'#total= {len(df)}')"
      ],
      "metadata": {
        "colab": {
          "base_uri": "https://localhost:8080/"
        },
        "id": "RrIJHVO5ebD1",
        "outputId": "a59ede45-65a7-4102-c595-ef37cf8e8343"
      },
      "execution_count": null,
      "outputs": [
        {
          "output_type": "stream",
          "name": "stdout",
          "text": [
            "#total= 4023\n"
          ]
        }
      ]
    },
    {
      "cell_type": "code",
      "source": [
        "# Do we have NaN in our dataset?\n",
        "df.isnull().any()"
      ],
      "metadata": {
        "colab": {
          "base_uri": "https://localhost:8080/"
        },
        "id": "wap1mi6hefZE",
        "outputId": "f1d741f5-d512-438e-c838-4b1e25f84d58"
      },
      "execution_count": null,
      "outputs": [
        {
          "output_type": "execute_result",
          "data": {
            "text/plain": [
              "Age                       False\n",
              "Race                      False\n",
              "Marital Status            False\n",
              "T Stage                   False\n",
              "N Stage                   False\n",
              "6th Stage                 False\n",
              "differentiate             False\n",
              "Grade                     False\n",
              "A Stage                   False\n",
              "Tumor Size                False\n",
              "Estrogen Status           False\n",
              "Progesterone Status       False\n",
              "Regional Node Examined    False\n",
              "Reginol Node Positive     False\n",
              "Survival Months           False\n",
              "Status                    False\n",
              "dtype: bool"
            ]
          },
          "metadata": {},
          "execution_count": 17
        }
      ]
    },
    {
      "cell_type": "markdown",
      "source": [
        "Missing Nominal Values"
      ],
      "metadata": {
        "id": "nnMQGkF7eruq"
      }
    },
    {
      "cell_type": "code",
      "source": [
        "# Check unique levels and see any marker is used for a missing level\n",
        "for col in df.columns:\n",
        "    if df[col].dtype == object:\n",
        "        print(col, df[col].unique())"
      ],
      "metadata": {
        "colab": {
          "base_uri": "https://localhost:8080/"
        },
        "id": "izKvcm-welhw",
        "outputId": "28076749-0729-4e17-bf1b-4d45aad29bdd"
      },
      "execution_count": null,
      "outputs": [
        {
          "output_type": "stream",
          "name": "stdout",
          "text": [
            "Race ['White' 'Black' 'Other']\n",
            "Marital Status ['Married' 'Divorced' 'Single ' 'Widowed' 'Separated']\n",
            "T Stage  ['T1' 'T2' 'T3' 'T4']\n",
            "N Stage ['N1' 'N2' 'N3']\n",
            "6th Stage ['IIA' 'IIIA' 'IIIC' 'IIB' 'IIIB']\n",
            "differentiate ['Poorly differentiated' 'Moderately differentiated' 'Well differentiated'\n",
            " 'Undifferentiated']\n",
            "Grade ['3' '2' '1' ' anaplastic; Grade IV']\n",
            "A Stage ['Regional' 'Distant']\n",
            "Estrogen Status ['Positive' 'Negative']\n",
            "Progesterone Status ['Positive' 'Negative']\n",
            "Status ['Alive' 'Dead']\n"
          ]
        }
      ]
    },
    {
      "cell_type": "code",
      "source": [
        "df['Grade'].replace(' anaplastic; Grade IV','4',inplace=True)\n",
        "\n"
      ],
      "metadata": {
        "id": "uYxuc27lb_gQ"
      },
      "execution_count": null,
      "outputs": []
    },
    {
      "cell_type": "code",
      "source": [
        "# Check unique levels and see any marker is used for a missing level\n",
        "for col in df.columns:\n",
        "    if df[col].dtype == object:\n",
        "        print(col, df[col].unique())"
      ],
      "metadata": {
        "colab": {
          "base_uri": "https://localhost:8080/"
        },
        "id": "W77E1-gWcgaZ",
        "outputId": "3642df60-0ad9-495f-c132-203f50224d43"
      },
      "execution_count": null,
      "outputs": [
        {
          "output_type": "stream",
          "name": "stdout",
          "text": [
            "Race ['White' 'Black' 'Other']\n",
            "Marital Status ['Married' 'Divorced' 'Single ' 'Widowed' 'Separated']\n",
            "T Stage  ['T1' 'T2' 'T3' 'T4']\n",
            "N Stage ['N1' 'N2' 'N3']\n",
            "6th Stage ['IIA' 'IIIA' 'IIIC' 'IIB' 'IIIB']\n",
            "differentiate ['Poorly differentiated' 'Moderately differentiated' 'Well differentiated'\n",
            " 'Undifferentiated']\n",
            "Grade ['3' '2' '1' '4']\n",
            "A Stage ['Regional' 'Distant']\n",
            "Estrogen Status ['Positive' 'Negative']\n",
            "Progesterone Status ['Positive' 'Negative']\n",
            "Status ['Alive' 'Dead']\n"
          ]
        }
      ]
    },
    {
      "cell_type": "code",
      "source": [
        "df['Grade']=df['Grade'].astype(int)"
      ],
      "metadata": {
        "id": "ZM5k7NCnc_O1"
      },
      "execution_count": null,
      "outputs": []
    },
    {
      "cell_type": "code",
      "source": [
        "# Check unique levels and see any marker is used for a missing level\n",
        "for col in df.columns:\n",
        "    if df[col].dtype == object:\n",
        "        print(col, df[col].unique())"
      ],
      "metadata": {
        "colab": {
          "base_uri": "https://localhost:8080/"
        },
        "id": "k2gFFS9YdKkJ",
        "outputId": "42dfc137-a1c1-46ed-ec08-4510c3e471e5"
      },
      "execution_count": null,
      "outputs": [
        {
          "output_type": "stream",
          "name": "stdout",
          "text": [
            "Race ['White' 'Black' 'Other']\n",
            "Marital Status ['Married' 'Divorced' 'Single ' 'Widowed' 'Separated']\n",
            "T Stage  ['T1' 'T2' 'T3' 'T4']\n",
            "N Stage ['N1' 'N2' 'N3']\n",
            "6th Stage ['IIA' 'IIIA' 'IIIC' 'IIB' 'IIIB']\n",
            "differentiate ['Poorly differentiated' 'Moderately differentiated' 'Well differentiated'\n",
            " 'Undifferentiated']\n",
            "A Stage ['Regional' 'Distant']\n",
            "Estrogen Status ['Positive' 'Negative']\n",
            "Progesterone Status ['Positive' 'Negative']\n",
            "Status ['Alive' 'Dead']\n"
          ]
        }
      ]
    },
    {
      "cell_type": "code",
      "source": [
        "for col in df.columns:\n",
        "\n",
        "  print(df[col].dtype,col, df[col].unique())"
      ],
      "metadata": {
        "colab": {
          "base_uri": "https://localhost:8080/"
        },
        "id": "lxeE_fNakwvo",
        "outputId": "f8247a69-68ad-4e8a-eb44-4cf34e8eba22"
      },
      "execution_count": null,
      "outputs": [
        {
          "output_type": "stream",
          "name": "stdout",
          "text": [
            "int64 Age [68 50 58 47 51 40 69 46 65 48 62 61 56 43 60 57 55 63 66 53 59 54 49 64\n",
            " 42 37 67 31 52 33 45 38 39 36 41 44 32 34 35 30]\n",
            "object Race ['White' 'Black' 'Other']\n",
            "object Marital Status ['Married' 'Divorced' 'Single ' 'Widowed' 'Separated']\n",
            "object T Stage  ['T1' 'T2' 'T3' 'T4']\n",
            "object N Stage ['N1' 'N2' 'N3']\n",
            "object 6th Stage ['IIA' 'IIIA' 'IIIC' 'IIB' 'IIIB']\n",
            "object differentiate ['Poorly differentiated' 'Moderately differentiated' 'Well differentiated'\n",
            " 'Undifferentiated']\n",
            "int64 Grade [3 2 1 4]\n",
            "object A Stage ['Regional' 'Distant']\n",
            "int64 Tumor Size [  4  35  63  18  41  20   8  30 103  32  13  59  15  19  46  24  25  29\n",
            "  40  70  22  50  17  21  10  27  23   5  51   9  55 120  77   2  11  12\n",
            "  26  75 130  34  80   3  60  14  16  45  36  76  38  49   7  72 100  43\n",
            "  62  37  68  52  85  57  39  28  48 110  65   6 105 140  42  31  90 108\n",
            "  98  47  54  61  74  33   1  87  81  58 117  44 123 133  95 107  92  69\n",
            "  56  82  66  78  97  88  53  83 101  84 115  73 125 104  94  86  64  96\n",
            "  79  67]\n",
            "object Estrogen Status ['Positive' 'Negative']\n",
            "object Progesterone Status ['Positive' 'Negative']\n",
            "int64 Regional Node Examined [24 14  2  3 18 11  9 20 21 13 23 16  1 22 15  4 26 31 25 10  5  6 19 12\n",
            "  8 17  7 49 33 30 34 28 32 27 42 29 41 39 46 40 51 44 38 47 54 36 61 37\n",
            " 35 43 52 45 57 60]\n",
            "int64 Reginol Node Positive [ 1  5  7  2 18 12  3 14 22 17 23  4 10  6  9  8 20 16 13 11 24 27 21 26\n",
            " 15 28 19 29 31 46 33 37 30 35 25 32 41 34]\n",
            "int64 Survival Months [ 60  62  75  84  50  89  54  14  70  92  64  56  38  49 105 107  77  81\n",
            "  78 102  98  82  86  52  90  31  37 103  42  61  63  39  59  71  74  73\n",
            "  91 106  80  44  85  79 104  12  95  55 101  65  72  57  87  40  25   8\n",
            "  53  58  24  66  69  93  94 100  96  41  67  51  13  11  47  23  45  68\n",
            "  76  15  16  99   7  48  88  34  97  83  17   3  22  30   6  32   9   5\n",
            "  10  19  18  35  27  36   4  29  33  26  20  28  43   1  46  21   2]\n",
            "object Status ['Alive' 'Dead']\n"
          ]
        }
      ]
    },
    {
      "cell_type": "code",
      "source": [
        "df.to_csv('BreastCancer.csv', index=False)"
      ],
      "metadata": {
        "id": "XIi0ZT97mbY8"
      },
      "execution_count": null,
      "outputs": []
    },
    {
      "cell_type": "code",
      "source": [
        "max=[]\n",
        "min=[]\n",
        "std=[]\n",
        "avg=[]\n",
        "mode=[]\n",
        "categories=[]\n",
        "\n",
        "for column in df.columns:\n",
        "  if df[column].dtype=='int64':\n",
        "    max_val=df[column].max()\n",
        "    max.append(max_val)\n",
        "    min_val=df[column].min()\n",
        "    min.append(min_val)\n",
        "    std.append(df[column].std())\n",
        "    avg.append(df[column].mean())\n",
        "    mode.append(df[column].value_counts().index[0])\n",
        "    categories.append(df[column].unique())\n",
        "\n",
        "\n",
        "  else:\n",
        "    max.append('Nominal Categorical Variable')\n",
        "    min.append('Nominal Categorical Variable')\n",
        "    std.append('Nominal Categorical Variable')\n",
        "    avg.append('Nominal Categorical Variable')\n",
        "    mode.append(df[column].value_counts().index[0])\n",
        "    categories.append(df[column].unique())\n",
        "\n",
        "\n",
        "\n",
        "\n"
      ],
      "metadata": {
        "id": "RQ3MfUqElPIS"
      },
      "execution_count": null,
      "outputs": []
    },
    {
      "cell_type": "code",
      "source": [
        "print(len(min),len(max),len(std),len(avg),len(mode))"
      ],
      "metadata": {
        "colab": {
          "base_uri": "https://localhost:8080/"
        },
        "id": "zklhxxQWn2R5",
        "outputId": "2741a771-2af1-42f3-a597-b117797962d5"
      },
      "execution_count": null,
      "outputs": [
        {
          "output_type": "stream",
          "name": "stdout",
          "text": [
            "16 16 16 16 16\n"
          ]
        }
      ]
    },
    {
      "cell_type": "code",
      "source": [
        "datatypes=[]\n",
        "for column in df.columns:\n",
        "  if df[column].dtype=='int64':\n",
        "    datatypes.append('Quantitative Interval')\n",
        "  else:\n",
        "    datatypes.append('Nominal Categorical')\n",
        "print(len(datatypes))"
      ],
      "metadata": {
        "colab": {
          "base_uri": "https://localhost:8080/"
        },
        "id": "pTmJ-OKemZr1",
        "outputId": "e6c45b8c-76bd-48e7-ba89-f667671739f1"
      },
      "execution_count": null,
      "outputs": [
        {
          "output_type": "stream",
          "name": "stdout",
          "text": [
            "16\n"
          ]
        }
      ]
    },
    {
      "cell_type": "code",
      "source": [
        "b=pd.DataFrame({'Variable':df.columns,'Datatype':datatypes,'Minimum Value':min,'Maximum Value':max,'Standard Deviation':std,'Mean':avg,'Mode':mode,'Categories':categories})"
      ],
      "metadata": {
        "id": "lKK8odyoosme"
      },
      "execution_count": null,
      "outputs": []
    },
    {
      "cell_type": "code",
      "source": [
        "b"
      ],
      "metadata": {
        "colab": {
          "base_uri": "https://localhost:8080/",
          "height": 1000
        },
        "id": "-9EpDzNgprgi",
        "outputId": "8a002e53-4b4e-44f9-ca2e-b5c25a8c8430"
      },
      "execution_count": null,
      "outputs": [
        {
          "output_type": "execute_result",
          "data": {
            "text/plain": [
              "                  Variable               Datatype  \\\n",
              "0                      Age  Quantitative Interval   \n",
              "1                     Race    Nominal Categorical   \n",
              "2           Marital Status    Nominal Categorical   \n",
              "3                 T Stage     Nominal Categorical   \n",
              "4                  N Stage    Nominal Categorical   \n",
              "5                6th Stage    Nominal Categorical   \n",
              "6            differentiate    Nominal Categorical   \n",
              "7                    Grade  Quantitative Interval   \n",
              "8                  A Stage    Nominal Categorical   \n",
              "9               Tumor Size  Quantitative Interval   \n",
              "10         Estrogen Status    Nominal Categorical   \n",
              "11     Progesterone Status    Nominal Categorical   \n",
              "12  Regional Node Examined  Quantitative Interval   \n",
              "13   Reginol Node Positive  Quantitative Interval   \n",
              "14         Survival Months  Quantitative Interval   \n",
              "15                  Status    Nominal Categorical   \n",
              "\n",
              "                   Minimum Value                 Maximum Value  \\\n",
              "0                             30                            69   \n",
              "1   Nominal Categorical Variable  Nominal Categorical Variable   \n",
              "2   Nominal Categorical Variable  Nominal Categorical Variable   \n",
              "3   Nominal Categorical Variable  Nominal Categorical Variable   \n",
              "4   Nominal Categorical Variable  Nominal Categorical Variable   \n",
              "5   Nominal Categorical Variable  Nominal Categorical Variable   \n",
              "6   Nominal Categorical Variable  Nominal Categorical Variable   \n",
              "7                              1                             4   \n",
              "8   Nominal Categorical Variable  Nominal Categorical Variable   \n",
              "9                              1                           140   \n",
              "10  Nominal Categorical Variable  Nominal Categorical Variable   \n",
              "11  Nominal Categorical Variable  Nominal Categorical Variable   \n",
              "12                             1                            61   \n",
              "13                             1                            46   \n",
              "14                             1                           107   \n",
              "15  Nominal Categorical Variable  Nominal Categorical Variable   \n",
              "\n",
              "              Standard Deviation                          Mean  \\\n",
              "0                       8.963118                     53.969923   \n",
              "1   Nominal Categorical Variable  Nominal Categorical Variable   \n",
              "2   Nominal Categorical Variable  Nominal Categorical Variable   \n",
              "3   Nominal Categorical Variable  Nominal Categorical Variable   \n",
              "4   Nominal Categorical Variable  Nominal Categorical Variable   \n",
              "5   Nominal Categorical Variable  Nominal Categorical Variable   \n",
              "6   Nominal Categorical Variable  Nominal Categorical Variable   \n",
              "7                       0.638309                      2.150634   \n",
              "8   Nominal Categorical Variable  Nominal Categorical Variable   \n",
              "9                      21.121253                     30.477007   \n",
              "10  Nominal Categorical Variable  Nominal Categorical Variable   \n",
              "11  Nominal Categorical Variable  Nominal Categorical Variable   \n",
              "12                      8.100241                     14.358439   \n",
              "13                      5.109724                      4.158837   \n",
              "14                     22.923009                     71.301765   \n",
              "15  Nominal Categorical Variable  Nominal Categorical Variable   \n",
              "\n",
              "                         Mode  \\\n",
              "0                          46   \n",
              "1                       White   \n",
              "2                     Married   \n",
              "3                          T2   \n",
              "4                          N1   \n",
              "5                         IIA   \n",
              "6   Moderately differentiated   \n",
              "7                           2   \n",
              "8                    Regional   \n",
              "9                          15   \n",
              "10                   Positive   \n",
              "11                   Positive   \n",
              "12                         13   \n",
              "13                          1   \n",
              "14                         69   \n",
              "15                      Alive   \n",
              "\n",
              "                                           Categories  \n",
              "0   [68, 50, 58, 47, 51, 40, 69, 46, 65, 48, 62, 6...  \n",
              "1                               [White, Black, Other]  \n",
              "2    [Married, Divorced, Single , Widowed, Separated]  \n",
              "3                                    [T1, T2, T3, T4]  \n",
              "4                                        [N1, N2, N3]  \n",
              "5                        [IIA, IIIA, IIIC, IIB, IIIB]  \n",
              "6   [Poorly differentiated, Moderately differentia...  \n",
              "7                                        [3, 2, 1, 4]  \n",
              "8                                 [Regional, Distant]  \n",
              "9   [4, 35, 63, 18, 41, 20, 8, 30, 103, 32, 13, 59...  \n",
              "10                               [Positive, Negative]  \n",
              "11                               [Positive, Negative]  \n",
              "12  [24, 14, 2, 3, 18, 11, 9, 20, 21, 13, 23, 16, ...  \n",
              "13  [1, 5, 7, 2, 18, 12, 3, 14, 22, 17, 23, 4, 10,...  \n",
              "14  [60, 62, 75, 84, 50, 89, 54, 14, 70, 92, 64, 5...  \n",
              "15                                      [Alive, Dead]  "
            ],
            "text/html": [
              "\n",
              "  <div id=\"df-af0ad497-d7e8-4396-928a-be5d5298855c\" class=\"colab-df-container\">\n",
              "    <div>\n",
              "<style scoped>\n",
              "    .dataframe tbody tr th:only-of-type {\n",
              "        vertical-align: middle;\n",
              "    }\n",
              "\n",
              "    .dataframe tbody tr th {\n",
              "        vertical-align: top;\n",
              "    }\n",
              "\n",
              "    .dataframe thead th {\n",
              "        text-align: right;\n",
              "    }\n",
              "</style>\n",
              "<table border=\"1\" class=\"dataframe\">\n",
              "  <thead>\n",
              "    <tr style=\"text-align: right;\">\n",
              "      <th></th>\n",
              "      <th>Variable</th>\n",
              "      <th>Datatype</th>\n",
              "      <th>Minimum Value</th>\n",
              "      <th>Maximum Value</th>\n",
              "      <th>Standard Deviation</th>\n",
              "      <th>Mean</th>\n",
              "      <th>Mode</th>\n",
              "      <th>Categories</th>\n",
              "    </tr>\n",
              "  </thead>\n",
              "  <tbody>\n",
              "    <tr>\n",
              "      <th>0</th>\n",
              "      <td>Age</td>\n",
              "      <td>Quantitative Interval</td>\n",
              "      <td>30</td>\n",
              "      <td>69</td>\n",
              "      <td>8.963118</td>\n",
              "      <td>53.969923</td>\n",
              "      <td>46</td>\n",
              "      <td>[68, 50, 58, 47, 51, 40, 69, 46, 65, 48, 62, 6...</td>\n",
              "    </tr>\n",
              "    <tr>\n",
              "      <th>1</th>\n",
              "      <td>Race</td>\n",
              "      <td>Nominal Categorical</td>\n",
              "      <td>Nominal Categorical Variable</td>\n",
              "      <td>Nominal Categorical Variable</td>\n",
              "      <td>Nominal Categorical Variable</td>\n",
              "      <td>Nominal Categorical Variable</td>\n",
              "      <td>White</td>\n",
              "      <td>[White, Black, Other]</td>\n",
              "    </tr>\n",
              "    <tr>\n",
              "      <th>2</th>\n",
              "      <td>Marital Status</td>\n",
              "      <td>Nominal Categorical</td>\n",
              "      <td>Nominal Categorical Variable</td>\n",
              "      <td>Nominal Categorical Variable</td>\n",
              "      <td>Nominal Categorical Variable</td>\n",
              "      <td>Nominal Categorical Variable</td>\n",
              "      <td>Married</td>\n",
              "      <td>[Married, Divorced, Single , Widowed, Separated]</td>\n",
              "    </tr>\n",
              "    <tr>\n",
              "      <th>3</th>\n",
              "      <td>T Stage</td>\n",
              "      <td>Nominal Categorical</td>\n",
              "      <td>Nominal Categorical Variable</td>\n",
              "      <td>Nominal Categorical Variable</td>\n",
              "      <td>Nominal Categorical Variable</td>\n",
              "      <td>Nominal Categorical Variable</td>\n",
              "      <td>T2</td>\n",
              "      <td>[T1, T2, T3, T4]</td>\n",
              "    </tr>\n",
              "    <tr>\n",
              "      <th>4</th>\n",
              "      <td>N Stage</td>\n",
              "      <td>Nominal Categorical</td>\n",
              "      <td>Nominal Categorical Variable</td>\n",
              "      <td>Nominal Categorical Variable</td>\n",
              "      <td>Nominal Categorical Variable</td>\n",
              "      <td>Nominal Categorical Variable</td>\n",
              "      <td>N1</td>\n",
              "      <td>[N1, N2, N3]</td>\n",
              "    </tr>\n",
              "    <tr>\n",
              "      <th>5</th>\n",
              "      <td>6th Stage</td>\n",
              "      <td>Nominal Categorical</td>\n",
              "      <td>Nominal Categorical Variable</td>\n",
              "      <td>Nominal Categorical Variable</td>\n",
              "      <td>Nominal Categorical Variable</td>\n",
              "      <td>Nominal Categorical Variable</td>\n",
              "      <td>IIA</td>\n",
              "      <td>[IIA, IIIA, IIIC, IIB, IIIB]</td>\n",
              "    </tr>\n",
              "    <tr>\n",
              "      <th>6</th>\n",
              "      <td>differentiate</td>\n",
              "      <td>Nominal Categorical</td>\n",
              "      <td>Nominal Categorical Variable</td>\n",
              "      <td>Nominal Categorical Variable</td>\n",
              "      <td>Nominal Categorical Variable</td>\n",
              "      <td>Nominal Categorical Variable</td>\n",
              "      <td>Moderately differentiated</td>\n",
              "      <td>[Poorly differentiated, Moderately differentia...</td>\n",
              "    </tr>\n",
              "    <tr>\n",
              "      <th>7</th>\n",
              "      <td>Grade</td>\n",
              "      <td>Quantitative Interval</td>\n",
              "      <td>1</td>\n",
              "      <td>4</td>\n",
              "      <td>0.638309</td>\n",
              "      <td>2.150634</td>\n",
              "      <td>2</td>\n",
              "      <td>[3, 2, 1, 4]</td>\n",
              "    </tr>\n",
              "    <tr>\n",
              "      <th>8</th>\n",
              "      <td>A Stage</td>\n",
              "      <td>Nominal Categorical</td>\n",
              "      <td>Nominal Categorical Variable</td>\n",
              "      <td>Nominal Categorical Variable</td>\n",
              "      <td>Nominal Categorical Variable</td>\n",
              "      <td>Nominal Categorical Variable</td>\n",
              "      <td>Regional</td>\n",
              "      <td>[Regional, Distant]</td>\n",
              "    </tr>\n",
              "    <tr>\n",
              "      <th>9</th>\n",
              "      <td>Tumor Size</td>\n",
              "      <td>Quantitative Interval</td>\n",
              "      <td>1</td>\n",
              "      <td>140</td>\n",
              "      <td>21.121253</td>\n",
              "      <td>30.477007</td>\n",
              "      <td>15</td>\n",
              "      <td>[4, 35, 63, 18, 41, 20, 8, 30, 103, 32, 13, 59...</td>\n",
              "    </tr>\n",
              "    <tr>\n",
              "      <th>10</th>\n",
              "      <td>Estrogen Status</td>\n",
              "      <td>Nominal Categorical</td>\n",
              "      <td>Nominal Categorical Variable</td>\n",
              "      <td>Nominal Categorical Variable</td>\n",
              "      <td>Nominal Categorical Variable</td>\n",
              "      <td>Nominal Categorical Variable</td>\n",
              "      <td>Positive</td>\n",
              "      <td>[Positive, Negative]</td>\n",
              "    </tr>\n",
              "    <tr>\n",
              "      <th>11</th>\n",
              "      <td>Progesterone Status</td>\n",
              "      <td>Nominal Categorical</td>\n",
              "      <td>Nominal Categorical Variable</td>\n",
              "      <td>Nominal Categorical Variable</td>\n",
              "      <td>Nominal Categorical Variable</td>\n",
              "      <td>Nominal Categorical Variable</td>\n",
              "      <td>Positive</td>\n",
              "      <td>[Positive, Negative]</td>\n",
              "    </tr>\n",
              "    <tr>\n",
              "      <th>12</th>\n",
              "      <td>Regional Node Examined</td>\n",
              "      <td>Quantitative Interval</td>\n",
              "      <td>1</td>\n",
              "      <td>61</td>\n",
              "      <td>8.100241</td>\n",
              "      <td>14.358439</td>\n",
              "      <td>13</td>\n",
              "      <td>[24, 14, 2, 3, 18, 11, 9, 20, 21, 13, 23, 16, ...</td>\n",
              "    </tr>\n",
              "    <tr>\n",
              "      <th>13</th>\n",
              "      <td>Reginol Node Positive</td>\n",
              "      <td>Quantitative Interval</td>\n",
              "      <td>1</td>\n",
              "      <td>46</td>\n",
              "      <td>5.109724</td>\n",
              "      <td>4.158837</td>\n",
              "      <td>1</td>\n",
              "      <td>[1, 5, 7, 2, 18, 12, 3, 14, 22, 17, 23, 4, 10,...</td>\n",
              "    </tr>\n",
              "    <tr>\n",
              "      <th>14</th>\n",
              "      <td>Survival Months</td>\n",
              "      <td>Quantitative Interval</td>\n",
              "      <td>1</td>\n",
              "      <td>107</td>\n",
              "      <td>22.923009</td>\n",
              "      <td>71.301765</td>\n",
              "      <td>69</td>\n",
              "      <td>[60, 62, 75, 84, 50, 89, 54, 14, 70, 92, 64, 5...</td>\n",
              "    </tr>\n",
              "    <tr>\n",
              "      <th>15</th>\n",
              "      <td>Status</td>\n",
              "      <td>Nominal Categorical</td>\n",
              "      <td>Nominal Categorical Variable</td>\n",
              "      <td>Nominal Categorical Variable</td>\n",
              "      <td>Nominal Categorical Variable</td>\n",
              "      <td>Nominal Categorical Variable</td>\n",
              "      <td>Alive</td>\n",
              "      <td>[Alive, Dead]</td>\n",
              "    </tr>\n",
              "  </tbody>\n",
              "</table>\n",
              "</div>\n",
              "    <div class=\"colab-df-buttons\">\n",
              "\n",
              "  <div class=\"colab-df-container\">\n",
              "    <button class=\"colab-df-convert\" onclick=\"convertToInteractive('df-af0ad497-d7e8-4396-928a-be5d5298855c')\"\n",
              "            title=\"Convert this dataframe to an interactive table.\"\n",
              "            style=\"display:none;\">\n",
              "\n",
              "  <svg xmlns=\"http://www.w3.org/2000/svg\" height=\"24px\" viewBox=\"0 -960 960 960\">\n",
              "    <path d=\"M120-120v-720h720v720H120Zm60-500h600v-160H180v160Zm220 220h160v-160H400v160Zm0 220h160v-160H400v160ZM180-400h160v-160H180v160Zm440 0h160v-160H620v160ZM180-180h160v-160H180v160Zm440 0h160v-160H620v160Z\"/>\n",
              "  </svg>\n",
              "    </button>\n",
              "\n",
              "  <style>\n",
              "    .colab-df-container {\n",
              "      display:flex;\n",
              "      gap: 12px;\n",
              "    }\n",
              "\n",
              "    .colab-df-convert {\n",
              "      background-color: #E8F0FE;\n",
              "      border: none;\n",
              "      border-radius: 50%;\n",
              "      cursor: pointer;\n",
              "      display: none;\n",
              "      fill: #1967D2;\n",
              "      height: 32px;\n",
              "      padding: 0 0 0 0;\n",
              "      width: 32px;\n",
              "    }\n",
              "\n",
              "    .colab-df-convert:hover {\n",
              "      background-color: #E2EBFA;\n",
              "      box-shadow: 0px 1px 2px rgba(60, 64, 67, 0.3), 0px 1px 3px 1px rgba(60, 64, 67, 0.15);\n",
              "      fill: #174EA6;\n",
              "    }\n",
              "\n",
              "    .colab-df-buttons div {\n",
              "      margin-bottom: 4px;\n",
              "    }\n",
              "\n",
              "    [theme=dark] .colab-df-convert {\n",
              "      background-color: #3B4455;\n",
              "      fill: #D2E3FC;\n",
              "    }\n",
              "\n",
              "    [theme=dark] .colab-df-convert:hover {\n",
              "      background-color: #434B5C;\n",
              "      box-shadow: 0px 1px 3px 1px rgba(0, 0, 0, 0.15);\n",
              "      filter: drop-shadow(0px 1px 2px rgba(0, 0, 0, 0.3));\n",
              "      fill: #FFFFFF;\n",
              "    }\n",
              "  </style>\n",
              "\n",
              "    <script>\n",
              "      const buttonEl =\n",
              "        document.querySelector('#df-af0ad497-d7e8-4396-928a-be5d5298855c button.colab-df-convert');\n",
              "      buttonEl.style.display =\n",
              "        google.colab.kernel.accessAllowed ? 'block' : 'none';\n",
              "\n",
              "      async function convertToInteractive(key) {\n",
              "        const element = document.querySelector('#df-af0ad497-d7e8-4396-928a-be5d5298855c');\n",
              "        const dataTable =\n",
              "          await google.colab.kernel.invokeFunction('convertToInteractive',\n",
              "                                                    [key], {});\n",
              "        if (!dataTable) return;\n",
              "\n",
              "        const docLinkHtml = 'Like what you see? Visit the ' +\n",
              "          '<a target=\"_blank\" href=https://colab.research.google.com/notebooks/data_table.ipynb>data table notebook</a>'\n",
              "          + ' to learn more about interactive tables.';\n",
              "        element.innerHTML = '';\n",
              "        dataTable['output_type'] = 'display_data';\n",
              "        await google.colab.output.renderOutput(dataTable, element);\n",
              "        const docLink = document.createElement('div');\n",
              "        docLink.innerHTML = docLinkHtml;\n",
              "        element.appendChild(docLink);\n",
              "      }\n",
              "    </script>\n",
              "  </div>\n",
              "\n",
              "\n",
              "<div id=\"df-cae788fb-bdd5-4ffa-b74e-d1ab81270513\">\n",
              "  <button class=\"colab-df-quickchart\" onclick=\"quickchart('df-cae788fb-bdd5-4ffa-b74e-d1ab81270513')\"\n",
              "            title=\"Suggest charts\"\n",
              "            style=\"display:none;\">\n",
              "\n",
              "<svg xmlns=\"http://www.w3.org/2000/svg\" height=\"24px\"viewBox=\"0 0 24 24\"\n",
              "     width=\"24px\">\n",
              "    <g>\n",
              "        <path d=\"M19 3H5c-1.1 0-2 .9-2 2v14c0 1.1.9 2 2 2h14c1.1 0 2-.9 2-2V5c0-1.1-.9-2-2-2zM9 17H7v-7h2v7zm4 0h-2V7h2v10zm4 0h-2v-4h2v4z\"/>\n",
              "    </g>\n",
              "</svg>\n",
              "  </button>\n",
              "\n",
              "<style>\n",
              "  .colab-df-quickchart {\n",
              "      --bg-color: #E8F0FE;\n",
              "      --fill-color: #1967D2;\n",
              "      --hover-bg-color: #E2EBFA;\n",
              "      --hover-fill-color: #174EA6;\n",
              "      --disabled-fill-color: #AAA;\n",
              "      --disabled-bg-color: #DDD;\n",
              "  }\n",
              "\n",
              "  [theme=dark] .colab-df-quickchart {\n",
              "      --bg-color: #3B4455;\n",
              "      --fill-color: #D2E3FC;\n",
              "      --hover-bg-color: #434B5C;\n",
              "      --hover-fill-color: #FFFFFF;\n",
              "      --disabled-bg-color: #3B4455;\n",
              "      --disabled-fill-color: #666;\n",
              "  }\n",
              "\n",
              "  .colab-df-quickchart {\n",
              "    background-color: var(--bg-color);\n",
              "    border: none;\n",
              "    border-radius: 50%;\n",
              "    cursor: pointer;\n",
              "    display: none;\n",
              "    fill: var(--fill-color);\n",
              "    height: 32px;\n",
              "    padding: 0;\n",
              "    width: 32px;\n",
              "  }\n",
              "\n",
              "  .colab-df-quickchart:hover {\n",
              "    background-color: var(--hover-bg-color);\n",
              "    box-shadow: 0 1px 2px rgba(60, 64, 67, 0.3), 0 1px 3px 1px rgba(60, 64, 67, 0.15);\n",
              "    fill: var(--button-hover-fill-color);\n",
              "  }\n",
              "\n",
              "  .colab-df-quickchart-complete:disabled,\n",
              "  .colab-df-quickchart-complete:disabled:hover {\n",
              "    background-color: var(--disabled-bg-color);\n",
              "    fill: var(--disabled-fill-color);\n",
              "    box-shadow: none;\n",
              "  }\n",
              "\n",
              "  .colab-df-spinner {\n",
              "    border: 2px solid var(--fill-color);\n",
              "    border-color: transparent;\n",
              "    border-bottom-color: var(--fill-color);\n",
              "    animation:\n",
              "      spin 1s steps(1) infinite;\n",
              "  }\n",
              "\n",
              "  @keyframes spin {\n",
              "    0% {\n",
              "      border-color: transparent;\n",
              "      border-bottom-color: var(--fill-color);\n",
              "      border-left-color: var(--fill-color);\n",
              "    }\n",
              "    20% {\n",
              "      border-color: transparent;\n",
              "      border-left-color: var(--fill-color);\n",
              "      border-top-color: var(--fill-color);\n",
              "    }\n",
              "    30% {\n",
              "      border-color: transparent;\n",
              "      border-left-color: var(--fill-color);\n",
              "      border-top-color: var(--fill-color);\n",
              "      border-right-color: var(--fill-color);\n",
              "    }\n",
              "    40% {\n",
              "      border-color: transparent;\n",
              "      border-right-color: var(--fill-color);\n",
              "      border-top-color: var(--fill-color);\n",
              "    }\n",
              "    60% {\n",
              "      border-color: transparent;\n",
              "      border-right-color: var(--fill-color);\n",
              "    }\n",
              "    80% {\n",
              "      border-color: transparent;\n",
              "      border-right-color: var(--fill-color);\n",
              "      border-bottom-color: var(--fill-color);\n",
              "    }\n",
              "    90% {\n",
              "      border-color: transparent;\n",
              "      border-bottom-color: var(--fill-color);\n",
              "    }\n",
              "  }\n",
              "</style>\n",
              "\n",
              "  <script>\n",
              "    async function quickchart(key) {\n",
              "      const quickchartButtonEl =\n",
              "        document.querySelector('#' + key + ' button');\n",
              "      quickchartButtonEl.disabled = true;  // To prevent multiple clicks.\n",
              "      quickchartButtonEl.classList.add('colab-df-spinner');\n",
              "      try {\n",
              "        const charts = await google.colab.kernel.invokeFunction(\n",
              "            'suggestCharts', [key], {});\n",
              "      } catch (error) {\n",
              "        console.error('Error during call to suggestCharts:', error);\n",
              "      }\n",
              "      quickchartButtonEl.classList.remove('colab-df-spinner');\n",
              "      quickchartButtonEl.classList.add('colab-df-quickchart-complete');\n",
              "    }\n",
              "    (() => {\n",
              "      let quickchartButtonEl =\n",
              "        document.querySelector('#df-cae788fb-bdd5-4ffa-b74e-d1ab81270513 button');\n",
              "      quickchartButtonEl.style.display =\n",
              "        google.colab.kernel.accessAllowed ? 'block' : 'none';\n",
              "    })();\n",
              "  </script>\n",
              "</div>\n",
              "\n",
              "  <div id=\"id_0aeccff4-7374-4991-b17f-891ff1a336c1\">\n",
              "    <style>\n",
              "      .colab-df-generate {\n",
              "        background-color: #E8F0FE;\n",
              "        border: none;\n",
              "        border-radius: 50%;\n",
              "        cursor: pointer;\n",
              "        display: none;\n",
              "        fill: #1967D2;\n",
              "        height: 32px;\n",
              "        padding: 0 0 0 0;\n",
              "        width: 32px;\n",
              "      }\n",
              "\n",
              "      .colab-df-generate:hover {\n",
              "        background-color: #E2EBFA;\n",
              "        box-shadow: 0px 1px 2px rgba(60, 64, 67, 0.3), 0px 1px 3px 1px rgba(60, 64, 67, 0.15);\n",
              "        fill: #174EA6;\n",
              "      }\n",
              "\n",
              "      [theme=dark] .colab-df-generate {\n",
              "        background-color: #3B4455;\n",
              "        fill: #D2E3FC;\n",
              "      }\n",
              "\n",
              "      [theme=dark] .colab-df-generate:hover {\n",
              "        background-color: #434B5C;\n",
              "        box-shadow: 0px 1px 3px 1px rgba(0, 0, 0, 0.15);\n",
              "        filter: drop-shadow(0px 1px 2px rgba(0, 0, 0, 0.3));\n",
              "        fill: #FFFFFF;\n",
              "      }\n",
              "    </style>\n",
              "    <button class=\"colab-df-generate\" onclick=\"generateWithVariable('b')\"\n",
              "            title=\"Generate code using this dataframe.\"\n",
              "            style=\"display:none;\">\n",
              "\n",
              "  <svg xmlns=\"http://www.w3.org/2000/svg\" height=\"24px\"viewBox=\"0 0 24 24\"\n",
              "       width=\"24px\">\n",
              "    <path d=\"M7,19H8.4L18.45,9,17,7.55,7,17.6ZM5,21V16.75L18.45,3.32a2,2,0,0,1,2.83,0l1.4,1.43a1.91,1.91,0,0,1,.58,1.4,1.91,1.91,0,0,1-.58,1.4L9.25,21ZM18.45,9,17,7.55Zm-12,3A5.31,5.31,0,0,0,4.9,8.1,5.31,5.31,0,0,0,1,6.5,5.31,5.31,0,0,0,4.9,4.9,5.31,5.31,0,0,0,6.5,1,5.31,5.31,0,0,0,8.1,4.9,5.31,5.31,0,0,0,12,6.5,5.46,5.46,0,0,0,6.5,12Z\"/>\n",
              "  </svg>\n",
              "    </button>\n",
              "    <script>\n",
              "      (() => {\n",
              "      const buttonEl =\n",
              "        document.querySelector('#id_0aeccff4-7374-4991-b17f-891ff1a336c1 button.colab-df-generate');\n",
              "      buttonEl.style.display =\n",
              "        google.colab.kernel.accessAllowed ? 'block' : 'none';\n",
              "\n",
              "      buttonEl.onclick = () => {\n",
              "        google.colab.notebook.generateWithVariable('b');\n",
              "      }\n",
              "      })();\n",
              "    </script>\n",
              "  </div>\n",
              "\n",
              "    </div>\n",
              "  </div>\n"
            ],
            "application/vnd.google.colaboratory.intrinsic+json": {
              "type": "dataframe",
              "variable_name": "b",
              "summary": "{\n  \"name\": \"b\",\n  \"rows\": 16,\n  \"fields\": [\n    {\n      \"column\": \"Variable\",\n      \"properties\": {\n        \"dtype\": \"string\",\n        \"num_unique_values\": 16,\n        \"samples\": [\n          \"Age\",\n          \"Race\",\n          \"6th Stage\"\n        ],\n        \"semantic_type\": \"\",\n        \"description\": \"\"\n      }\n    },\n    {\n      \"column\": \"Datatype\",\n      \"properties\": {\n        \"dtype\": \"category\",\n        \"num_unique_values\": 2,\n        \"samples\": [\n          \"Nominal Categorical\",\n          \"Quantitative Interval\"\n        ],\n        \"semantic_type\": \"\",\n        \"description\": \"\"\n      }\n    },\n    {\n      \"column\": \"Minimum Value\",\n      \"properties\": {\n        \"dtype\": \"category\",\n        \"num_unique_values\": 3,\n        \"samples\": [\n          \"30\",\n          \"Nominal Categorical Variable\"\n        ],\n        \"semantic_type\": \"\",\n        \"description\": \"\"\n      }\n    },\n    {\n      \"column\": \"Maximum Value\",\n      \"properties\": {\n        \"dtype\": \"category\",\n        \"num_unique_values\": 7,\n        \"samples\": [\n          \"69\",\n          \"Nominal Categorical Variable\"\n        ],\n        \"semantic_type\": \"\",\n        \"description\": \"\"\n      }\n    },\n    {\n      \"column\": \"Standard Deviation\",\n      \"properties\": {\n        \"dtype\": \"category\",\n        \"num_unique_values\": 7,\n        \"samples\": [\n          8.963117984663018,\n          \"Nominal Categorical Variable\"\n        ],\n        \"semantic_type\": \"\",\n        \"description\": \"\"\n      }\n    },\n    {\n      \"column\": \"Mean\",\n      \"properties\": {\n        \"dtype\": \"category\",\n        \"num_unique_values\": 7,\n        \"samples\": [\n          53.96992294307731,\n          \"Nominal Categorical Variable\"\n        ],\n        \"semantic_type\": \"\",\n        \"description\": \"\"\n      }\n    },\n    {\n      \"column\": \"Mode\",\n      \"properties\": {\n        \"dtype\": \"string\",\n        \"num_unique_values\": 15,\n        \"samples\": [\n          \"15\",\n          \"13\"\n        ],\n        \"semantic_type\": \"\",\n        \"description\": \"\"\n      }\n    },\n    {\n      \"column\": \"Categories\",\n      \"properties\": {\n        \"dtype\": \"object\",\n        \"semantic_type\": \"\",\n        \"description\": \"\"\n      }\n    }\n  ]\n}"
            }
          },
          "metadata": {},
          "execution_count": 38
        }
      ]
    },
    {
      "cell_type": "code",
      "source": [
        "b.to_csv('breastcancerdescription.csv')"
      ],
      "metadata": {
        "id": "0XqC14uHp0RM"
      },
      "execution_count": null,
      "outputs": []
    },
    {
      "cell_type": "code",
      "source": [],
      "metadata": {
        "id": "CW0B86iYXhKx"
      },
      "execution_count": null,
      "outputs": []
    }
  ]
}