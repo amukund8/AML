{
  "nbformat": 4,
  "nbformat_minor": 0,
  "metadata": {
    "colab": {
      "provenance": []
    },
    "kernelspec": {
      "name": "python3",
      "display_name": "Python 3"
    },
    "language_info": {
      "name": "python"
    }
  },
  "cells": [
    {
      "cell_type": "code",
      "source": [
        "import pandas as pd\n",
        "data=pd.read_csv('heart_dataset.csv')"
      ],
      "metadata": {
        "id": "LsTNAcjjEZXd"
      },
      "execution_count": 1,
      "outputs": []
    },
    {
      "cell_type": "code",
      "source": [
        "data.head()"
      ],
      "metadata": {
        "colab": {
          "base_uri": "https://localhost:8080/",
          "height": 226
        },
        "id": "p00Rtis-EwOD",
        "outputId": "52f138c1-0849-428b-92a9-b294761dfb78"
      },
      "execution_count": 2,
      "outputs": [
        {
          "output_type": "execute_result",
          "data": {
            "text/plain": [
              "   Age Sex ChestPainType  RestingBP  Cholesterol  FastingBS RestingECG  MaxHR  \\\n",
              "0   40   M           ATA        140          289          0     Normal    172   \n",
              "1   49   F           NAP        160          180          0     Normal    156   \n",
              "2   37   M           ATA        130          283          0         ST     98   \n",
              "3   48   F           ASY        138          214          0     Normal    108   \n",
              "4   54   M           NAP        150          195          0     Normal    122   \n",
              "\n",
              "  ExerciseAngina  Oldpeak ST_Slope  HeartDisease  \n",
              "0              N      0.0       Up             0  \n",
              "1              N      1.0     Flat             1  \n",
              "2              N      0.0       Up             0  \n",
              "3              Y      1.5     Flat             1  \n",
              "4              N      0.0       Up             0  "
            ],
            "text/html": [
              "\n",
              "  <div id=\"df-bf109788-f0af-4c56-8c1f-ef64eff9ea89\" class=\"colab-df-container\">\n",
              "    <div>\n",
              "<style scoped>\n",
              "    .dataframe tbody tr th:only-of-type {\n",
              "        vertical-align: middle;\n",
              "    }\n",
              "\n",
              "    .dataframe tbody tr th {\n",
              "        vertical-align: top;\n",
              "    }\n",
              "\n",
              "    .dataframe thead th {\n",
              "        text-align: right;\n",
              "    }\n",
              "</style>\n",
              "<table border=\"1\" class=\"dataframe\">\n",
              "  <thead>\n",
              "    <tr style=\"text-align: right;\">\n",
              "      <th></th>\n",
              "      <th>Age</th>\n",
              "      <th>Sex</th>\n",
              "      <th>ChestPainType</th>\n",
              "      <th>RestingBP</th>\n",
              "      <th>Cholesterol</th>\n",
              "      <th>FastingBS</th>\n",
              "      <th>RestingECG</th>\n",
              "      <th>MaxHR</th>\n",
              "      <th>ExerciseAngina</th>\n",
              "      <th>Oldpeak</th>\n",
              "      <th>ST_Slope</th>\n",
              "      <th>HeartDisease</th>\n",
              "    </tr>\n",
              "  </thead>\n",
              "  <tbody>\n",
              "    <tr>\n",
              "      <th>0</th>\n",
              "      <td>40</td>\n",
              "      <td>M</td>\n",
              "      <td>ATA</td>\n",
              "      <td>140</td>\n",
              "      <td>289</td>\n",
              "      <td>0</td>\n",
              "      <td>Normal</td>\n",
              "      <td>172</td>\n",
              "      <td>N</td>\n",
              "      <td>0.0</td>\n",
              "      <td>Up</td>\n",
              "      <td>0</td>\n",
              "    </tr>\n",
              "    <tr>\n",
              "      <th>1</th>\n",
              "      <td>49</td>\n",
              "      <td>F</td>\n",
              "      <td>NAP</td>\n",
              "      <td>160</td>\n",
              "      <td>180</td>\n",
              "      <td>0</td>\n",
              "      <td>Normal</td>\n",
              "      <td>156</td>\n",
              "      <td>N</td>\n",
              "      <td>1.0</td>\n",
              "      <td>Flat</td>\n",
              "      <td>1</td>\n",
              "    </tr>\n",
              "    <tr>\n",
              "      <th>2</th>\n",
              "      <td>37</td>\n",
              "      <td>M</td>\n",
              "      <td>ATA</td>\n",
              "      <td>130</td>\n",
              "      <td>283</td>\n",
              "      <td>0</td>\n",
              "      <td>ST</td>\n",
              "      <td>98</td>\n",
              "      <td>N</td>\n",
              "      <td>0.0</td>\n",
              "      <td>Up</td>\n",
              "      <td>0</td>\n",
              "    </tr>\n",
              "    <tr>\n",
              "      <th>3</th>\n",
              "      <td>48</td>\n",
              "      <td>F</td>\n",
              "      <td>ASY</td>\n",
              "      <td>138</td>\n",
              "      <td>214</td>\n",
              "      <td>0</td>\n",
              "      <td>Normal</td>\n",
              "      <td>108</td>\n",
              "      <td>Y</td>\n",
              "      <td>1.5</td>\n",
              "      <td>Flat</td>\n",
              "      <td>1</td>\n",
              "    </tr>\n",
              "    <tr>\n",
              "      <th>4</th>\n",
              "      <td>54</td>\n",
              "      <td>M</td>\n",
              "      <td>NAP</td>\n",
              "      <td>150</td>\n",
              "      <td>195</td>\n",
              "      <td>0</td>\n",
              "      <td>Normal</td>\n",
              "      <td>122</td>\n",
              "      <td>N</td>\n",
              "      <td>0.0</td>\n",
              "      <td>Up</td>\n",
              "      <td>0</td>\n",
              "    </tr>\n",
              "  </tbody>\n",
              "</table>\n",
              "</div>\n",
              "    <div class=\"colab-df-buttons\">\n",
              "\n",
              "  <div class=\"colab-df-container\">\n",
              "    <button class=\"colab-df-convert\" onclick=\"convertToInteractive('df-bf109788-f0af-4c56-8c1f-ef64eff9ea89')\"\n",
              "            title=\"Convert this dataframe to an interactive table.\"\n",
              "            style=\"display:none;\">\n",
              "\n",
              "  <svg xmlns=\"http://www.w3.org/2000/svg\" height=\"24px\" viewBox=\"0 -960 960 960\">\n",
              "    <path d=\"M120-120v-720h720v720H120Zm60-500h600v-160H180v160Zm220 220h160v-160H400v160Zm0 220h160v-160H400v160ZM180-400h160v-160H180v160Zm440 0h160v-160H620v160ZM180-180h160v-160H180v160Zm440 0h160v-160H620v160Z\"/>\n",
              "  </svg>\n",
              "    </button>\n",
              "\n",
              "  <style>\n",
              "    .colab-df-container {\n",
              "      display:flex;\n",
              "      gap: 12px;\n",
              "    }\n",
              "\n",
              "    .colab-df-convert {\n",
              "      background-color: #E8F0FE;\n",
              "      border: none;\n",
              "      border-radius: 50%;\n",
              "      cursor: pointer;\n",
              "      display: none;\n",
              "      fill: #1967D2;\n",
              "      height: 32px;\n",
              "      padding: 0 0 0 0;\n",
              "      width: 32px;\n",
              "    }\n",
              "\n",
              "    .colab-df-convert:hover {\n",
              "      background-color: #E2EBFA;\n",
              "      box-shadow: 0px 1px 2px rgba(60, 64, 67, 0.3), 0px 1px 3px 1px rgba(60, 64, 67, 0.15);\n",
              "      fill: #174EA6;\n",
              "    }\n",
              "\n",
              "    .colab-df-buttons div {\n",
              "      margin-bottom: 4px;\n",
              "    }\n",
              "\n",
              "    [theme=dark] .colab-df-convert {\n",
              "      background-color: #3B4455;\n",
              "      fill: #D2E3FC;\n",
              "    }\n",
              "\n",
              "    [theme=dark] .colab-df-convert:hover {\n",
              "      background-color: #434B5C;\n",
              "      box-shadow: 0px 1px 3px 1px rgba(0, 0, 0, 0.15);\n",
              "      filter: drop-shadow(0px 1px 2px rgba(0, 0, 0, 0.3));\n",
              "      fill: #FFFFFF;\n",
              "    }\n",
              "  </style>\n",
              "\n",
              "    <script>\n",
              "      const buttonEl =\n",
              "        document.querySelector('#df-bf109788-f0af-4c56-8c1f-ef64eff9ea89 button.colab-df-convert');\n",
              "      buttonEl.style.display =\n",
              "        google.colab.kernel.accessAllowed ? 'block' : 'none';\n",
              "\n",
              "      async function convertToInteractive(key) {\n",
              "        const element = document.querySelector('#df-bf109788-f0af-4c56-8c1f-ef64eff9ea89');\n",
              "        const dataTable =\n",
              "          await google.colab.kernel.invokeFunction('convertToInteractive',\n",
              "                                                    [key], {});\n",
              "        if (!dataTable) return;\n",
              "\n",
              "        const docLinkHtml = 'Like what you see? Visit the ' +\n",
              "          '<a target=\"_blank\" href=https://colab.research.google.com/notebooks/data_table.ipynb>data table notebook</a>'\n",
              "          + ' to learn more about interactive tables.';\n",
              "        element.innerHTML = '';\n",
              "        dataTable['output_type'] = 'display_data';\n",
              "        await google.colab.output.renderOutput(dataTable, element);\n",
              "        const docLink = document.createElement('div');\n",
              "        docLink.innerHTML = docLinkHtml;\n",
              "        element.appendChild(docLink);\n",
              "      }\n",
              "    </script>\n",
              "  </div>\n",
              "\n",
              "\n",
              "<div id=\"df-195c6350-65ec-4cfe-8382-3638f89ccd4e\">\n",
              "  <button class=\"colab-df-quickchart\" onclick=\"quickchart('df-195c6350-65ec-4cfe-8382-3638f89ccd4e')\"\n",
              "            title=\"Suggest charts\"\n",
              "            style=\"display:none;\">\n",
              "\n",
              "<svg xmlns=\"http://www.w3.org/2000/svg\" height=\"24px\"viewBox=\"0 0 24 24\"\n",
              "     width=\"24px\">\n",
              "    <g>\n",
              "        <path d=\"M19 3H5c-1.1 0-2 .9-2 2v14c0 1.1.9 2 2 2h14c1.1 0 2-.9 2-2V5c0-1.1-.9-2-2-2zM9 17H7v-7h2v7zm4 0h-2V7h2v10zm4 0h-2v-4h2v4z\"/>\n",
              "    </g>\n",
              "</svg>\n",
              "  </button>\n",
              "\n",
              "<style>\n",
              "  .colab-df-quickchart {\n",
              "      --bg-color: #E8F0FE;\n",
              "      --fill-color: #1967D2;\n",
              "      --hover-bg-color: #E2EBFA;\n",
              "      --hover-fill-color: #174EA6;\n",
              "      --disabled-fill-color: #AAA;\n",
              "      --disabled-bg-color: #DDD;\n",
              "  }\n",
              "\n",
              "  [theme=dark] .colab-df-quickchart {\n",
              "      --bg-color: #3B4455;\n",
              "      --fill-color: #D2E3FC;\n",
              "      --hover-bg-color: #434B5C;\n",
              "      --hover-fill-color: #FFFFFF;\n",
              "      --disabled-bg-color: #3B4455;\n",
              "      --disabled-fill-color: #666;\n",
              "  }\n",
              "\n",
              "  .colab-df-quickchart {\n",
              "    background-color: var(--bg-color);\n",
              "    border: none;\n",
              "    border-radius: 50%;\n",
              "    cursor: pointer;\n",
              "    display: none;\n",
              "    fill: var(--fill-color);\n",
              "    height: 32px;\n",
              "    padding: 0;\n",
              "    width: 32px;\n",
              "  }\n",
              "\n",
              "  .colab-df-quickchart:hover {\n",
              "    background-color: var(--hover-bg-color);\n",
              "    box-shadow: 0 1px 2px rgba(60, 64, 67, 0.3), 0 1px 3px 1px rgba(60, 64, 67, 0.15);\n",
              "    fill: var(--button-hover-fill-color);\n",
              "  }\n",
              "\n",
              "  .colab-df-quickchart-complete:disabled,\n",
              "  .colab-df-quickchart-complete:disabled:hover {\n",
              "    background-color: var(--disabled-bg-color);\n",
              "    fill: var(--disabled-fill-color);\n",
              "    box-shadow: none;\n",
              "  }\n",
              "\n",
              "  .colab-df-spinner {\n",
              "    border: 2px solid var(--fill-color);\n",
              "    border-color: transparent;\n",
              "    border-bottom-color: var(--fill-color);\n",
              "    animation:\n",
              "      spin 1s steps(1) infinite;\n",
              "  }\n",
              "\n",
              "  @keyframes spin {\n",
              "    0% {\n",
              "      border-color: transparent;\n",
              "      border-bottom-color: var(--fill-color);\n",
              "      border-left-color: var(--fill-color);\n",
              "    }\n",
              "    20% {\n",
              "      border-color: transparent;\n",
              "      border-left-color: var(--fill-color);\n",
              "      border-top-color: var(--fill-color);\n",
              "    }\n",
              "    30% {\n",
              "      border-color: transparent;\n",
              "      border-left-color: var(--fill-color);\n",
              "      border-top-color: var(--fill-color);\n",
              "      border-right-color: var(--fill-color);\n",
              "    }\n",
              "    40% {\n",
              "      border-color: transparent;\n",
              "      border-right-color: var(--fill-color);\n",
              "      border-top-color: var(--fill-color);\n",
              "    }\n",
              "    60% {\n",
              "      border-color: transparent;\n",
              "      border-right-color: var(--fill-color);\n",
              "    }\n",
              "    80% {\n",
              "      border-color: transparent;\n",
              "      border-right-color: var(--fill-color);\n",
              "      border-bottom-color: var(--fill-color);\n",
              "    }\n",
              "    90% {\n",
              "      border-color: transparent;\n",
              "      border-bottom-color: var(--fill-color);\n",
              "    }\n",
              "  }\n",
              "</style>\n",
              "\n",
              "  <script>\n",
              "    async function quickchart(key) {\n",
              "      const quickchartButtonEl =\n",
              "        document.querySelector('#' + key + ' button');\n",
              "      quickchartButtonEl.disabled = true;  // To prevent multiple clicks.\n",
              "      quickchartButtonEl.classList.add('colab-df-spinner');\n",
              "      try {\n",
              "        const charts = await google.colab.kernel.invokeFunction(\n",
              "            'suggestCharts', [key], {});\n",
              "      } catch (error) {\n",
              "        console.error('Error during call to suggestCharts:', error);\n",
              "      }\n",
              "      quickchartButtonEl.classList.remove('colab-df-spinner');\n",
              "      quickchartButtonEl.classList.add('colab-df-quickchart-complete');\n",
              "    }\n",
              "    (() => {\n",
              "      let quickchartButtonEl =\n",
              "        document.querySelector('#df-195c6350-65ec-4cfe-8382-3638f89ccd4e button');\n",
              "      quickchartButtonEl.style.display =\n",
              "        google.colab.kernel.accessAllowed ? 'block' : 'none';\n",
              "    })();\n",
              "  </script>\n",
              "</div>\n",
              "\n",
              "    </div>\n",
              "  </div>\n"
            ],
            "application/vnd.google.colaboratory.intrinsic+json": {
              "type": "dataframe",
              "variable_name": "data",
              "summary": "{\n  \"name\": \"data\",\n  \"rows\": 918,\n  \"fields\": [\n    {\n      \"column\": \"Age\",\n      \"properties\": {\n        \"dtype\": \"number\",\n        \"std\": 9,\n        \"min\": 28,\n        \"max\": 77,\n        \"num_unique_values\": 50,\n        \"samples\": [\n          44,\n          68,\n          66\n        ],\n        \"semantic_type\": \"\",\n        \"description\": \"\"\n      }\n    },\n    {\n      \"column\": \"Sex\",\n      \"properties\": {\n        \"dtype\": \"category\",\n        \"num_unique_values\": 2,\n        \"samples\": [\n          \"F\",\n          \"M\"\n        ],\n        \"semantic_type\": \"\",\n        \"description\": \"\"\n      }\n    },\n    {\n      \"column\": \"ChestPainType\",\n      \"properties\": {\n        \"dtype\": \"category\",\n        \"num_unique_values\": 4,\n        \"samples\": [\n          \"NAP\",\n          \"TA\"\n        ],\n        \"semantic_type\": \"\",\n        \"description\": \"\"\n      }\n    },\n    {\n      \"column\": \"RestingBP\",\n      \"properties\": {\n        \"dtype\": \"number\",\n        \"std\": 18,\n        \"min\": 0,\n        \"max\": 200,\n        \"num_unique_values\": 67,\n        \"samples\": [\n          165,\n          118\n        ],\n        \"semantic_type\": \"\",\n        \"description\": \"\"\n      }\n    },\n    {\n      \"column\": \"Cholesterol\",\n      \"properties\": {\n        \"dtype\": \"number\",\n        \"std\": 109,\n        \"min\": 0,\n        \"max\": 603,\n        \"num_unique_values\": 222,\n        \"samples\": [\n          305,\n          321\n        ],\n        \"semantic_type\": \"\",\n        \"description\": \"\"\n      }\n    },\n    {\n      \"column\": \"FastingBS\",\n      \"properties\": {\n        \"dtype\": \"number\",\n        \"std\": 0,\n        \"min\": 0,\n        \"max\": 1,\n        \"num_unique_values\": 2,\n        \"samples\": [\n          1,\n          0\n        ],\n        \"semantic_type\": \"\",\n        \"description\": \"\"\n      }\n    },\n    {\n      \"column\": \"RestingECG\",\n      \"properties\": {\n        \"dtype\": \"category\",\n        \"num_unique_values\": 3,\n        \"samples\": [\n          \"Normal\",\n          \"ST\"\n        ],\n        \"semantic_type\": \"\",\n        \"description\": \"\"\n      }\n    },\n    {\n      \"column\": \"MaxHR\",\n      \"properties\": {\n        \"dtype\": \"number\",\n        \"std\": 25,\n        \"min\": 60,\n        \"max\": 202,\n        \"num_unique_values\": 119,\n        \"samples\": [\n          132,\n          157\n        ],\n        \"semantic_type\": \"\",\n        \"description\": \"\"\n      }\n    },\n    {\n      \"column\": \"ExerciseAngina\",\n      \"properties\": {\n        \"dtype\": \"category\",\n        \"num_unique_values\": 2,\n        \"samples\": [\n          \"Y\",\n          \"N\"\n        ],\n        \"semantic_type\": \"\",\n        \"description\": \"\"\n      }\n    },\n    {\n      \"column\": \"Oldpeak\",\n      \"properties\": {\n        \"dtype\": \"number\",\n        \"std\": 1.0665701510493257,\n        \"min\": -2.6,\n        \"max\": 6.2,\n        \"num_unique_values\": 53,\n        \"samples\": [\n          1.3,\n          0.6\n        ],\n        \"semantic_type\": \"\",\n        \"description\": \"\"\n      }\n    },\n    {\n      \"column\": \"ST_Slope\",\n      \"properties\": {\n        \"dtype\": \"category\",\n        \"num_unique_values\": 3,\n        \"samples\": [\n          \"Up\",\n          \"Flat\"\n        ],\n        \"semantic_type\": \"\",\n        \"description\": \"\"\n      }\n    },\n    {\n      \"column\": \"HeartDisease\",\n      \"properties\": {\n        \"dtype\": \"number\",\n        \"std\": 0,\n        \"min\": 0,\n        \"max\": 1,\n        \"num_unique_values\": 2,\n        \"samples\": [\n          1,\n          0\n        ],\n        \"semantic_type\": \"\",\n        \"description\": \"\"\n      }\n    }\n  ]\n}"
            }
          },
          "metadata": {},
          "execution_count": 2
        }
      ]
    },
    {
      "cell_type": "code",
      "source": [
        "# Check for duplicate rows\n",
        "data[\"is_duplicate\"]= data.duplicated()\n",
        "\n",
        "print(f\"#total= {len(data)}\")\n",
        "print(f\"#duplicated= {len(data[data['is_duplicate']==True])}\")\n"
      ],
      "metadata": {
        "colab": {
          "base_uri": "https://localhost:8080/"
        },
        "id": "scgCF1nIFHbc",
        "outputId": "5ec48068-662b-40d2-ba25-ce2f21ae687c"
      },
      "execution_count": 3,
      "outputs": [
        {
          "output_type": "stream",
          "name": "stdout",
          "text": [
            "#total= 918\n",
            "#duplicated= 0\n"
          ]
        }
      ]
    },
    {
      "cell_type": "code",
      "source": [
        "data=data.drop('is_duplicate',axis=1)"
      ],
      "metadata": {
        "id": "u_6GvZgYFPkP"
      },
      "execution_count": 4,
      "outputs": []
    },
    {
      "cell_type": "code",
      "source": [
        "# Check for missing values\n",
        "data.isnull().any()\n"
      ],
      "metadata": {
        "colab": {
          "base_uri": "https://localhost:8080/"
        },
        "id": "owPoOT8JFThG",
        "outputId": "0eda06e7-e5f3-4ee6-a879-0c1a3dcb83a2"
      },
      "execution_count": 5,
      "outputs": [
        {
          "output_type": "execute_result",
          "data": {
            "text/plain": [
              "Age               False\n",
              "Sex               False\n",
              "ChestPainType     False\n",
              "RestingBP         False\n",
              "Cholesterol       False\n",
              "FastingBS         False\n",
              "RestingECG        False\n",
              "MaxHR             False\n",
              "ExerciseAngina    False\n",
              "Oldpeak           False\n",
              "ST_Slope          False\n",
              "HeartDisease      False\n",
              "dtype: bool"
            ]
          },
          "metadata": {},
          "execution_count": 5
        }
      ]
    },
    {
      "cell_type": "code",
      "source": [
        "data_columns=list(data.columns)\n",
        "\n",
        "for column in data_columns:\n",
        "  print(data[column].unique())"
      ],
      "metadata": {
        "colab": {
          "base_uri": "https://localhost:8080/"
        },
        "id": "ssd1g_4kFf61",
        "outputId": "78521e21-07a2-41e3-e3ba-8a5719001483"
      },
      "execution_count": 6,
      "outputs": [
        {
          "output_type": "stream",
          "name": "stdout",
          "text": [
            "[40 49 37 48 54 39 45 58 42 38 43 60 36 44 53 52 51 56 41 32 65 35 59 50\n",
            " 47 31 46 57 55 63 66 34 33 61 29 62 28 30 74 68 72 64 69 67 73 70 77 75\n",
            " 76 71]\n",
            "['M' 'F']\n",
            "['ATA' 'NAP' 'ASY' 'TA']\n",
            "[140 160 130 138 150 120 110 136 115 100 124 113 125 145 112 132 118 170\n",
            " 142 190 135 180 108 155 128 106  92 200 122  98 105 133  95  80 137 185\n",
            " 165 126 152 116   0 144 154 134 104 139 131 141 178 146 158 123 102  96\n",
            " 143 172 156 114 127 101 174  94 148 117 192 129 164]\n",
            "[289 180 283 214 195 339 237 208 207 284 211 164 204 234 273 196 201 248\n",
            " 267 223 184 288 215 209 260 468 188 518 167 224 172 186 254 306 250 177\n",
            " 227 230 294 264 259 175 318 216 340 233 205 245 194 270 213 365 342 253\n",
            " 277 202 297 225 246 412 265 182 218 268 163 529 100 206 238 139 263 291\n",
            " 229 307 210 329 147  85 269 275 179 392 466 129 241 255 276 282 338 160\n",
            " 156 272 240 393 161 228 292 388 166 247 331 341 243 279 198 249 168 603\n",
            " 159 190 185 290 212 231 222 235 320 187 266 287 404 312 251 328 285 280\n",
            " 192 193 308 219 257 132 226 217 303 298 256 117 295 173 315 281 309 200\n",
            " 336 355 326 171 491 271 274 394 221 126 305 220 242 347 344 358 169 181\n",
            "   0 236 203 153 316 311 252 458 384 258 349 142 197 113 261 310 232 110\n",
            " 123 170 369 152 244 165 337 300 333 385 322 564 239 293 407 149 199 417\n",
            " 178 319 354 330 302 313 141 327 304 286 360 262 325 299 409 174 183 321\n",
            " 353 335 278 157 176 131]\n",
            "[0 1]\n",
            "['Normal' 'ST' 'LVH']\n",
            "[172 156  98 108 122 170 142 130 120  99 145 140 137 150 166 165 125 160\n",
            " 164 138 178 112 118 127 114 154 155  87 148 100 168 184 121 153 134  96\n",
            " 174 175 144  82 135 115 128 116  94 110  92 180 152 124 106 185 139 190\n",
            " 146 158 132 176 119 188 162 105  90 136 167 129 102 143 103  91 126  93\n",
            " 131 149 123 182 141  77 109 133 179 113 104  95  72  97 117  86  63 157\n",
            "  83  60  70 163  67  78  84 111  80 107 161  69  88  73 159 151 181 186\n",
            " 177 173 169 171 147  71 192 195 194 187 202]\n",
            "['N' 'Y']\n",
            "[ 0.   1.   1.5  2.   3.   4.   0.5  2.5  5.   0.8  0.7  1.4  2.1  0.4\n",
            "  0.2  1.7  2.2  0.1  1.6  1.3  0.3  1.8  2.6 -0.9  2.8 -2.6 -1.5 -0.1\n",
            "  0.9  1.1  2.4 -1.  -1.1 -0.7 -0.8  3.7  1.2 -0.5 -2.   1.9  3.5  0.6\n",
            "  3.1  2.3  3.4  3.6  4.2  3.2  5.6  3.8  2.9  6.2  4.4]\n",
            "['Up' 'Flat' 'Down']\n",
            "[0 1]\n"
          ]
        }
      ]
    },
    {
      "cell_type": "markdown",
      "source": [
        "We don't have any '?'s, we can one hot encode now"
      ],
      "metadata": {
        "id": "g5ygfTMkGX55"
      }
    },
    {
      "cell_type": "code",
      "source": [
        "# pandas get_dummies function is the one-hot-encoder\n",
        "def encode_onehot(_df, _f):\n",
        "    _df2 = pd.get_dummies(_df[_f], prefix=_f, prefix_sep=' - ', dtype=int)\n",
        "    _df3 = pd.concat([_df, _df2], axis=1)\n",
        "    _df3 = _df3.drop([_f], axis=1)\n",
        "    return _df3\n",
        "\n",
        "# Print nominal variables\n",
        "data_objects=[]\n",
        "for f in list(data.columns.values):\n",
        "    if data[f].dtype == object:\n",
        "        print(f)\n",
        "        data_objects.append(f)"
      ],
      "metadata": {
        "colab": {
          "base_uri": "https://localhost:8080/"
        },
        "id": "XjfVCbqGGbXE",
        "outputId": "4b08f847-a144-4b5b-84eb-6974bcb91e79"
      },
      "execution_count": 7,
      "outputs": [
        {
          "output_type": "stream",
          "name": "stdout",
          "text": [
            "Sex\n",
            "ChestPainType\n",
            "RestingECG\n",
            "ExerciseAngina\n",
            "ST_Slope\n"
          ]
        }
      ]
    },
    {
      "cell_type": "code",
      "source": [
        "len(data.columns)"
      ],
      "metadata": {
        "colab": {
          "base_uri": "https://localhost:8080/"
        },
        "id": "GT_Leu7zHk5z",
        "outputId": "5c9ae1e0-c6ee-41c0-b7dc-950387de64a2"
      },
      "execution_count": 8,
      "outputs": [
        {
          "output_type": "execute_result",
          "data": {
            "text/plain": [
              "12"
            ]
          },
          "metadata": {},
          "execution_count": 8
        }
      ]
    },
    {
      "cell_type": "code",
      "source": [
        "for column in data_objects:\n",
        "  data=encode_onehot(data,column)\n",
        "\n",
        "data.head()\n",
        "print(len(data.columns))"
      ],
      "metadata": {
        "colab": {
          "base_uri": "https://localhost:8080/"
        },
        "id": "b9CeXbtVHIiC",
        "outputId": "ace8afa4-6502-4334-dff5-5f45bf5c7ca7"
      },
      "execution_count": 9,
      "outputs": [
        {
          "output_type": "stream",
          "name": "stdout",
          "text": [
            "21\n"
          ]
        }
      ]
    },
    {
      "cell_type": "code",
      "source": [
        "data.head()"
      ],
      "metadata": {
        "colab": {
          "base_uri": "https://localhost:8080/",
          "height": 273
        },
        "id": "32B48_p5HroV",
        "outputId": "3da9a1fb-8f7d-4c86-fe13-cb158f824944"
      },
      "execution_count": 10,
      "outputs": [
        {
          "output_type": "execute_result",
          "data": {
            "text/plain": [
              "   Age  RestingBP  Cholesterol  FastingBS  MaxHR  Oldpeak  HeartDisease  \\\n",
              "0   40        140          289          0    172      0.0             0   \n",
              "1   49        160          180          0    156      1.0             1   \n",
              "2   37        130          283          0     98      0.0             0   \n",
              "3   48        138          214          0    108      1.5             1   \n",
              "4   54        150          195          0    122      0.0             0   \n",
              "\n",
              "   Sex - F  Sex - M  ChestPainType - ASY  ...  ChestPainType - NAP  \\\n",
              "0        0        1                    0  ...                    0   \n",
              "1        1        0                    0  ...                    1   \n",
              "2        0        1                    0  ...                    0   \n",
              "3        1        0                    1  ...                    0   \n",
              "4        0        1                    0  ...                    1   \n",
              "\n",
              "   ChestPainType - TA  RestingECG - LVH  RestingECG - Normal  RestingECG - ST  \\\n",
              "0                   0                 0                    1                0   \n",
              "1                   0                 0                    1                0   \n",
              "2                   0                 0                    0                1   \n",
              "3                   0                 0                    1                0   \n",
              "4                   0                 0                    1                0   \n",
              "\n",
              "   ExerciseAngina - N  ExerciseAngina - Y  ST_Slope - Down  ST_Slope - Flat  \\\n",
              "0                   1                   0                0                0   \n",
              "1                   1                   0                0                1   \n",
              "2                   1                   0                0                0   \n",
              "3                   0                   1                0                1   \n",
              "4                   1                   0                0                0   \n",
              "\n",
              "   ST_Slope - Up  \n",
              "0              1  \n",
              "1              0  \n",
              "2              1  \n",
              "3              0  \n",
              "4              1  \n",
              "\n",
              "[5 rows x 21 columns]"
            ],
            "text/html": [
              "\n",
              "  <div id=\"df-7476129e-6c09-4e95-b8bb-f70fd0802107\" class=\"colab-df-container\">\n",
              "    <div>\n",
              "<style scoped>\n",
              "    .dataframe tbody tr th:only-of-type {\n",
              "        vertical-align: middle;\n",
              "    }\n",
              "\n",
              "    .dataframe tbody tr th {\n",
              "        vertical-align: top;\n",
              "    }\n",
              "\n",
              "    .dataframe thead th {\n",
              "        text-align: right;\n",
              "    }\n",
              "</style>\n",
              "<table border=\"1\" class=\"dataframe\">\n",
              "  <thead>\n",
              "    <tr style=\"text-align: right;\">\n",
              "      <th></th>\n",
              "      <th>Age</th>\n",
              "      <th>RestingBP</th>\n",
              "      <th>Cholesterol</th>\n",
              "      <th>FastingBS</th>\n",
              "      <th>MaxHR</th>\n",
              "      <th>Oldpeak</th>\n",
              "      <th>HeartDisease</th>\n",
              "      <th>Sex - F</th>\n",
              "      <th>Sex - M</th>\n",
              "      <th>ChestPainType - ASY</th>\n",
              "      <th>...</th>\n",
              "      <th>ChestPainType - NAP</th>\n",
              "      <th>ChestPainType - TA</th>\n",
              "      <th>RestingECG - LVH</th>\n",
              "      <th>RestingECG - Normal</th>\n",
              "      <th>RestingECG - ST</th>\n",
              "      <th>ExerciseAngina - N</th>\n",
              "      <th>ExerciseAngina - Y</th>\n",
              "      <th>ST_Slope - Down</th>\n",
              "      <th>ST_Slope - Flat</th>\n",
              "      <th>ST_Slope - Up</th>\n",
              "    </tr>\n",
              "  </thead>\n",
              "  <tbody>\n",
              "    <tr>\n",
              "      <th>0</th>\n",
              "      <td>40</td>\n",
              "      <td>140</td>\n",
              "      <td>289</td>\n",
              "      <td>0</td>\n",
              "      <td>172</td>\n",
              "      <td>0.0</td>\n",
              "      <td>0</td>\n",
              "      <td>0</td>\n",
              "      <td>1</td>\n",
              "      <td>0</td>\n",
              "      <td>...</td>\n",
              "      <td>0</td>\n",
              "      <td>0</td>\n",
              "      <td>0</td>\n",
              "      <td>1</td>\n",
              "      <td>0</td>\n",
              "      <td>1</td>\n",
              "      <td>0</td>\n",
              "      <td>0</td>\n",
              "      <td>0</td>\n",
              "      <td>1</td>\n",
              "    </tr>\n",
              "    <tr>\n",
              "      <th>1</th>\n",
              "      <td>49</td>\n",
              "      <td>160</td>\n",
              "      <td>180</td>\n",
              "      <td>0</td>\n",
              "      <td>156</td>\n",
              "      <td>1.0</td>\n",
              "      <td>1</td>\n",
              "      <td>1</td>\n",
              "      <td>0</td>\n",
              "      <td>0</td>\n",
              "      <td>...</td>\n",
              "      <td>1</td>\n",
              "      <td>0</td>\n",
              "      <td>0</td>\n",
              "      <td>1</td>\n",
              "      <td>0</td>\n",
              "      <td>1</td>\n",
              "      <td>0</td>\n",
              "      <td>0</td>\n",
              "      <td>1</td>\n",
              "      <td>0</td>\n",
              "    </tr>\n",
              "    <tr>\n",
              "      <th>2</th>\n",
              "      <td>37</td>\n",
              "      <td>130</td>\n",
              "      <td>283</td>\n",
              "      <td>0</td>\n",
              "      <td>98</td>\n",
              "      <td>0.0</td>\n",
              "      <td>0</td>\n",
              "      <td>0</td>\n",
              "      <td>1</td>\n",
              "      <td>0</td>\n",
              "      <td>...</td>\n",
              "      <td>0</td>\n",
              "      <td>0</td>\n",
              "      <td>0</td>\n",
              "      <td>0</td>\n",
              "      <td>1</td>\n",
              "      <td>1</td>\n",
              "      <td>0</td>\n",
              "      <td>0</td>\n",
              "      <td>0</td>\n",
              "      <td>1</td>\n",
              "    </tr>\n",
              "    <tr>\n",
              "      <th>3</th>\n",
              "      <td>48</td>\n",
              "      <td>138</td>\n",
              "      <td>214</td>\n",
              "      <td>0</td>\n",
              "      <td>108</td>\n",
              "      <td>1.5</td>\n",
              "      <td>1</td>\n",
              "      <td>1</td>\n",
              "      <td>0</td>\n",
              "      <td>1</td>\n",
              "      <td>...</td>\n",
              "      <td>0</td>\n",
              "      <td>0</td>\n",
              "      <td>0</td>\n",
              "      <td>1</td>\n",
              "      <td>0</td>\n",
              "      <td>0</td>\n",
              "      <td>1</td>\n",
              "      <td>0</td>\n",
              "      <td>1</td>\n",
              "      <td>0</td>\n",
              "    </tr>\n",
              "    <tr>\n",
              "      <th>4</th>\n",
              "      <td>54</td>\n",
              "      <td>150</td>\n",
              "      <td>195</td>\n",
              "      <td>0</td>\n",
              "      <td>122</td>\n",
              "      <td>0.0</td>\n",
              "      <td>0</td>\n",
              "      <td>0</td>\n",
              "      <td>1</td>\n",
              "      <td>0</td>\n",
              "      <td>...</td>\n",
              "      <td>1</td>\n",
              "      <td>0</td>\n",
              "      <td>0</td>\n",
              "      <td>1</td>\n",
              "      <td>0</td>\n",
              "      <td>1</td>\n",
              "      <td>0</td>\n",
              "      <td>0</td>\n",
              "      <td>0</td>\n",
              "      <td>1</td>\n",
              "    </tr>\n",
              "  </tbody>\n",
              "</table>\n",
              "<p>5 rows × 21 columns</p>\n",
              "</div>\n",
              "    <div class=\"colab-df-buttons\">\n",
              "\n",
              "  <div class=\"colab-df-container\">\n",
              "    <button class=\"colab-df-convert\" onclick=\"convertToInteractive('df-7476129e-6c09-4e95-b8bb-f70fd0802107')\"\n",
              "            title=\"Convert this dataframe to an interactive table.\"\n",
              "            style=\"display:none;\">\n",
              "\n",
              "  <svg xmlns=\"http://www.w3.org/2000/svg\" height=\"24px\" viewBox=\"0 -960 960 960\">\n",
              "    <path d=\"M120-120v-720h720v720H120Zm60-500h600v-160H180v160Zm220 220h160v-160H400v160Zm0 220h160v-160H400v160ZM180-400h160v-160H180v160Zm440 0h160v-160H620v160ZM180-180h160v-160H180v160Zm440 0h160v-160H620v160Z\"/>\n",
              "  </svg>\n",
              "    </button>\n",
              "\n",
              "  <style>\n",
              "    .colab-df-container {\n",
              "      display:flex;\n",
              "      gap: 12px;\n",
              "    }\n",
              "\n",
              "    .colab-df-convert {\n",
              "      background-color: #E8F0FE;\n",
              "      border: none;\n",
              "      border-radius: 50%;\n",
              "      cursor: pointer;\n",
              "      display: none;\n",
              "      fill: #1967D2;\n",
              "      height: 32px;\n",
              "      padding: 0 0 0 0;\n",
              "      width: 32px;\n",
              "    }\n",
              "\n",
              "    .colab-df-convert:hover {\n",
              "      background-color: #E2EBFA;\n",
              "      box-shadow: 0px 1px 2px rgba(60, 64, 67, 0.3), 0px 1px 3px 1px rgba(60, 64, 67, 0.15);\n",
              "      fill: #174EA6;\n",
              "    }\n",
              "\n",
              "    .colab-df-buttons div {\n",
              "      margin-bottom: 4px;\n",
              "    }\n",
              "\n",
              "    [theme=dark] .colab-df-convert {\n",
              "      background-color: #3B4455;\n",
              "      fill: #D2E3FC;\n",
              "    }\n",
              "\n",
              "    [theme=dark] .colab-df-convert:hover {\n",
              "      background-color: #434B5C;\n",
              "      box-shadow: 0px 1px 3px 1px rgba(0, 0, 0, 0.15);\n",
              "      filter: drop-shadow(0px 1px 2px rgba(0, 0, 0, 0.3));\n",
              "      fill: #FFFFFF;\n",
              "    }\n",
              "  </style>\n",
              "\n",
              "    <script>\n",
              "      const buttonEl =\n",
              "        document.querySelector('#df-7476129e-6c09-4e95-b8bb-f70fd0802107 button.colab-df-convert');\n",
              "      buttonEl.style.display =\n",
              "        google.colab.kernel.accessAllowed ? 'block' : 'none';\n",
              "\n",
              "      async function convertToInteractive(key) {\n",
              "        const element = document.querySelector('#df-7476129e-6c09-4e95-b8bb-f70fd0802107');\n",
              "        const dataTable =\n",
              "          await google.colab.kernel.invokeFunction('convertToInteractive',\n",
              "                                                    [key], {});\n",
              "        if (!dataTable) return;\n",
              "\n",
              "        const docLinkHtml = 'Like what you see? Visit the ' +\n",
              "          '<a target=\"_blank\" href=https://colab.research.google.com/notebooks/data_table.ipynb>data table notebook</a>'\n",
              "          + ' to learn more about interactive tables.';\n",
              "        element.innerHTML = '';\n",
              "        dataTable['output_type'] = 'display_data';\n",
              "        await google.colab.output.renderOutput(dataTable, element);\n",
              "        const docLink = document.createElement('div');\n",
              "        docLink.innerHTML = docLinkHtml;\n",
              "        element.appendChild(docLink);\n",
              "      }\n",
              "    </script>\n",
              "  </div>\n",
              "\n",
              "\n",
              "<div id=\"df-48a8e245-2c88-4a5e-b99a-6b93a2766589\">\n",
              "  <button class=\"colab-df-quickchart\" onclick=\"quickchart('df-48a8e245-2c88-4a5e-b99a-6b93a2766589')\"\n",
              "            title=\"Suggest charts\"\n",
              "            style=\"display:none;\">\n",
              "\n",
              "<svg xmlns=\"http://www.w3.org/2000/svg\" height=\"24px\"viewBox=\"0 0 24 24\"\n",
              "     width=\"24px\">\n",
              "    <g>\n",
              "        <path d=\"M19 3H5c-1.1 0-2 .9-2 2v14c0 1.1.9 2 2 2h14c1.1 0 2-.9 2-2V5c0-1.1-.9-2-2-2zM9 17H7v-7h2v7zm4 0h-2V7h2v10zm4 0h-2v-4h2v4z\"/>\n",
              "    </g>\n",
              "</svg>\n",
              "  </button>\n",
              "\n",
              "<style>\n",
              "  .colab-df-quickchart {\n",
              "      --bg-color: #E8F0FE;\n",
              "      --fill-color: #1967D2;\n",
              "      --hover-bg-color: #E2EBFA;\n",
              "      --hover-fill-color: #174EA6;\n",
              "      --disabled-fill-color: #AAA;\n",
              "      --disabled-bg-color: #DDD;\n",
              "  }\n",
              "\n",
              "  [theme=dark] .colab-df-quickchart {\n",
              "      --bg-color: #3B4455;\n",
              "      --fill-color: #D2E3FC;\n",
              "      --hover-bg-color: #434B5C;\n",
              "      --hover-fill-color: #FFFFFF;\n",
              "      --disabled-bg-color: #3B4455;\n",
              "      --disabled-fill-color: #666;\n",
              "  }\n",
              "\n",
              "  .colab-df-quickchart {\n",
              "    background-color: var(--bg-color);\n",
              "    border: none;\n",
              "    border-radius: 50%;\n",
              "    cursor: pointer;\n",
              "    display: none;\n",
              "    fill: var(--fill-color);\n",
              "    height: 32px;\n",
              "    padding: 0;\n",
              "    width: 32px;\n",
              "  }\n",
              "\n",
              "  .colab-df-quickchart:hover {\n",
              "    background-color: var(--hover-bg-color);\n",
              "    box-shadow: 0 1px 2px rgba(60, 64, 67, 0.3), 0 1px 3px 1px rgba(60, 64, 67, 0.15);\n",
              "    fill: var(--button-hover-fill-color);\n",
              "  }\n",
              "\n",
              "  .colab-df-quickchart-complete:disabled,\n",
              "  .colab-df-quickchart-complete:disabled:hover {\n",
              "    background-color: var(--disabled-bg-color);\n",
              "    fill: var(--disabled-fill-color);\n",
              "    box-shadow: none;\n",
              "  }\n",
              "\n",
              "  .colab-df-spinner {\n",
              "    border: 2px solid var(--fill-color);\n",
              "    border-color: transparent;\n",
              "    border-bottom-color: var(--fill-color);\n",
              "    animation:\n",
              "      spin 1s steps(1) infinite;\n",
              "  }\n",
              "\n",
              "  @keyframes spin {\n",
              "    0% {\n",
              "      border-color: transparent;\n",
              "      border-bottom-color: var(--fill-color);\n",
              "      border-left-color: var(--fill-color);\n",
              "    }\n",
              "    20% {\n",
              "      border-color: transparent;\n",
              "      border-left-color: var(--fill-color);\n",
              "      border-top-color: var(--fill-color);\n",
              "    }\n",
              "    30% {\n",
              "      border-color: transparent;\n",
              "      border-left-color: var(--fill-color);\n",
              "      border-top-color: var(--fill-color);\n",
              "      border-right-color: var(--fill-color);\n",
              "    }\n",
              "    40% {\n",
              "      border-color: transparent;\n",
              "      border-right-color: var(--fill-color);\n",
              "      border-top-color: var(--fill-color);\n",
              "    }\n",
              "    60% {\n",
              "      border-color: transparent;\n",
              "      border-right-color: var(--fill-color);\n",
              "    }\n",
              "    80% {\n",
              "      border-color: transparent;\n",
              "      border-right-color: var(--fill-color);\n",
              "      border-bottom-color: var(--fill-color);\n",
              "    }\n",
              "    90% {\n",
              "      border-color: transparent;\n",
              "      border-bottom-color: var(--fill-color);\n",
              "    }\n",
              "  }\n",
              "</style>\n",
              "\n",
              "  <script>\n",
              "    async function quickchart(key) {\n",
              "      const quickchartButtonEl =\n",
              "        document.querySelector('#' + key + ' button');\n",
              "      quickchartButtonEl.disabled = true;  // To prevent multiple clicks.\n",
              "      quickchartButtonEl.classList.add('colab-df-spinner');\n",
              "      try {\n",
              "        const charts = await google.colab.kernel.invokeFunction(\n",
              "            'suggestCharts', [key], {});\n",
              "      } catch (error) {\n",
              "        console.error('Error during call to suggestCharts:', error);\n",
              "      }\n",
              "      quickchartButtonEl.classList.remove('colab-df-spinner');\n",
              "      quickchartButtonEl.classList.add('colab-df-quickchart-complete');\n",
              "    }\n",
              "    (() => {\n",
              "      let quickchartButtonEl =\n",
              "        document.querySelector('#df-48a8e245-2c88-4a5e-b99a-6b93a2766589 button');\n",
              "      quickchartButtonEl.style.display =\n",
              "        google.colab.kernel.accessAllowed ? 'block' : 'none';\n",
              "    })();\n",
              "  </script>\n",
              "</div>\n",
              "\n",
              "    </div>\n",
              "  </div>\n"
            ],
            "application/vnd.google.colaboratory.intrinsic+json": {
              "type": "dataframe",
              "variable_name": "data"
            }
          },
          "metadata": {},
          "execution_count": 10
        }
      ]
    },
    {
      "cell_type": "code",
      "source": [
        "data.columns"
      ],
      "metadata": {
        "colab": {
          "base_uri": "https://localhost:8080/"
        },
        "id": "Ny9Ifp57HuaQ",
        "outputId": "d575fc65-91c2-4a50-8ce8-2619c26edf53"
      },
      "execution_count": 11,
      "outputs": [
        {
          "output_type": "execute_result",
          "data": {
            "text/plain": [
              "Index(['Age', 'RestingBP', 'Cholesterol', 'FastingBS', 'MaxHR', 'Oldpeak',\n",
              "       'HeartDisease', 'Sex - F', 'Sex - M', 'ChestPainType - ASY',\n",
              "       'ChestPainType - ATA', 'ChestPainType - NAP', 'ChestPainType - TA',\n",
              "       'RestingECG - LVH', 'RestingECG - Normal', 'RestingECG - ST',\n",
              "       'ExerciseAngina - N', 'ExerciseAngina - Y', 'ST_Slope - Down',\n",
              "       'ST_Slope - Flat', 'ST_Slope - Up'],\n",
              "      dtype='object')"
            ]
          },
          "metadata": {},
          "execution_count": 11
        }
      ]
    },
    {
      "cell_type": "code",
      "source": [
        "# Sanity Check\n",
        "for f in list(data.columns.values):\n",
        "    if data[f].dtype == object:\n",
        "        print(f)"
      ],
      "metadata": {
        "id": "wQzTSXcbHxQ7"
      },
      "execution_count": 12,
      "outputs": []
    },
    {
      "cell_type": "code",
      "source": [],
      "metadata": {
        "id": "8T6FHZz8H4Dz"
      },
      "execution_count": 12,
      "outputs": []
    },
    {
      "cell_type": "code",
      "execution_count": 13,
      "metadata": {
        "id": "muMcWZraCvIu"
      },
      "outputs": [],
      "source": [
        "# We need 4 classifiers\n",
        "import numpy as np\n",
        "from sklearn.metrics import accuracy_score\n",
        "from sklearn.model_selection import StratifiedKFold\n",
        "# 10-fold CV evaluation of a classifier\n",
        "def eval_classifier_accuracy(classifier, X, y):\n",
        "    accuracies = []\n",
        "    kf = StratifiedKFold(n_splits=10, shuffle=True, random_state=0)\n",
        "    for train_index, test_index in kf.split(X, y):\n",
        "        classifier.fit(X[train_index], y[train_index])\n",
        "        y_pred = classifier.predict(X[test_index])\n",
        "        accuracies += [accuracy_score(y[test_index], y_pred)]\n",
        "    return np.array(accuracies)"
      ]
    },
    {
      "cell_type": "code",
      "source": [
        "data.head()"
      ],
      "metadata": {
        "colab": {
          "base_uri": "https://localhost:8080/",
          "height": 273
        },
        "id": "y11zhtf0IX29",
        "outputId": "33f59278-ce23-4f6f-bf2b-cf7cfae08001"
      },
      "execution_count": 14,
      "outputs": [
        {
          "output_type": "execute_result",
          "data": {
            "text/plain": [
              "   Age  RestingBP  Cholesterol  FastingBS  MaxHR  Oldpeak  HeartDisease  \\\n",
              "0   40        140          289          0    172      0.0             0   \n",
              "1   49        160          180          0    156      1.0             1   \n",
              "2   37        130          283          0     98      0.0             0   \n",
              "3   48        138          214          0    108      1.5             1   \n",
              "4   54        150          195          0    122      0.0             0   \n",
              "\n",
              "   Sex - F  Sex - M  ChestPainType - ASY  ...  ChestPainType - NAP  \\\n",
              "0        0        1                    0  ...                    0   \n",
              "1        1        0                    0  ...                    1   \n",
              "2        0        1                    0  ...                    0   \n",
              "3        1        0                    1  ...                    0   \n",
              "4        0        1                    0  ...                    1   \n",
              "\n",
              "   ChestPainType - TA  RestingECG - LVH  RestingECG - Normal  RestingECG - ST  \\\n",
              "0                   0                 0                    1                0   \n",
              "1                   0                 0                    1                0   \n",
              "2                   0                 0                    0                1   \n",
              "3                   0                 0                    1                0   \n",
              "4                   0                 0                    1                0   \n",
              "\n",
              "   ExerciseAngina - N  ExerciseAngina - Y  ST_Slope - Down  ST_Slope - Flat  \\\n",
              "0                   1                   0                0                0   \n",
              "1                   1                   0                0                1   \n",
              "2                   1                   0                0                0   \n",
              "3                   0                   1                0                1   \n",
              "4                   1                   0                0                0   \n",
              "\n",
              "   ST_Slope - Up  \n",
              "0              1  \n",
              "1              0  \n",
              "2              1  \n",
              "3              0  \n",
              "4              1  \n",
              "\n",
              "[5 rows x 21 columns]"
            ],
            "text/html": [
              "\n",
              "  <div id=\"df-980ac4a6-9251-4e3e-8622-517f917627d9\" class=\"colab-df-container\">\n",
              "    <div>\n",
              "<style scoped>\n",
              "    .dataframe tbody tr th:only-of-type {\n",
              "        vertical-align: middle;\n",
              "    }\n",
              "\n",
              "    .dataframe tbody tr th {\n",
              "        vertical-align: top;\n",
              "    }\n",
              "\n",
              "    .dataframe thead th {\n",
              "        text-align: right;\n",
              "    }\n",
              "</style>\n",
              "<table border=\"1\" class=\"dataframe\">\n",
              "  <thead>\n",
              "    <tr style=\"text-align: right;\">\n",
              "      <th></th>\n",
              "      <th>Age</th>\n",
              "      <th>RestingBP</th>\n",
              "      <th>Cholesterol</th>\n",
              "      <th>FastingBS</th>\n",
              "      <th>MaxHR</th>\n",
              "      <th>Oldpeak</th>\n",
              "      <th>HeartDisease</th>\n",
              "      <th>Sex - F</th>\n",
              "      <th>Sex - M</th>\n",
              "      <th>ChestPainType - ASY</th>\n",
              "      <th>...</th>\n",
              "      <th>ChestPainType - NAP</th>\n",
              "      <th>ChestPainType - TA</th>\n",
              "      <th>RestingECG - LVH</th>\n",
              "      <th>RestingECG - Normal</th>\n",
              "      <th>RestingECG - ST</th>\n",
              "      <th>ExerciseAngina - N</th>\n",
              "      <th>ExerciseAngina - Y</th>\n",
              "      <th>ST_Slope - Down</th>\n",
              "      <th>ST_Slope - Flat</th>\n",
              "      <th>ST_Slope - Up</th>\n",
              "    </tr>\n",
              "  </thead>\n",
              "  <tbody>\n",
              "    <tr>\n",
              "      <th>0</th>\n",
              "      <td>40</td>\n",
              "      <td>140</td>\n",
              "      <td>289</td>\n",
              "      <td>0</td>\n",
              "      <td>172</td>\n",
              "      <td>0.0</td>\n",
              "      <td>0</td>\n",
              "      <td>0</td>\n",
              "      <td>1</td>\n",
              "      <td>0</td>\n",
              "      <td>...</td>\n",
              "      <td>0</td>\n",
              "      <td>0</td>\n",
              "      <td>0</td>\n",
              "      <td>1</td>\n",
              "      <td>0</td>\n",
              "      <td>1</td>\n",
              "      <td>0</td>\n",
              "      <td>0</td>\n",
              "      <td>0</td>\n",
              "      <td>1</td>\n",
              "    </tr>\n",
              "    <tr>\n",
              "      <th>1</th>\n",
              "      <td>49</td>\n",
              "      <td>160</td>\n",
              "      <td>180</td>\n",
              "      <td>0</td>\n",
              "      <td>156</td>\n",
              "      <td>1.0</td>\n",
              "      <td>1</td>\n",
              "      <td>1</td>\n",
              "      <td>0</td>\n",
              "      <td>0</td>\n",
              "      <td>...</td>\n",
              "      <td>1</td>\n",
              "      <td>0</td>\n",
              "      <td>0</td>\n",
              "      <td>1</td>\n",
              "      <td>0</td>\n",
              "      <td>1</td>\n",
              "      <td>0</td>\n",
              "      <td>0</td>\n",
              "      <td>1</td>\n",
              "      <td>0</td>\n",
              "    </tr>\n",
              "    <tr>\n",
              "      <th>2</th>\n",
              "      <td>37</td>\n",
              "      <td>130</td>\n",
              "      <td>283</td>\n",
              "      <td>0</td>\n",
              "      <td>98</td>\n",
              "      <td>0.0</td>\n",
              "      <td>0</td>\n",
              "      <td>0</td>\n",
              "      <td>1</td>\n",
              "      <td>0</td>\n",
              "      <td>...</td>\n",
              "      <td>0</td>\n",
              "      <td>0</td>\n",
              "      <td>0</td>\n",
              "      <td>0</td>\n",
              "      <td>1</td>\n",
              "      <td>1</td>\n",
              "      <td>0</td>\n",
              "      <td>0</td>\n",
              "      <td>0</td>\n",
              "      <td>1</td>\n",
              "    </tr>\n",
              "    <tr>\n",
              "      <th>3</th>\n",
              "      <td>48</td>\n",
              "      <td>138</td>\n",
              "      <td>214</td>\n",
              "      <td>0</td>\n",
              "      <td>108</td>\n",
              "      <td>1.5</td>\n",
              "      <td>1</td>\n",
              "      <td>1</td>\n",
              "      <td>0</td>\n",
              "      <td>1</td>\n",
              "      <td>...</td>\n",
              "      <td>0</td>\n",
              "      <td>0</td>\n",
              "      <td>0</td>\n",
              "      <td>1</td>\n",
              "      <td>0</td>\n",
              "      <td>0</td>\n",
              "      <td>1</td>\n",
              "      <td>0</td>\n",
              "      <td>1</td>\n",
              "      <td>0</td>\n",
              "    </tr>\n",
              "    <tr>\n",
              "      <th>4</th>\n",
              "      <td>54</td>\n",
              "      <td>150</td>\n",
              "      <td>195</td>\n",
              "      <td>0</td>\n",
              "      <td>122</td>\n",
              "      <td>0.0</td>\n",
              "      <td>0</td>\n",
              "      <td>0</td>\n",
              "      <td>1</td>\n",
              "      <td>0</td>\n",
              "      <td>...</td>\n",
              "      <td>1</td>\n",
              "      <td>0</td>\n",
              "      <td>0</td>\n",
              "      <td>1</td>\n",
              "      <td>0</td>\n",
              "      <td>1</td>\n",
              "      <td>0</td>\n",
              "      <td>0</td>\n",
              "      <td>0</td>\n",
              "      <td>1</td>\n",
              "    </tr>\n",
              "  </tbody>\n",
              "</table>\n",
              "<p>5 rows × 21 columns</p>\n",
              "</div>\n",
              "    <div class=\"colab-df-buttons\">\n",
              "\n",
              "  <div class=\"colab-df-container\">\n",
              "    <button class=\"colab-df-convert\" onclick=\"convertToInteractive('df-980ac4a6-9251-4e3e-8622-517f917627d9')\"\n",
              "            title=\"Convert this dataframe to an interactive table.\"\n",
              "            style=\"display:none;\">\n",
              "\n",
              "  <svg xmlns=\"http://www.w3.org/2000/svg\" height=\"24px\" viewBox=\"0 -960 960 960\">\n",
              "    <path d=\"M120-120v-720h720v720H120Zm60-500h600v-160H180v160Zm220 220h160v-160H400v160Zm0 220h160v-160H400v160ZM180-400h160v-160H180v160Zm440 0h160v-160H620v160ZM180-180h160v-160H180v160Zm440 0h160v-160H620v160Z\"/>\n",
              "  </svg>\n",
              "    </button>\n",
              "\n",
              "  <style>\n",
              "    .colab-df-container {\n",
              "      display:flex;\n",
              "      gap: 12px;\n",
              "    }\n",
              "\n",
              "    .colab-df-convert {\n",
              "      background-color: #E8F0FE;\n",
              "      border: none;\n",
              "      border-radius: 50%;\n",
              "      cursor: pointer;\n",
              "      display: none;\n",
              "      fill: #1967D2;\n",
              "      height: 32px;\n",
              "      padding: 0 0 0 0;\n",
              "      width: 32px;\n",
              "    }\n",
              "\n",
              "    .colab-df-convert:hover {\n",
              "      background-color: #E2EBFA;\n",
              "      box-shadow: 0px 1px 2px rgba(60, 64, 67, 0.3), 0px 1px 3px 1px rgba(60, 64, 67, 0.15);\n",
              "      fill: #174EA6;\n",
              "    }\n",
              "\n",
              "    .colab-df-buttons div {\n",
              "      margin-bottom: 4px;\n",
              "    }\n",
              "\n",
              "    [theme=dark] .colab-df-convert {\n",
              "      background-color: #3B4455;\n",
              "      fill: #D2E3FC;\n",
              "    }\n",
              "\n",
              "    [theme=dark] .colab-df-convert:hover {\n",
              "      background-color: #434B5C;\n",
              "      box-shadow: 0px 1px 3px 1px rgba(0, 0, 0, 0.15);\n",
              "      filter: drop-shadow(0px 1px 2px rgba(0, 0, 0, 0.3));\n",
              "      fill: #FFFFFF;\n",
              "    }\n",
              "  </style>\n",
              "\n",
              "    <script>\n",
              "      const buttonEl =\n",
              "        document.querySelector('#df-980ac4a6-9251-4e3e-8622-517f917627d9 button.colab-df-convert');\n",
              "      buttonEl.style.display =\n",
              "        google.colab.kernel.accessAllowed ? 'block' : 'none';\n",
              "\n",
              "      async function convertToInteractive(key) {\n",
              "        const element = document.querySelector('#df-980ac4a6-9251-4e3e-8622-517f917627d9');\n",
              "        const dataTable =\n",
              "          await google.colab.kernel.invokeFunction('convertToInteractive',\n",
              "                                                    [key], {});\n",
              "        if (!dataTable) return;\n",
              "\n",
              "        const docLinkHtml = 'Like what you see? Visit the ' +\n",
              "          '<a target=\"_blank\" href=https://colab.research.google.com/notebooks/data_table.ipynb>data table notebook</a>'\n",
              "          + ' to learn more about interactive tables.';\n",
              "        element.innerHTML = '';\n",
              "        dataTable['output_type'] = 'display_data';\n",
              "        await google.colab.output.renderOutput(dataTable, element);\n",
              "        const docLink = document.createElement('div');\n",
              "        docLink.innerHTML = docLinkHtml;\n",
              "        element.appendChild(docLink);\n",
              "      }\n",
              "    </script>\n",
              "  </div>\n",
              "\n",
              "\n",
              "<div id=\"df-c2951ea9-8fd4-474c-83b0-5f6a5acaab5e\">\n",
              "  <button class=\"colab-df-quickchart\" onclick=\"quickchart('df-c2951ea9-8fd4-474c-83b0-5f6a5acaab5e')\"\n",
              "            title=\"Suggest charts\"\n",
              "            style=\"display:none;\">\n",
              "\n",
              "<svg xmlns=\"http://www.w3.org/2000/svg\" height=\"24px\"viewBox=\"0 0 24 24\"\n",
              "     width=\"24px\">\n",
              "    <g>\n",
              "        <path d=\"M19 3H5c-1.1 0-2 .9-2 2v14c0 1.1.9 2 2 2h14c1.1 0 2-.9 2-2V5c0-1.1-.9-2-2-2zM9 17H7v-7h2v7zm4 0h-2V7h2v10zm4 0h-2v-4h2v4z\"/>\n",
              "    </g>\n",
              "</svg>\n",
              "  </button>\n",
              "\n",
              "<style>\n",
              "  .colab-df-quickchart {\n",
              "      --bg-color: #E8F0FE;\n",
              "      --fill-color: #1967D2;\n",
              "      --hover-bg-color: #E2EBFA;\n",
              "      --hover-fill-color: #174EA6;\n",
              "      --disabled-fill-color: #AAA;\n",
              "      --disabled-bg-color: #DDD;\n",
              "  }\n",
              "\n",
              "  [theme=dark] .colab-df-quickchart {\n",
              "      --bg-color: #3B4455;\n",
              "      --fill-color: #D2E3FC;\n",
              "      --hover-bg-color: #434B5C;\n",
              "      --hover-fill-color: #FFFFFF;\n",
              "      --disabled-bg-color: #3B4455;\n",
              "      --disabled-fill-color: #666;\n",
              "  }\n",
              "\n",
              "  .colab-df-quickchart {\n",
              "    background-color: var(--bg-color);\n",
              "    border: none;\n",
              "    border-radius: 50%;\n",
              "    cursor: pointer;\n",
              "    display: none;\n",
              "    fill: var(--fill-color);\n",
              "    height: 32px;\n",
              "    padding: 0;\n",
              "    width: 32px;\n",
              "  }\n",
              "\n",
              "  .colab-df-quickchart:hover {\n",
              "    background-color: var(--hover-bg-color);\n",
              "    box-shadow: 0 1px 2px rgba(60, 64, 67, 0.3), 0 1px 3px 1px rgba(60, 64, 67, 0.15);\n",
              "    fill: var(--button-hover-fill-color);\n",
              "  }\n",
              "\n",
              "  .colab-df-quickchart-complete:disabled,\n",
              "  .colab-df-quickchart-complete:disabled:hover {\n",
              "    background-color: var(--disabled-bg-color);\n",
              "    fill: var(--disabled-fill-color);\n",
              "    box-shadow: none;\n",
              "  }\n",
              "\n",
              "  .colab-df-spinner {\n",
              "    border: 2px solid var(--fill-color);\n",
              "    border-color: transparent;\n",
              "    border-bottom-color: var(--fill-color);\n",
              "    animation:\n",
              "      spin 1s steps(1) infinite;\n",
              "  }\n",
              "\n",
              "  @keyframes spin {\n",
              "    0% {\n",
              "      border-color: transparent;\n",
              "      border-bottom-color: var(--fill-color);\n",
              "      border-left-color: var(--fill-color);\n",
              "    }\n",
              "    20% {\n",
              "      border-color: transparent;\n",
              "      border-left-color: var(--fill-color);\n",
              "      border-top-color: var(--fill-color);\n",
              "    }\n",
              "    30% {\n",
              "      border-color: transparent;\n",
              "      border-left-color: var(--fill-color);\n",
              "      border-top-color: var(--fill-color);\n",
              "      border-right-color: var(--fill-color);\n",
              "    }\n",
              "    40% {\n",
              "      border-color: transparent;\n",
              "      border-right-color: var(--fill-color);\n",
              "      border-top-color: var(--fill-color);\n",
              "    }\n",
              "    60% {\n",
              "      border-color: transparent;\n",
              "      border-right-color: var(--fill-color);\n",
              "    }\n",
              "    80% {\n",
              "      border-color: transparent;\n",
              "      border-right-color: var(--fill-color);\n",
              "      border-bottom-color: var(--fill-color);\n",
              "    }\n",
              "    90% {\n",
              "      border-color: transparent;\n",
              "      border-bottom-color: var(--fill-color);\n",
              "    }\n",
              "  }\n",
              "</style>\n",
              "\n",
              "  <script>\n",
              "    async function quickchart(key) {\n",
              "      const quickchartButtonEl =\n",
              "        document.querySelector('#' + key + ' button');\n",
              "      quickchartButtonEl.disabled = true;  // To prevent multiple clicks.\n",
              "      quickchartButtonEl.classList.add('colab-df-spinner');\n",
              "      try {\n",
              "        const charts = await google.colab.kernel.invokeFunction(\n",
              "            'suggestCharts', [key], {});\n",
              "      } catch (error) {\n",
              "        console.error('Error during call to suggestCharts:', error);\n",
              "      }\n",
              "      quickchartButtonEl.classList.remove('colab-df-spinner');\n",
              "      quickchartButtonEl.classList.add('colab-df-quickchart-complete');\n",
              "    }\n",
              "    (() => {\n",
              "      let quickchartButtonEl =\n",
              "        document.querySelector('#df-c2951ea9-8fd4-474c-83b0-5f6a5acaab5e button');\n",
              "      quickchartButtonEl.style.display =\n",
              "        google.colab.kernel.accessAllowed ? 'block' : 'none';\n",
              "    })();\n",
              "  </script>\n",
              "</div>\n",
              "\n",
              "    </div>\n",
              "  </div>\n"
            ],
            "application/vnd.google.colaboratory.intrinsic+json": {
              "type": "dataframe",
              "variable_name": "data"
            }
          },
          "metadata": {},
          "execution_count": 14
        }
      ]
    },
    {
      "cell_type": "code",
      "source": [
        "len(data.columns)"
      ],
      "metadata": {
        "colab": {
          "base_uri": "https://localhost:8080/"
        },
        "id": "c_kydxhjI87Y",
        "outputId": "6d559092-6bbd-4c91-bbb9-74d1fd9f13f7"
      },
      "execution_count": 15,
      "outputs": [
        {
          "output_type": "execute_result",
          "data": {
            "text/plain": [
              "21"
            ]
          },
          "metadata": {},
          "execution_count": 15
        }
      ]
    },
    {
      "cell_type": "code",
      "source": [
        "data['HeartDisease']"
      ],
      "metadata": {
        "colab": {
          "base_uri": "https://localhost:8080/"
        },
        "id": "KBZgf4pMIrXW",
        "outputId": "dee52fec-3826-4d65-9c4e-dfce7d5421d0"
      },
      "execution_count": 16,
      "outputs": [
        {
          "output_type": "execute_result",
          "data": {
            "text/plain": [
              "0      0\n",
              "1      1\n",
              "2      0\n",
              "3      1\n",
              "4      0\n",
              "      ..\n",
              "913    1\n",
              "914    1\n",
              "915    1\n",
              "916    1\n",
              "917    0\n",
              "Name: HeartDisease, Length: 918, dtype: int64"
            ]
          },
          "metadata": {},
          "execution_count": 16
        }
      ]
    },
    {
      "cell_type": "code",
      "source": [
        "# Prepare the input X and y\n",
        "X = np.array(data.loc[:, data.columns != 'HeartDisease'])\n",
        "y = np.array(data.loc[:, data.columns == 'HeartDisease'].values.ravel())\n",
        "\n",
        "# Sanity Check\n",
        "print(X.shape)\n",
        "print(len(y))\n"
      ],
      "metadata": {
        "colab": {
          "base_uri": "https://localhost:8080/"
        },
        "id": "fD2US8GsItH-",
        "outputId": "99a56308-522a-4cb5-ea62-7e1f1ad315d5"
      },
      "execution_count": 17,
      "outputs": [
        {
          "output_type": "stream",
          "name": "stdout",
          "text": [
            "(918, 20)\n",
            "918\n"
          ]
        }
      ]
    },
    {
      "cell_type": "code",
      "source": [],
      "metadata": {
        "id": "iM_4VtheI4UR"
      },
      "execution_count": 17,
      "outputs": []
    },
    {
      "cell_type": "code",
      "source": [
        "from sklearn.tree import DecisionTreeClassifier\n",
        "accurracies_dt=eval_classifier_accuracy(DecisionTreeClassifier(),X,y)\n",
        "\n",
        "print(f'Decision Tree CV accuracy={np.mean(accurracies_dt)} STD={np.std(accurracies_dt)}')\n"
      ],
      "metadata": {
        "colab": {
          "base_uri": "https://localhost:8080/"
        },
        "id": "BUCdOxHRD5vC",
        "outputId": "eb80ea36-14eb-46e1-be55-dba4f1173364"
      },
      "execution_count": 18,
      "outputs": [
        {
          "output_type": "stream",
          "name": "stdout",
          "text": [
            "Decision Tree CV accuracy=0.7952221691352126 STD=0.03145359859037946\n"
          ]
        }
      ]
    },
    {
      "cell_type": "code",
      "source": [
        "from sklearn.neural_network import MLPClassifier\n",
        "accurracies_NN=eval_classifier_accuracy(MLPClassifier(hidden_layer_sizes=(50,100),max_iter=500),X,y)\n",
        "\n",
        "print(f'Neural Network CV accuracy={np.mean(accurracies_NN)} STD={np.std(accurracies_NN)}')\n"
      ],
      "metadata": {
        "colab": {
          "base_uri": "https://localhost:8080/"
        },
        "id": "RrvVgsHZJbbP",
        "outputId": "4dede91e-1414-40f3-befc-b8c8583a3d3a"
      },
      "execution_count": 19,
      "outputs": [
        {
          "output_type": "stream",
          "name": "stdout",
          "text": [
            "Neural Network CV accuracy=0.8225155279503106 STD=0.05379656286964799\n"
          ]
        }
      ]
    },
    {
      "cell_type": "code",
      "source": [
        "from sklearn.svm import SVC\n",
        "accurracies_svm=eval_classifier_accuracy(SVC(kernel='linear', probability=True),X,y)\n",
        "\n",
        "print(f'SVM Linear CV accuracy={np.mean(accurracies_svm)} STD={np.std(accurracies_svm)}')\n"
      ],
      "metadata": {
        "colab": {
          "base_uri": "https://localhost:8080/"
        },
        "id": "zdUsbba_WSH6",
        "outputId": "d63ebc78-1b6f-48ae-8228-e740a30ab726"
      },
      "execution_count": 20,
      "outputs": [
        {
          "output_type": "stream",
          "name": "stdout",
          "text": [
            "SVM Linear CV accuracy=0.8627448638318205 STD=0.02935118029423661\n"
          ]
        }
      ]
    },
    {
      "cell_type": "code",
      "source": [
        "from sklearn.naive_bayes import GaussianNB\n",
        "accurracies_NB=eval_classifier_accuracy(GaussianNB(),X,y)\n",
        "\n",
        "print(f'Naive Bayes Linear CV accuracy={np.mean(accurracies_NB)} STD={np.std(accurracies_NB)}')\n"
      ],
      "metadata": {
        "colab": {
          "base_uri": "https://localhost:8080/"
        },
        "id": "hV_xevT6XsN-",
        "outputId": "e3abecbe-7938-4221-c009-bde320fe4c3d"
      },
      "execution_count": 21,
      "outputs": [
        {
          "output_type": "stream",
          "name": "stdout",
          "text": [
            "Naive Bayes Linear CV accuracy=0.8583373148590541 STD=0.03375994800987088\n"
          ]
        }
      ]
    },
    {
      "cell_type": "code",
      "source": [
        "from sklearn.ensemble import RandomForestClassifier\n",
        "accurracies_RF=eval_classifier_accuracy(RandomForestClassifier(n_estimators=200, max_depth=5, random_state=0),X,y)\n",
        "\n",
        "print(f'Random Forest CV accuracy={np.mean(accurracies_RF)} STD={np.std(accurracies_RF)}')\n"
      ],
      "metadata": {
        "colab": {
          "base_uri": "https://localhost:8080/"
        },
        "id": "Ip1KFvnZYNOt",
        "outputId": "544615be-310e-420c-b50c-4cdf0c9b7811"
      },
      "execution_count": 22,
      "outputs": [
        {
          "output_type": "stream",
          "name": "stdout",
          "text": [
            "Random Forest CV accuracy=0.8758480649784998 STD=0.03909948185611957\n"
          ]
        }
      ]
    },
    {
      "cell_type": "markdown",
      "source": [
        "Question 2:"
      ],
      "metadata": {
        "id": "7R92YjxSZx7_"
      }
    },
    {
      "cell_type": "code",
      "source": [
        "# Main Priors Computed\n",
        "counts = np.unique(y, return_counts=True)\n",
        "NBpriors = [counts[1][0]/len(y), counts[1][1]/len(y)]\n",
        "\n",
        "print(NBpriors)"
      ],
      "metadata": {
        "colab": {
          "base_uri": "https://localhost:8080/"
        },
        "id": "p34RUgu_ZgHC",
        "outputId": "5e42433f-14d9-4c18-9a87-7aae0faee59c"
      },
      "execution_count": 23,
      "outputs": [
        {
          "output_type": "stream",
          "name": "stdout",
          "text": [
            "[0.4466230936819172, 0.5533769063180828]\n"
          ]
        }
      ]
    },
    {
      "cell_type": "code",
      "source": [
        "dt_ensembles=[]\n",
        "nn_ensembles=[]\n",
        "nb_ensembles=[]\n",
        "svc_ensembles=[]\n",
        "for i in range(100):\n",
        "  dt=DecisionTreeClassifier(max_depth=5,max_features=5)\n",
        "  svc=SVC(kernel='linear', probability=True)\n",
        "  nb=GaussianNB(priors=NBpriors)\n",
        "  nn=MLPClassifier(hidden_layer_sizes=(3,3),max_iter=30,tol=1e-1)\n",
        "\n",
        "  dt_ensembles.append(dt)\n",
        "  nn_ensembles.append(nn)\n",
        "  nb_ensembles.append(nb)\n",
        "  svc_ensembles.append(svc)\n",
        "\n",
        "\n",
        "print(len(dt_ensembles))\n",
        "print(len(nn_ensembles))\n",
        "print(len(nb_ensembles))\n",
        "print(len(svc_ensembles))\n",
        "\n",
        "\n",
        ""
      ],
      "metadata": {
        "colab": {
          "base_uri": "https://localhost:8080/"
        },
        "id": "vgeJkZG5bLCy",
        "outputId": "2b9f0f4c-358e-4ec5-cc48-2a4eef65ccb7"
      },
      "execution_count": 24,
      "outputs": [
        {
          "output_type": "stream",
          "name": "stdout",
          "text": [
            "100\n",
            "100\n",
            "100\n",
            "100\n"
          ]
        }
      ]
    },
    {
      "cell_type": "code",
      "source": [],
      "metadata": {
        "id": "mnK4DbjBhK95"
      },
      "execution_count": 24,
      "outputs": []
    },
    {
      "cell_type": "code",
      "source": [
        "# We need 4 classifiers\n",
        "import numpy as np\n",
        "from sklearn.metrics import accuracy_score\n",
        "from sklearn.model_selection import train_test_split\n",
        "\n",
        "# 10-fold CV evaluation of a classifier\n",
        "def eval_single_acc(classifier, X, y):\n",
        "  X_train, X_test, y_train, y_test = train_test_split(X, y, test_size=0.2, random_state=42)\n",
        "  classifier.fit(X_train, y_train)\n",
        "  y_pred = classifier.predict(X_test)\n",
        "  accuracy = accuracy_score(y_test, y_pred)\n",
        "  return accuracy"
      ],
      "metadata": {
        "id": "9-DDq4N7g24v"
      },
      "execution_count": 25,
      "outputs": []
    },
    {
      "cell_type": "code",
      "source": [
        "\n",
        "accuracydt=eval_single_acc(dt_ensembles[0],X,y)\n",
        "\n",
        "print(f'Decision Tree accuracy={accuracydt}')\n"
      ],
      "metadata": {
        "colab": {
          "base_uri": "https://localhost:8080/"
        },
        "id": "1H2gLYF19dOy",
        "outputId": "67020a1e-dcf8-4558-d537-a293a7977353"
      },
      "execution_count": 26,
      "outputs": [
        {
          "output_type": "stream",
          "name": "stdout",
          "text": [
            "Decision Tree accuracy=0.8206521739130435\n"
          ]
        }
      ]
    },
    {
      "cell_type": "code",
      "source": [
        "\n",
        "accuracynb=eval_single_acc(nb_ensembles[0],X,y)\n",
        "\n",
        "print(f'Naive Bayes accuracy={accuracynb}')\n",
        "\n",
        "\n"
      ],
      "metadata": {
        "colab": {
          "base_uri": "https://localhost:8080/"
        },
        "id": "eHzWUrCA-OWJ",
        "outputId": "6630396d-a9ca-4572-9096-6f6a6d14290f"
      },
      "execution_count": 27,
      "outputs": [
        {
          "output_type": "stream",
          "name": "stdout",
          "text": [
            "Naive Bayes accuracy=0.8695652173913043\n"
          ]
        }
      ]
    },
    {
      "cell_type": "code",
      "source": [
        "\n",
        "accuracynn=eval_single_acc(nn_ensembles[0],X,y)\n",
        "\n",
        "print(f'Neural Network accuracy={accuracynn}')\n"
      ],
      "metadata": {
        "colab": {
          "base_uri": "https://localhost:8080/"
        },
        "id": "HTQuyZ4L-iYF",
        "outputId": "8f04f59e-bc2c-4676-f8ca-459a079e48a0"
      },
      "execution_count": 28,
      "outputs": [
        {
          "output_type": "stream",
          "name": "stdout",
          "text": [
            "Neural Network accuracy=0.6521739130434783\n"
          ]
        },
        {
          "output_type": "stream",
          "name": "stderr",
          "text": [
            "/usr/local/lib/python3.10/dist-packages/sklearn/neural_network/_multilayer_perceptron.py:686: ConvergenceWarning: Stochastic Optimizer: Maximum iterations (30) reached and the optimization hasn't converged yet.\n",
            "  warnings.warn(\n"
          ]
        }
      ]
    },
    {
      "cell_type": "code",
      "source": [
        "\n",
        "accuracysvc=eval_single_acc(svc_ensembles[0],X,y)\n",
        "\n",
        "print(f'Support Vector Classifier accuracy={accuracysvc}')\n"
      ],
      "metadata": {
        "colab": {
          "base_uri": "https://localhost:8080/"
        },
        "id": "uyDpAfKA_Cgm",
        "outputId": "ef1ece42-8623-49db-dc8a-7215c76180a1"
      },
      "execution_count": 29,
      "outputs": [
        {
          "output_type": "stream",
          "name": "stdout",
          "text": [
            "Support Vector Classifier accuracy=0.8532608695652174\n"
          ]
        }
      ]
    },
    {
      "cell_type": "markdown",
      "source": [
        "Question 3: Write function ensemble_fit() to receive ensemble. (One of the 4 lists) as an input and train it on one of the subsets of the training data. Use random.sample. This way, each classifier will see only a differnet subset of the training dataset, also called as subsampling the input data for training. Use all features in these subssamples; only subsample the rows/observations"
      ],
      "metadata": {
        "id": "sNoWBNxwhoAS"
      }
    },
    {
      "cell_type": "code",
      "source": [
        "# Each classifier such see only a different subset of the training dataset\n",
        "import random\n",
        "def ensemble_fit(ensemble_list,k_samples,X,y):\n",
        "  ensemble_models=[]\n",
        "  random.seed(42)\n",
        "  subs=[]\n",
        "  for i in range(len(ensemble_list)):\n",
        "\n",
        "    subsample_indices=random.sample(range(len(X)),k_samples)\n",
        "    subs.append(subsample_indices)\n",
        "    X_train=[X[j] for j in subsample_indices]\n",
        "    y_train=[y[j] for j in subsample_indices]\n",
        "\n",
        "    model=ensemble_list[i].fit(X_train,y_train)\n",
        "    ensemble_models.append(model)\n",
        "  return ensemble_models\n",
        "\n",
        "\n",
        "ensemble_nb=ensemble_fit(nb_ensembles,50,X,y)\n",
        "print(ensemble_nb[0])\n",
        "print(len(ensemble_nb))\n",
        "\n",
        "\n"
      ],
      "metadata": {
        "colab": {
          "base_uri": "https://localhost:8080/"
        },
        "id": "G5tspKouhnxo",
        "outputId": "36e4d6b0-e550-401b-b632-1278beffb659"
      },
      "execution_count": 30,
      "outputs": [
        {
          "output_type": "stream",
          "name": "stdout",
          "text": [
            "GaussianNB(priors=[0.4466230936819172, 0.5533769063180828])\n",
            "100\n"
          ]
        }
      ]
    },
    {
      "cell_type": "markdown",
      "source": [
        "Question 4: Write a funciton ensemble_predict() to receive the trained ensemble as input and output a prediction for a given observation. Since each subclassifier will have its own prediction, use a voting scheme on the returned predictions."
      ],
      "metadata": {
        "id": "4f-LeGqakyM6"
      }
    },
    {
      "cell_type": "code",
      "source": [
        "def ensemble_predict(trained_models,X_observation,y_observation):\n",
        "  y_preds=[]\n",
        "  for i in range(len(trained_models)):\n",
        "    y_pred=trained_models[i].predict(X_observation)\n",
        "    y_preds.append(y_pred)\n",
        "\n",
        "  y_preds=np.array(y_preds)\n",
        "  # Voting System done through majority\n",
        "  aggregate_y_preds=[]\n",
        "\n",
        "  for j in range(y_preds.shape[1]):\n",
        "    unique,counts=np.unique(y_preds[:,j],return_counts=True)\n",
        "    max_index = np.argmax(counts)\n",
        "    agg_y_pred=unique[np.argmax(counts)]\n",
        "    aggregate_y_preds.append(agg_y_pred)\n",
        "\n",
        "  return aggregate_y_preds\n",
        "\n",
        "\n",
        "y_pred=ensemble_predict(ensemble_nb,X[366:378],y[366:378])"
      ],
      "metadata": {
        "id": "0MVHNsUcvNU7"
      },
      "execution_count": 31,
      "outputs": []
    },
    {
      "cell_type": "code",
      "source": [
        "ensemble_dt=ensemble_fit(dt_ensembles,int(0.2*len(X)),X,y)\n",
        "y_pred_dt=ensemble_predict(ensemble_dt,X[366:378],y[366:378])\n",
        "print('Decision Tree Predictions',y_pred_dt)\n",
        "\n",
        "ensemble_nb=ensemble_fit(nb_ensembles,int(0.2*len(X)),X,y)\n",
        "y_pred_nb=ensemble_predict(ensemble_nb,X[366:378],y[366:378])\n",
        "print('Naive Bayes Predictions',y_pred_nb)\n",
        "\n",
        "ensemble_nn=ensemble_fit(nn_ensembles,int(0.2*len(X)),X,y)\n",
        "y_pred_nn=ensemble_predict(ensemble_nn,X[366:378],y[366:378])\n",
        "print('Neural Network Predictions',y_pred_nn)\n",
        "\n",
        "ensemble_svc=ensemble_fit(svc_ensembles,int(0.2*len(X)),X,y)\n",
        "y_pred_svc=ensemble_predict(ensemble_svc,X[366:378],y[366:378])\n",
        "print('Support Vector Classifier Predictions',y_pred_svc)\n"
      ],
      "metadata": {
        "colab": {
          "base_uri": "https://localhost:8080/"
        },
        "id": "1EU9cs6Lxa-L",
        "outputId": "aa11c8b8-47ac-49bd-8e4c-be5a06b69a62"
      },
      "execution_count": 32,
      "outputs": [
        {
          "output_type": "stream",
          "name": "stdout",
          "text": [
            "Decision Tree Predictions [1, 1, 1, 1, 1, 1, 1, 1, 1, 0, 1, 1]\n",
            "Naive Bayes Predictions [1, 1, 1, 1, 1, 1, 1, 1, 1, 0, 1, 1]\n"
          ]
        },
        {
          "output_type": "stream",
          "name": "stderr",
          "text": [
            "/usr/local/lib/python3.10/dist-packages/sklearn/neural_network/_multilayer_perceptron.py:686: ConvergenceWarning: Stochastic Optimizer: Maximum iterations (30) reached and the optimization hasn't converged yet.\n",
            "  warnings.warn(\n",
            "/usr/local/lib/python3.10/dist-packages/sklearn/neural_network/_multilayer_perceptron.py:686: ConvergenceWarning: Stochastic Optimizer: Maximum iterations (30) reached and the optimization hasn't converged yet.\n",
            "  warnings.warn(\n",
            "/usr/local/lib/python3.10/dist-packages/sklearn/neural_network/_multilayer_perceptron.py:686: ConvergenceWarning: Stochastic Optimizer: Maximum iterations (30) reached and the optimization hasn't converged yet.\n",
            "  warnings.warn(\n",
            "/usr/local/lib/python3.10/dist-packages/sklearn/neural_network/_multilayer_perceptron.py:686: ConvergenceWarning: Stochastic Optimizer: Maximum iterations (30) reached and the optimization hasn't converged yet.\n",
            "  warnings.warn(\n",
            "/usr/local/lib/python3.10/dist-packages/sklearn/neural_network/_multilayer_perceptron.py:686: ConvergenceWarning: Stochastic Optimizer: Maximum iterations (30) reached and the optimization hasn't converged yet.\n",
            "  warnings.warn(\n",
            "/usr/local/lib/python3.10/dist-packages/sklearn/neural_network/_multilayer_perceptron.py:686: ConvergenceWarning: Stochastic Optimizer: Maximum iterations (30) reached and the optimization hasn't converged yet.\n",
            "  warnings.warn(\n",
            "/usr/local/lib/python3.10/dist-packages/sklearn/neural_network/_multilayer_perceptron.py:686: ConvergenceWarning: Stochastic Optimizer: Maximum iterations (30) reached and the optimization hasn't converged yet.\n",
            "  warnings.warn(\n",
            "/usr/local/lib/python3.10/dist-packages/sklearn/neural_network/_multilayer_perceptron.py:686: ConvergenceWarning: Stochastic Optimizer: Maximum iterations (30) reached and the optimization hasn't converged yet.\n",
            "  warnings.warn(\n",
            "/usr/local/lib/python3.10/dist-packages/sklearn/neural_network/_multilayer_perceptron.py:686: ConvergenceWarning: Stochastic Optimizer: Maximum iterations (30) reached and the optimization hasn't converged yet.\n",
            "  warnings.warn(\n",
            "/usr/local/lib/python3.10/dist-packages/sklearn/neural_network/_multilayer_perceptron.py:686: ConvergenceWarning: Stochastic Optimizer: Maximum iterations (30) reached and the optimization hasn't converged yet.\n",
            "  warnings.warn(\n",
            "/usr/local/lib/python3.10/dist-packages/sklearn/neural_network/_multilayer_perceptron.py:686: ConvergenceWarning: Stochastic Optimizer: Maximum iterations (30) reached and the optimization hasn't converged yet.\n",
            "  warnings.warn(\n",
            "/usr/local/lib/python3.10/dist-packages/sklearn/neural_network/_multilayer_perceptron.py:686: ConvergenceWarning: Stochastic Optimizer: Maximum iterations (30) reached and the optimization hasn't converged yet.\n",
            "  warnings.warn(\n",
            "/usr/local/lib/python3.10/dist-packages/sklearn/neural_network/_multilayer_perceptron.py:686: ConvergenceWarning: Stochastic Optimizer: Maximum iterations (30) reached and the optimization hasn't converged yet.\n",
            "  warnings.warn(\n",
            "/usr/local/lib/python3.10/dist-packages/sklearn/neural_network/_multilayer_perceptron.py:686: ConvergenceWarning: Stochastic Optimizer: Maximum iterations (30) reached and the optimization hasn't converged yet.\n",
            "  warnings.warn(\n",
            "/usr/local/lib/python3.10/dist-packages/sklearn/neural_network/_multilayer_perceptron.py:686: ConvergenceWarning: Stochastic Optimizer: Maximum iterations (30) reached and the optimization hasn't converged yet.\n",
            "  warnings.warn(\n",
            "/usr/local/lib/python3.10/dist-packages/sklearn/neural_network/_multilayer_perceptron.py:686: ConvergenceWarning: Stochastic Optimizer: Maximum iterations (30) reached and the optimization hasn't converged yet.\n",
            "  warnings.warn(\n",
            "/usr/local/lib/python3.10/dist-packages/sklearn/neural_network/_multilayer_perceptron.py:686: ConvergenceWarning: Stochastic Optimizer: Maximum iterations (30) reached and the optimization hasn't converged yet.\n",
            "  warnings.warn(\n",
            "/usr/local/lib/python3.10/dist-packages/sklearn/neural_network/_multilayer_perceptron.py:686: ConvergenceWarning: Stochastic Optimizer: Maximum iterations (30) reached and the optimization hasn't converged yet.\n",
            "  warnings.warn(\n",
            "/usr/local/lib/python3.10/dist-packages/sklearn/neural_network/_multilayer_perceptron.py:686: ConvergenceWarning: Stochastic Optimizer: Maximum iterations (30) reached and the optimization hasn't converged yet.\n",
            "  warnings.warn(\n"
          ]
        },
        {
          "output_type": "stream",
          "name": "stdout",
          "text": [
            "Neural Network Predictions [1, 1, 1, 1, 1, 1, 1, 1, 1, 1, 1, 1]\n",
            "Support Vector Classifier Predictions [1, 1, 1, 1, 1, 1, 1, 1, 1, 0, 1, 1]\n"
          ]
        }
      ]
    },
    {
      "cell_type": "markdown",
      "source": [
        "Question 5: Report 10 fold CV performance of the ensembles with a subsample ratio of 0.2. Compare to a regular decision tree. Now repeat these for a subsample ratio of 0.05"
      ],
      "metadata": {
        "id": "pz5DeusT1lxU"
      }
    },
    {
      "cell_type": "code",
      "source": [
        "# We need 4 classifiers\n",
        "import numpy as np\n",
        "from sklearn.metrics import accuracy_score\n",
        "from sklearn.model_selection import StratifiedKFold\n",
        "# 10-fold CV evaluation of a classifier\n",
        "def eval_ensemble_classifier_accuracy(ensemble_list, subsample,X, y):\n",
        "  accuracies = []\n",
        "  kf = StratifiedKFold(n_splits=10, shuffle=True, random_state=0)\n",
        "  for train_index, test_index in kf.split(X, y):\n",
        "    #0.2 subsample ratio\n",
        "    ensemble_models=ensemble_fit(dt_ensembles,subsample,X[train_index],y[train_index])\n",
        "    y_pred=ensemble_predict(ensemble_models,X[test_index],y[test_index])\n",
        "    accuracies += [accuracy_score(y[test_index], y_pred)]\n",
        "  return np.array(accuracies)"
      ],
      "metadata": {
        "id": "aicifkiM2Y18"
      },
      "execution_count": 33,
      "outputs": []
    },
    {
      "cell_type": "code",
      "source": [
        "subsample=int(0.2*len(X))\n",
        "accurracies_dt=eval_ensemble_classifier_accuracy(nb_ensembles,subsample,X,y)\n",
        "print(f'Decision Tree Ensemble CV accuracy={np.mean(accurracies_dt)} STD={np.std(accurracies_dt)}')\n"
      ],
      "metadata": {
        "colab": {
          "base_uri": "https://localhost:8080/"
        },
        "id": "ZrNoL1QnAheL",
        "outputId": "cbbb586b-8033-4b20-9876-685ea7845ade"
      },
      "execution_count": 34,
      "outputs": [
        {
          "output_type": "stream",
          "name": "stdout",
          "text": [
            "Decision Tree Ensemble CV accuracy=0.8649426660296227 STD=0.03382960890669875\n"
          ]
        }
      ]
    },
    {
      "cell_type": "code",
      "source": [
        "accurracies_nn_ensemble=eval_ensemble_classifier_accuracy(nn_ensembles,subsample,X,y)\n",
        "print(f'Neural Network Tree Ensemble CV accuracy={np.mean(accurracies_nn_ensemble)} STD={np.std(accurracies_nn_ensemble)}')\n"
      ],
      "metadata": {
        "colab": {
          "base_uri": "https://localhost:8080/"
        },
        "id": "Qa1eMDaPCkzK",
        "outputId": "beb1f185-d474-418e-ea10-76c0c38990f3"
      },
      "execution_count": 35,
      "outputs": [
        {
          "output_type": "stream",
          "name": "stdout",
          "text": [
            "Neural Network Tree Ensemble CV accuracy=0.8703893932154803 STD=0.034040890249568814\n"
          ]
        }
      ]
    },
    {
      "cell_type": "code",
      "source": [
        "accurracies_nb_ensemble=eval_ensemble_classifier_accuracy(nb_ensembles,subsample,X,y)\n",
        "print(f'Naive Bayes Ensemble CV accuracy={np.mean(accurracies_nb_ensemble)} STD={np.std(accurracies_nb_ensemble)}')\n"
      ],
      "metadata": {
        "colab": {
          "base_uri": "https://localhost:8080/"
        },
        "id": "L0KJWOnWC0fe",
        "outputId": "c5430863-9049-423e-a5d3-30069939b360"
      },
      "execution_count": 36,
      "outputs": [
        {
          "output_type": "stream",
          "name": "stdout",
          "text": [
            "Naive Bayes Ensemble CV accuracy=0.868179646440516 STD=0.04023461980408906\n"
          ]
        }
      ]
    },
    {
      "cell_type": "code",
      "source": [
        "accurracies_svc_ensemble=eval_ensemble_classifier_accuracy(svc_ensembles,subsample,X,y)\n",
        "print(f'Support Vector Classifer  Ensemble CV accuracy={np.mean(accurracies_svc_ensemble)} STD={np.std(accurracies_svc_ensemble)}')\n"
      ],
      "metadata": {
        "colab": {
          "base_uri": "https://localhost:8080/"
        },
        "id": "2v7w0WcfC9BA",
        "outputId": "6e54363a-47e1-48cc-a331-3f7d986f0b60"
      },
      "execution_count": 37,
      "outputs": [
        {
          "output_type": "stream",
          "name": "stdout",
          "text": [
            "Support Vector Classifer  Ensemble CV accuracy=0.8660415671285238 STD=0.03935411905823033\n"
          ]
        }
      ]
    },
    {
      "cell_type": "code",
      "source": [
        "subsample=int(0.05*len(X))\n",
        "accurracies_dt=eval_ensemble_classifier_accuracy(nb_ensembles,subsample,X,y)\n",
        "print(f'Decision Tree Ensemble CV accuracy 0.05 subsample={np.mean(accurracies_dt)} STD={np.std(accurracies_dt)}')\n",
        "\n",
        "accurracies_nn_ensemble=eval_ensemble_classifier_accuracy(nn_ensembles,subsample,X,y)\n",
        "print(f'Neural Network Tree Ensemble CV accuracy 0.05 subsample={np.mean(accurracies_nn_ensemble)} STD={np.std(accurracies_nn_ensemble)}')\n",
        "\n",
        "accurracies_nb_ensemble=eval_ensemble_classifier_accuracy(nb_ensembles,subsample,X,y)\n",
        "print(f'Naive Bayes Ensemble CV accuracy 0.05 subsample={np.mean(accurracies_nb_ensemble)} STD={np.std(accurracies_nb_ensemble)}')\n",
        "\n",
        "accurracies_svc_ensemble=eval_ensemble_classifier_accuracy(svc_ensembles,subsample,X,y)\n",
        "print(f'Support Vector Classifer  Ensemble CV accuracy 0.05 subsample={np.mean(accurracies_svc_ensemble)} STD={np.std(accurracies_svc_ensemble)}')\n",
        "\n"
      ],
      "metadata": {
        "colab": {
          "base_uri": "https://localhost:8080/"
        },
        "id": "HOWny_vRF88L",
        "outputId": "dfebf79b-cc92-4ae6-ad13-a16bfb48b247"
      },
      "execution_count": 38,
      "outputs": [
        {
          "output_type": "stream",
          "name": "stdout",
          "text": [
            "Decision Tree Ensemble CV accuracy 0.05 subsample=0.8649665551839465 STD=0.03240540889821385\n",
            "Neural Network Tree Ensemble CV accuracy 0.05 subsample=0.8605828953655041 STD=0.03961012693824763\n",
            "Naive Bayes Ensemble CV accuracy 0.05 subsample=0.8562709030100335 STD=0.04185029564533797\n",
            "Support Vector Classifer  Ensemble CV accuracy 0.05 subsample=0.8671165790731008 STD=0.043985870935627225\n"
          ]
        }
      ]
    },
    {
      "cell_type": "markdown",
      "source": [
        "Question 6: Report the 10 fold cross validation performances of teh ensembles for the training subsample ratios. Now train regular versions of those 4 classifiers and report their performance. Pass the regular classifier ot the same ensemble CV in a list one one element. THis way, the same script can be used for this entire step"
      ],
      "metadata": {
        "id": "J_3rMCUEPUsq"
      }
    },
    {
      "cell_type": "code",
      "source": [
        "subsampleratios=[0.005,0.01,0.03,0.05,0.1,0.2]\n",
        "dte=[]\n",
        "nne=[]\n",
        "nbe=[]\n",
        "svce=[]\n",
        "\n",
        "dt=[]\n",
        "nn=[]\n",
        "nb=[]\n",
        "svc=[]\n",
        "\n",
        "for ratio in subsampleratios:\n",
        "\n",
        "\n",
        "  subsample=int(ratio*len(X))\n",
        "\n",
        "  accurracies_dt=eval_ensemble_classifier_accuracy(nb_ensembles,subsample,X,y)\n",
        "  print(f'Decision Tree Ensemble CV accuracy with {ratio} subsample={np.mean(accurracies_dt)} STD={np.std(accurracies_dt)}')\n",
        "  dte.append(np.mean(accurracies_dt))\n",
        "\n",
        "  accurracies_nn_ensemble=eval_ensemble_classifier_accuracy(nn_ensembles,subsample,X,y)\n",
        "  print(f'Neural Network Tree Ensemble CV accuracy with {ratio} subsample={np.mean(accurracies_nn_ensemble)} STD={np.std(accurracies_nn_ensemble)}')\n",
        "  nne.append(np.mean(accurracies_nn_ensemble))\n",
        "\n",
        "  accurracies_nb_ensemble=eval_ensemble_classifier_accuracy(nb_ensembles,subsample,X,y)\n",
        "  print(f'Naive Bayes Ensemble CV accuracy with {ratio} subsample={np.mean(accurracies_nb_ensemble)} STD={np.std(accurracies_nb_ensemble)}')\n",
        "  nbe.append(np.mean(accurracies_nb_ensemble))\n",
        "\n",
        "  accurracies_svc_ensemble=eval_ensemble_classifier_accuracy(svc_ensembles,subsample,X,y)\n",
        "  print(f'Support Vector Classifer  Ensemble CV accuracy with {ratio} subsample={np.mean(accurracies_svc_ensemble)} STD={np.std(accurracies_svc_ensemble)}')\n",
        "  svce.append(np.mean(accurracies_svc_ensemble))\n",
        "\n",
        "\n",
        "  accdt=eval_ensemble_classifier_accuracy([DecisionTreeClassifier()],subsample,X,y)\n",
        "  print(f'Decision Tree Regular  CV accuracy with {ratio} subsample={np.mean(accdt)} STD={np.std(accdt)}')\n",
        "  dt.append(np.mean(accdt))\n",
        "\n",
        "  accnn=eval_ensemble_classifier_accuracy([MLPClassifier()],subsample,X,y)\n",
        "  print(f'Neural Network Regular CV accuracy with {ratio} subsample={np.mean(accnn)} STD={np.std(accnn)}')\n",
        "  nn.append(np.mean(accnn))\n",
        "\n",
        "  accnb=eval_ensemble_classifier_accuracy([GaussianNB(priors=NBpriors)],subsample,X,y)\n",
        "  print(f'Naive Bayes Regular CV accuracy with {ratio} subsample={np.mean(accnb)} STD={np.std(accnb)}')\n",
        "  nb.append(np.mean(accnb))\n",
        "\n",
        "  accsvc=eval_ensemble_classifier_accuracy([SVC(kernel='linear', probability=True)],subsample,X,y)\n",
        "  print(f'Support Vector Machine Classifier Regular accuracy with {ratio} subsample={np.mean(accsvc)} STD={np.std(accsvc)}')\n",
        "  svc.append(np.mean(accsvc))\n",
        "\n",
        "\n",
        "\n",
        "\n",
        "\n"
      ],
      "metadata": {
        "colab": {
          "base_uri": "https://localhost:8080/"
        },
        "id": "fvhxyVFyLIQI",
        "outputId": "786f6d05-5f88-4286-e265-b8f6c04692a6"
      },
      "execution_count": 39,
      "outputs": [
        {
          "output_type": "stream",
          "name": "stdout",
          "text": [
            "Decision Tree Ensemble CV accuracy with 0.005 subsample=0.8344720496894411 STD=0.03844242238756361\n",
            "Neural Network Tree Ensemble CV accuracy with 0.005 subsample=0.8268633540372672 STD=0.04116698995407835\n",
            "Naive Bayes Ensemble CV accuracy with 0.005 subsample=0.8246894409937889 STD=0.045021393063342206\n",
            "Support Vector Classifer  Ensemble CV accuracy with 0.005 subsample=0.8409937888198759 STD=0.033787271369090946\n",
            "Decision Tree Regular  CV accuracy with 0.005 subsample=0.8355709507883422 STD=0.040286216828019396\n",
            "Neural Network Regular CV accuracy with 0.005 subsample=0.8311753463927378 STD=0.042345377492396676\n",
            "Naive Bayes Regular CV accuracy with 0.005 subsample=0.8453893932154802 STD=0.04062182636378622\n",
            "Support Vector Machine Classifier Regular accuracy with 0.005 subsample=0.8464524605828954 STD=0.04552404932205731\n",
            "Decision Tree Ensemble CV accuracy with 0.01 subsample=0.8409698996655519 STD=0.03944016178345217\n",
            "Neural Network Tree Ensemble CV accuracy with 0.01 subsample=0.8453655040611563 STD=0.04375705389405009\n",
            "Naive Bayes Ensemble CV accuracy with 0.01 subsample=0.8497133301481128 STD=0.04879297050265874\n",
            "Support Vector Classifer  Ensemble CV accuracy with 0.01 subsample=0.8497133301481128 STD=0.03800766705214975\n",
            "Decision Tree Regular  CV accuracy with 0.01 subsample=0.8431557572861921 STD=0.03815792156244952\n",
            "Neural Network Regular CV accuracy with 0.01 subsample=0.843179646440516 STD=0.03989637003691969\n",
            "Naive Bayes Regular CV accuracy with 0.01 subsample=0.8475513616817965 STD=0.03980380648368244\n",
            "Support Vector Machine Classifier Regular accuracy with 0.01 subsample=0.8475274725274726 STD=0.036464595236723414\n",
            "Decision Tree Ensemble CV accuracy with 0.03 subsample=0.8573220258002868 STD=0.041605493070476715\n",
            "Neural Network Tree Ensemble CV accuracy with 0.03 subsample=0.8508480649784997 STD=0.04795666810171723\n",
            "Naive Bayes Ensemble CV accuracy with 0.03 subsample=0.8551958910654565 STD=0.039229928475399044\n",
            "Support Vector Classifer  Ensemble CV accuracy with 0.03 subsample=0.8616817964644052 STD=0.03848905308025\n",
            "Decision Tree Regular  CV accuracy with 0.03 subsample=0.8562231247013857 STD=0.04633695613855371\n",
            "Neural Network Regular CV accuracy with 0.03 subsample=0.859519827998089 STD=0.039357679002594605\n",
            "Naive Bayes Regular CV accuracy with 0.03 subsample=0.8606187290969901 STD=0.03596081343620958\n",
            "Support Vector Machine Classifier Regular accuracy with 0.03 subsample=0.8616817964644052 STD=0.04257017807640281\n",
            "Decision Tree Ensemble CV accuracy with 0.05 subsample=0.8584089823220259 STD=0.038749879929042906\n",
            "Neural Network Tree Ensemble CV accuracy with 0.05 subsample=0.8649904443382705 STD=0.035737809583049535\n",
            "Naive Bayes Ensemble CV accuracy with 0.05 subsample=0.859495938843765 STD=0.043016402596137544\n",
            "Support Vector Classifer  Ensemble CV accuracy with 0.05 subsample=0.8595437171524128 STD=0.03713981640596788\n",
            "Decision Tree Regular  CV accuracy with 0.05 subsample=0.8660535117056856 STD=0.031537764507410596\n",
            "Neural Network Regular CV accuracy with 0.05 subsample=0.8638795986622074 STD=0.0326979260049737\n",
            "Naive Bayes Regular CV accuracy with 0.05 subsample=0.8616937410415672 STD=0.03932507644373168\n",
            "Support Vector Machine Classifier Regular accuracy with 0.05 subsample=0.8606187290969899 STD=0.038259748551421585\n",
            "Decision Tree Ensemble CV accuracy with 0.1 subsample=0.8638676540850454 STD=0.03999486266014684\n",
            "Neural Network Tree Ensemble CV accuracy with 0.1 subsample=0.8638795986622074 STD=0.041740485115987117\n",
            "Naive Bayes Ensemble CV accuracy with 0.1 subsample=0.8638915432393695 STD=0.0371041423902466\n",
            "Support Vector Classifer  Ensemble CV accuracy with 0.1 subsample=0.8627926421404682 STD=0.03450792476592519\n",
            "Decision Tree Regular  CV accuracy with 0.1 subsample=0.8638676540850454 STD=0.03684494716064204\n",
            "Neural Network Regular CV accuracy with 0.1 subsample=0.8649665551839465 STD=0.040292486534546146\n",
            "Naive Bayes Regular CV accuracy with 0.1 subsample=0.8606306736741519 STD=0.03669660265159563\n",
            "Support Vector Machine Classifier Regular accuracy with 0.1 subsample=0.8693502150023888 STD=0.03977930850441903\n",
            "Decision Tree Ensemble CV accuracy with 0.2 subsample=0.8660296225513617 STD=0.042598227391395536\n",
            "Neural Network Tree Ensemble CV accuracy with 0.2 subsample=0.8616937410415673 STD=0.03810437873648173\n",
            "Naive Bayes Ensemble CV accuracy with 0.2 subsample=0.8692785475394172 STD=0.029793865244966806\n",
            "Support Vector Classifer  Ensemble CV accuracy with 0.2 subsample=0.8704013377926423 STD=0.03245801208989561\n",
            "Decision Tree Regular  CV accuracy with 0.2 subsample=0.8671404682274249 STD=0.03776357173651625\n",
            "Neural Network Regular CV accuracy with 0.2 subsample=0.8671165790731008 STD=0.03413262983218792\n",
            "Naive Bayes Regular CV accuracy with 0.2 subsample=0.8671404682274249 STD=0.03607871543556298\n",
            "Support Vector Machine Classifier Regular accuracy with 0.2 subsample=0.8671165790731008 STD=0.027533856740507383\n"
          ]
        }
      ]
    },
    {
      "cell_type": "code",
      "source": [
        "len(dte)"
      ],
      "metadata": {
        "colab": {
          "base_uri": "https://localhost:8080/"
        },
        "id": "TXCLQLi0QqZo",
        "outputId": "61ae13b1-ce0a-4158-ff05-7157cf710c14"
      },
      "execution_count": 40,
      "outputs": [
        {
          "output_type": "execute_result",
          "data": {
            "text/plain": [
              "6"
            ]
          },
          "metadata": {},
          "execution_count": 40
        }
      ]
    },
    {
      "cell_type": "markdown",
      "source": [
        "Question 7: For each of the 4 types of classifiers, plot the performances of the ensemble at the different subsample ratios and the performances of the regular classifier at the different subsample ratios on the same plot. Thus ,you should have 4 plots, one for each classifier. To make it graphically clear which performanes are ensemble vs regular, plotting in 2 different colros is reccomended."
      ],
      "metadata": {
        "id": "vMKF57DFPjUT"
      }
    },
    {
      "cell_type": "code",
      "source": [
        "# Naive Bayes\n",
        "import matplotlib.pyplot as plt\n",
        "\n",
        "plt.plot(subsampleratios,dte,color='Blue',label='Decision Tree Classifier Ensemble Learning')\n",
        "plt.plot(subsampleratios,dt,color='Red',label='Decision Tree Classifier Regular Learning')\n",
        "\n",
        "# Add labels and a legend\n",
        "plt.xlabel('Subsample Ratios')\n",
        "plt.ylabel('Mean Accuracy After 10 fold Cross Validation')\n",
        "plt.title('Decision Tree Ensemble vs Regular Classificaiton of Heart Disease')\n",
        "plt.legend()\n"
      ],
      "metadata": {
        "colab": {
          "base_uri": "https://localhost:8080/",
          "height": 490
        },
        "id": "1cXwdgsWOW5p",
        "outputId": "27b2ee5f-6ebe-4e63-96f0-95b8658f4d1a"
      },
      "execution_count": 41,
      "outputs": [
        {
          "output_type": "execute_result",
          "data": {
            "text/plain": [
              "<matplotlib.legend.Legend at 0x7f6ab3569cc0>"
            ]
          },
          "metadata": {},
          "execution_count": 41
        },
        {
          "output_type": "display_data",
          "data": {
            "text/plain": [
              "<Figure size 640x480 with 1 Axes>"
            ],
            "image/png": "[encoded data removed]"
          },
          "metadata": {}
        }
      ]
    },
    {
      "cell_type": "code",
      "source": [
        "# Neural Network\n",
        "import matplotlib.pyplot as plt\n",
        "\n",
        "plt.plot(subsampleratios,nne,color='Blue',label='Neural Network Classifier Ensemble Learning')\n",
        "plt.plot(subsampleratios,nn,color='Red',label='Neural Network Classifier Regular Learning')\n",
        "\n",
        "# Add labels and a legend\n",
        "plt.xlabel('Subsample Ratios')\n",
        "plt.ylabel('Mean Accuracy After 10 fold Cross Validation')\n",
        "plt.title('Neural Network Ensemble vs Regular Classificaiton of Heart Disease')\n",
        "plt.legend()\n"
      ],
      "metadata": {
        "colab": {
          "base_uri": "https://localhost:8080/",
          "height": 490
        },
        "id": "ZtZg5rgSQk67",
        "outputId": "cd5db714-26be-4e91-9361-02370fbb01f4"
      },
      "execution_count": 42,
      "outputs": [
        {
          "output_type": "execute_result",
          "data": {
            "text/plain": [
              "<matplotlib.legend.Legend at 0x7f6ab356ad10>"
            ]
          },
          "metadata": {},
          "execution_count": 42
        },
        {
          "output_type": "display_data",
          "data": {
            "text/plain": [
              "<Figure size 640x480 with 1 Axes>"
            ],
            "image/png": "[encoded data removed]"
          },
          "metadata": {}
        }
      ]
    },
    {
      "cell_type": "code",
      "source": [
        "# Naive Bayes\n",
        "import matplotlib.pyplot as plt\n",
        "\n",
        "plt.plot(subsampleratios,nbe,color='Blue',label='Naive Bayes Classifier Ensemble Learning')\n",
        "plt.plot(subsampleratios,nb,color='Red',label='Naive Bayes Classifier Regular Learning')\n",
        "\n",
        "# Add labels and a legend\n",
        "plt.xlabel('Subsample Ratios')\n",
        "plt.ylabel('Mean Accuracy After 10 fold Cross Validation')\n",
        "plt.title('Naive Bayes Ensemble vs Regular Classificaiton of Heart Disease')\n",
        "plt.legend()\n"
      ],
      "metadata": {
        "colab": {
          "base_uri": "https://localhost:8080/",
          "height": 490
        },
        "id": "fpwiyx39SGgm",
        "outputId": "5a3868e7-d504-4b8b-e5b2-edd06fc4a80e"
      },
      "execution_count": 43,
      "outputs": [
        {
          "output_type": "execute_result",
          "data": {
            "text/plain": [
              "<matplotlib.legend.Legend at 0x7f6ab350a410>"
            ]
          },
          "metadata": {},
          "execution_count": 43
        },
        {
          "output_type": "display_data",
          "data": {
            "text/plain": [
              "<Figure size 640x480 with 1 Axes>"
            ],
            "image/png": "[encoded data removed]"
          },
          "metadata": {}
        }
      ]
    },
    {
      "cell_type": "code",
      "source": [
        "# Naive Bayes\n",
        "import matplotlib.pyplot as plt\n",
        "\n",
        "plt.plot(subsampleratios,svce,color='Blue',label='Support Vector Classifier Ensemble Learning')\n",
        "plt.plot(subsampleratios,svc,color='Red',label='Support Vector Classifier Regular Learning')\n",
        "\n",
        "# Add labels and a legend\n",
        "plt.xlabel('Subsample Ratios')\n",
        "plt.ylabel('Mean Accuracy After 10 fold Cross Validation')\n",
        "plt.title('Support Vector Classifier Ensemble vs Regular Classificaiton of Heart Disease')\n",
        "plt.legend()\n"
      ],
      "metadata": {
        "colab": {
          "base_uri": "https://localhost:8080/",
          "height": 472
        },
        "id": "MBf6GF4-SWuO",
        "outputId": "fb4980db-95b9-43e0-d419-aa82efc2727b"
      },
      "execution_count": 44,
      "outputs": [
        {
          "output_type": "execute_result",
          "data": {
            "text/plain": [
              "<matplotlib.legend.Legend at 0x7f6ab353f640>"
            ]
          },
          "metadata": {},
          "execution_count": 44
        },
        {
          "output_type": "display_data",
          "data": {
            "text/plain": [
              "<Figure size 640x480 with 1 Axes>"
            ],
            "image/png": "[encoded data removed]"
          },
          "metadata": {}
        }
      ]
    },
    {
      "cell_type": "markdown",
      "source": [
        "**Report Your detailed observations**:\n",
        "\n",
        "Based on the four graphs showing the performance of the regular vs ensemble classifier across the different subsample ratios, it is clear that there is variation in terms of classifier performance. First, each curve consistenly showed better perofrmance as the subsample ratio increased. This is mostly due to the fact that more data is used for training each weak classifier. Secondly, Naive Bayes classifier, decision trees, and support vector classifiers all show an increase in performance while using ensmeble learning, while a neural network is shown to not benefit from this strategy. To expand on this, both curves were relatively similar in terms of structure, signaling that ensemble learning did not provide any added functionality in terms of learning. This is most likely due to the fact that weak classifier perceptron was already not powerful and the voting scheme aggregated the majority of votes for each weak classifier. Typically, neural networks employ connected layers to gain deeper and more meaningful representaitons of the data, and all the ensemble learning did in this case was aggregate the results of several weak learners, resulting in an effective use of ensemble learning. On the other hand, however, decision trees did show a jump in performance up until a certain subsample ratio. Since decision trees use ensemble methods to form a random forest, this makes sense, since we are using a bagging approach. Support vector classifiers also had an increase in performance, possibly due to the fact that several decision boundaries based on the weak learners were aggregated for a majority, as opposed to one from the single weak learner. This was shown after a subsample ratio was increased past 0.2, singaling that the size of the decision boundary increased. Similarly, the circular decision boundary of naive bayes was similarly aggregated over a greater area as the subsample ratio increased past 0.05 for the Naive Bayes ensemble method. If all methods used boosting techniques, it is possible that performance could be used increased even more, since the errors made are corrected sequentially."
      ],
      "metadata": {
        "id": "8x_qxX7w6bM8"
      }
    },
    {
      "cell_type": "code",
      "source": [],
      "metadata": {
        "id": "BWyG6VUzSiYP"
      },
      "execution_count": 44,
      "outputs": []
    }
  ]
}